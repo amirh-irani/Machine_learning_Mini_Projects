{
 "cells": [
  {
   "cell_type": "markdown",
   "id": "7dacb346-bfcd-42cf-a1f9-40701837167f",
   "metadata": {},
   "source": [
    "# Loading Regression Data\n",
    "Load appropriate dataset here"
   ]
  },
  {
   "cell_type": "code",
   "execution_count": 1,
   "id": "cdc18313",
   "metadata": {},
   "outputs": [
    {
     "data": {
      "text/html": [
       "<div>\n",
       "<style scoped>\n",
       "    .dataframe tbody tr th:only-of-type {\n",
       "        vertical-align: middle;\n",
       "    }\n",
       "\n",
       "    .dataframe tbody tr th {\n",
       "        vertical-align: top;\n",
       "    }\n",
       "\n",
       "    .dataframe thead th {\n",
       "        text-align: right;\n",
       "    }\n",
       "</style>\n",
       "<table border=\"1\" class=\"dataframe\">\n",
       "  <thead>\n",
       "    <tr style=\"text-align: right;\">\n",
       "      <th></th>\n",
       "      <th>age</th>\n",
       "      <th>sex</th>\n",
       "      <th>bmi</th>\n",
       "      <th>bp</th>\n",
       "      <th>s1</th>\n",
       "      <th>s2</th>\n",
       "      <th>s3</th>\n",
       "      <th>s4</th>\n",
       "      <th>s5</th>\n",
       "      <th>s6</th>\n",
       "      <th>target</th>\n",
       "    </tr>\n",
       "  </thead>\n",
       "  <tbody>\n",
       "    <tr>\n",
       "      <th>0</th>\n",
       "      <td>0.038076</td>\n",
       "      <td>0.050680</td>\n",
       "      <td>0.061696</td>\n",
       "      <td>0.021872</td>\n",
       "      <td>-0.044223</td>\n",
       "      <td>-0.034821</td>\n",
       "      <td>-0.043401</td>\n",
       "      <td>-0.002592</td>\n",
       "      <td>0.019907</td>\n",
       "      <td>-0.017646</td>\n",
       "      <td>151.0</td>\n",
       "    </tr>\n",
       "    <tr>\n",
       "      <th>1</th>\n",
       "      <td>-0.001882</td>\n",
       "      <td>-0.044642</td>\n",
       "      <td>-0.051474</td>\n",
       "      <td>-0.026328</td>\n",
       "      <td>-0.008449</td>\n",
       "      <td>-0.019163</td>\n",
       "      <td>0.074412</td>\n",
       "      <td>-0.039493</td>\n",
       "      <td>-0.068332</td>\n",
       "      <td>-0.092204</td>\n",
       "      <td>75.0</td>\n",
       "    </tr>\n",
       "    <tr>\n",
       "      <th>2</th>\n",
       "      <td>0.085299</td>\n",
       "      <td>0.050680</td>\n",
       "      <td>0.044451</td>\n",
       "      <td>-0.005670</td>\n",
       "      <td>-0.045599</td>\n",
       "      <td>-0.034194</td>\n",
       "      <td>-0.032356</td>\n",
       "      <td>-0.002592</td>\n",
       "      <td>0.002861</td>\n",
       "      <td>-0.025930</td>\n",
       "      <td>141.0</td>\n",
       "    </tr>\n",
       "    <tr>\n",
       "      <th>3</th>\n",
       "      <td>-0.089063</td>\n",
       "      <td>-0.044642</td>\n",
       "      <td>-0.011595</td>\n",
       "      <td>-0.036656</td>\n",
       "      <td>0.012191</td>\n",
       "      <td>0.024991</td>\n",
       "      <td>-0.036038</td>\n",
       "      <td>0.034309</td>\n",
       "      <td>0.022688</td>\n",
       "      <td>-0.009362</td>\n",
       "      <td>206.0</td>\n",
       "    </tr>\n",
       "    <tr>\n",
       "      <th>4</th>\n",
       "      <td>0.005383</td>\n",
       "      <td>-0.044642</td>\n",
       "      <td>-0.036385</td>\n",
       "      <td>0.021872</td>\n",
       "      <td>0.003935</td>\n",
       "      <td>0.015596</td>\n",
       "      <td>0.008142</td>\n",
       "      <td>-0.002592</td>\n",
       "      <td>-0.031988</td>\n",
       "      <td>-0.046641</td>\n",
       "      <td>135.0</td>\n",
       "    </tr>\n",
       "  </tbody>\n",
       "</table>\n",
       "</div>"
      ],
      "text/plain": [
       "        age       sex       bmi        bp        s1        s2        s3  \\\n",
       "0  0.038076  0.050680  0.061696  0.021872 -0.044223 -0.034821 -0.043401   \n",
       "1 -0.001882 -0.044642 -0.051474 -0.026328 -0.008449 -0.019163  0.074412   \n",
       "2  0.085299  0.050680  0.044451 -0.005670 -0.045599 -0.034194 -0.032356   \n",
       "3 -0.089063 -0.044642 -0.011595 -0.036656  0.012191  0.024991 -0.036038   \n",
       "4  0.005383 -0.044642 -0.036385  0.021872  0.003935  0.015596  0.008142   \n",
       "\n",
       "         s4        s5        s6  target  \n",
       "0 -0.002592  0.019907 -0.017646   151.0  \n",
       "1 -0.039493 -0.068332 -0.092204    75.0  \n",
       "2 -0.002592  0.002861 -0.025930   141.0  \n",
       "3  0.034309  0.022688 -0.009362   206.0  \n",
       "4 -0.002592 -0.031988 -0.046641   135.0  "
      ]
     },
     "execution_count": 1,
     "metadata": {},
     "output_type": "execute_result"
    }
   ],
   "source": [
    "from sklearn.datasets import load_diabetes\n",
    "\n",
    "# Loading the dataset from scikit learn.\n",
    "df = load_diabetes(as_frame=True).frame\n",
    "df.head()"
   ]
  },
  {
   "cell_type": "markdown",
   "id": "864ccb7c-dc4b-4748-8e66-ff2f9de1428b",
   "metadata": {},
   "source": [
    "# Multivariate Linear Regression\n",
    "(Split your dataset here)"
   ]
  },
  {
   "cell_type": "code",
   "execution_count": 2,
   "id": "08d4bc48",
   "metadata": {},
   "outputs": [],
   "source": [
    "from sklearn.model_selection import train_test_split\n",
    "\n",
    "# Creating the independent and dependent sets of variables from the main dataframe. \n",
    "x = df.drop(\"target\", axis=1)\n",
    "y = df[\"target\"]\n",
    "\n",
    "# Spliting the dataset in train and test sets. \n",
    "x_train, x_test, y_train, y_test = train_test_split(x, y, test_size=0.2, shuffle=False, random_state=0) "
   ]
  },
  {
   "cell_type": "markdown",
   "id": "24f1cd1c-f781-4654-9a88-ccffdabf4c10",
   "metadata": {},
   "source": [
    "## Feature selection\n",
    "### Pearsons correlation\n",
    "#### Correlation matrix\n",
    "(Create coleration matrix here)"
   ]
  },
  {
   "cell_type": "code",
   "execution_count": 3,
   "id": "8be7a817",
   "metadata": {},
   "outputs": [
    {
     "data": {
      "image/png": "[encoded data removed]",
      "text/plain": [
       "<Figure size 1152x864 with 2 Axes>"
      ]
     },
     "metadata": {
      "needs_background": "light"
     },
     "output_type": "display_data"
    }
   ],
   "source": [
    "from re import A\n",
    "import seaborn as sns\n",
    "import matplotlib.pyplot as plt\n",
    "\n",
    "plt.figure(figsize=(16,12))\n",
    "corr = df.corr()\n",
    "sns.heatmap(corr, annot=True, cmap=plt.cm.Greens)\n",
    "plt.show() "
   ]
  },
  {
   "cell_type": "markdown",
   "id": "8ee25e5c-259a-4b8e-94d1-2921ab709b37",
   "metadata": {},
   "source": [
    "#### Use pearsons correlation to get the best 5 features. Get mse and rsquared on the testing set"
   ]
  },
  {
   "cell_type": "code",
   "execution_count": 4,
   "id": "24932c56",
   "metadata": {},
   "outputs": [],
   "source": [
    "from bdb import set_trace\n",
    "from sklearn.feature_selection import SelectKBest, r_regression\n",
    "\n",
    "k_in = 5\n",
    "selector = SelectKBest(r_regression, k=k_in).fit(x_train, y_train)\n",
    "x_train_pearson = selector.transform(x_train)\n",
    "x_test_pearson  = selector.transform(x_test)"
   ]
  },
  {
   "cell_type": "code",
   "execution_count": 5,
   "id": "4920b0d1",
   "metadata": {},
   "outputs": [
    {
     "name": "stdout",
     "output_type": "stream",
     "text": [
      "mean squared error: 3146.1155029775973, r2 score: 0.5100859243647621\n"
     ]
    }
   ],
   "source": [
    "from sklearn.linear_model import LinearRegression\n",
    "from sklearn.metrics import mean_squared_error, r2_score\n",
    "\n",
    "# Generating a linear regression model and predicting the target feature\n",
    "model = LinearRegression().fit(x_train_pearson, y_train)\n",
    "y_pred = model.predict(x_test_pearson)\n",
    "\n",
    "# Getting the metrics values for my model. \n",
    "mse = mean_squared_error(y_test, y_pred) \n",
    "r2 = r2_score(y_test, y_pred) \n",
    "\n",
    "print(f\"mean squared error: {mse}, r2 score: {r2}\")"
   ]
  },
  {
   "cell_type": "markdown",
   "id": "c7b2bda7-054a-4918-95e8-9c9059d90e85",
   "metadata": {},
   "source": [
    "##### Show which features were selected"
   ]
  },
  {
   "cell_type": "code",
   "execution_count": 6,
   "id": "8c9b07c1",
   "metadata": {},
   "outputs": [
    {
     "name": "stdout",
     "output_type": "stream",
     "text": [
      "Index(['s6', 'bp', 's4', 's5', 'bmi'], dtype='object')\n"
     ]
    }
   ],
   "source": [
    "import numpy as np \n",
    "\n",
    "top_n = np.argsort(selector.scores_)[-k_in:]\n",
    "print(df.iloc[:,top_n].columns)"
   ]
  },
  {
   "cell_type": "markdown",
   "id": "d00f1a60-d615-4e8d-a0bd-84dd5afa6f78",
   "metadata": {},
   "source": [
    "### Forward selection\n",
    "\n",
    "#### Use forward selection to get best features with a tol of 0.01 for mean squared error (Calculate mse and rsquared)"
   ]
  },
  {
   "cell_type": "code",
   "execution_count": 7,
   "id": "8211b5c8",
   "metadata": {},
   "outputs": [],
   "source": [
    "from sklearn.feature_selection import SequentialFeatureSelector \n",
    "\n",
    "reg = LinearRegression()\n",
    "sfs = SequentialFeatureSelector(estimator=reg, n_features_to_select='auto', scoring='neg_mean_squared_error', tol=0.01, direction='forward', )\n",
    "sfs.fit(x_train, y_train)\n",
    "x_train_fwd = sfs.transform(x_train)\n",
    "x_test_fwd = sfs.transform(x_test)"
   ]
  },
  {
   "cell_type": "code",
   "execution_count": 8,
   "id": "a310f0b0",
   "metadata": {},
   "outputs": [
    {
     "name": "stdout",
     "output_type": "stream",
     "text": [
      "mean squared error: 2957.909868834236, r2 score: 0.5393933637112904\n"
     ]
    }
   ],
   "source": [
    "# Generating a linear regression model and predicting the target feature. \n",
    "model = LinearRegression().fit(x_train_fwd, y_train)\n",
    "y_pred = model.predict(x_test_fwd)\n",
    "\n",
    "# Getting the metrics values for my model. \n",
    "mse = mean_squared_error(y_test, y_pred) \n",
    "r2 = r2_score(y_test, y_pred) \n",
    "\n",
    "print(f\"mean squared error: {mse}, r2 score: {r2}\")"
   ]
  },
  {
   "cell_type": "markdown",
   "id": "2fd13582-8236-4b17-9a4f-346cd76f877f",
   "metadata": {},
   "source": [
    "##### Show which features were selected"
   ]
  },
  {
   "cell_type": "code",
   "execution_count": 9,
   "id": "9b3a1fc6",
   "metadata": {},
   "outputs": [
    {
     "data": {
      "text/plain": [
       "Index(['sex', 'bmi', 'bp', 's1', 's4', 's5'], dtype='object')"
      ]
     },
     "execution_count": 9,
     "metadata": {},
     "output_type": "execute_result"
    }
   ],
   "source": [
    "df.columns[sfs.get_support(indices=True)]"
   ]
  },
  {
   "cell_type": "markdown",
   "id": "5947d160-c64e-466a-b668-9997e611924b",
   "metadata": {},
   "source": [
    "### Backward selection\n",
    "#### Use backward selection to get best features with a tol of 0.01 for mean squared error (Calculate mse and rsquared)"
   ]
  },
  {
   "cell_type": "code",
   "execution_count": 10,
   "id": "9199e742",
   "metadata": {},
   "outputs": [],
   "source": [
    "from sklearn.feature_selection import SequentialFeatureSelector \n",
    "\n",
    "reg = LinearRegression()\n",
    "sfs = SequentialFeatureSelector(estimator=reg, n_features_to_select='auto', scoring='neg_mean_squared_error', tol=0.01, direction='backward', )\n",
    "sfs.fit(x_train, y_train)\n",
    "x_train_bwd = sfs.transform(x_train)\n",
    "x_test_bwd = sfs.transform(x_test)  "
   ]
  },
  {
   "cell_type": "code",
   "execution_count": 11,
   "id": "a93f94a3",
   "metadata": {},
   "outputs": [
    {
     "name": "stdout",
     "output_type": "stream",
     "text": [
      "mean squared error: 2957.909868834236, r2 score: 0.5393933637112904\n"
     ]
    }
   ],
   "source": [
    "# Generating a linear regression model and predicting the target feature\n",
    "model = LinearRegression().fit(x_train_bwd, y_train)\n",
    "y_pred = model.predict(x_test_bwd)\n",
    "\n",
    "# Getting the metrics values for my model. \n",
    "mse = mean_squared_error(y_test, y_pred) \n",
    "r2 = r2_score(y_test, y_pred) \n",
    "\n",
    "print(f\"mean squared error: {mse}, r2 score: {r2}\")"
   ]
  },
  {
   "cell_type": "markdown",
   "id": "e07f472a-81da-40d3-a2f4-d40912aefcc9",
   "metadata": {},
   "source": [
    "#### Show which features were selected"
   ]
  },
  {
   "cell_type": "code",
   "execution_count": 12,
   "id": "117ab3f0",
   "metadata": {},
   "outputs": [
    {
     "data": {
      "text/plain": [
       "Index(['sex', 'bmi', 'bp', 's1', 's4', 's5'], dtype='object')"
      ]
     },
     "execution_count": 12,
     "metadata": {},
     "output_type": "execute_result"
    }
   ],
   "source": [
    "df.columns[sfs.get_support(indices=True)]"
   ]
  },
  {
   "cell_type": "markdown",
   "id": "e4083c25-8d47-40bc-8390-00fc6e01e694",
   "metadata": {},
   "source": [
    "### Recursive Feature Elimination\n",
    "#### Use recursive feature elimination to get the best 5 features (Calculate mse and rsquared)"
   ]
  },
  {
   "cell_type": "code",
   "execution_count": 13,
   "id": "1a2dc6db",
   "metadata": {},
   "outputs": [],
   "source": [
    "from sklearn.feature_selection import RFE\n",
    "\n",
    "reg = LinearRegression()\n",
    "selector = RFE(reg, n_features_to_select=5, step=1)\n",
    "selector.fit(x_train, y_train) \n",
    "x_train_rfe = selector.transform(x_train) \n",
    "x_test_rfe = selector.transform(x_test) "
   ]
  },
  {
   "cell_type": "code",
   "execution_count": 14,
   "id": "eddb75e4",
   "metadata": {},
   "outputs": [
    {
     "name": "stdout",
     "output_type": "stream",
     "text": [
      "mean squared error: 2993.775178809707, r2 score: 0.5338084065896036\n"
     ]
    }
   ],
   "source": [
    "# Generating a linear regression model and predicting the target feature\n",
    "model = LinearRegression().fit(x_train_rfe, y_train)\n",
    "y_pred = model.predict(x_test_rfe) \n",
    "\n",
    "# Getting the metrics values for my model. \n",
    "mse = mean_squared_error(y_test, y_pred) \n",
    "r2 = r2_score(y_test, y_pred) \n",
    "\n",
    "print(f\"mean squared error: {mse}, r2 score: {r2}\") "
   ]
  },
  {
   "cell_type": "markdown",
   "id": "c48cb98b-baf7-48b9-ba2d-c65280b42796",
   "metadata": {},
   "source": [
    "##### Show which features were selected"
   ]
  },
  {
   "cell_type": "code",
   "execution_count": 15,
   "id": "21a1adbc",
   "metadata": {},
   "outputs": [
    {
     "data": {
      "text/plain": [
       "Index(['bmi', 'bp', 's1', 's2', 's5'], dtype='object')"
      ]
     },
     "execution_count": 15,
     "metadata": {},
     "output_type": "execute_result"
    }
   ],
   "source": [
    "df.columns[selector.get_support(indices=True)] "
   ]
  },
  {
   "cell_type": "code",
   "execution_count": 16,
   "id": "bdd78b3a",
   "metadata": {},
   "outputs": [
    {
     "data": {
      "text/plain": [
       "array(['bmi', 'bp', 's1', 's2', 's5'], dtype=object)"
      ]
     },
     "execution_count": 16,
     "metadata": {},
     "output_type": "execute_result"
    }
   ],
   "source": [
    "# This is another wat of showing the selected features. \n",
    "selector.get_feature_names_out()"
   ]
  },
  {
   "cell_type": "markdown",
   "id": "f10da98b-8769-488b-a61d-82aa3fecdd58",
   "metadata": {},
   "source": [
    "##### Show ranking of each feature in a dataframe"
   ]
  },
  {
   "cell_type": "code",
   "execution_count": 17,
   "id": "ddf237a3",
   "metadata": {},
   "outputs": [
    {
     "data": {
      "text/html": [
       "<div>\n",
       "<style scoped>\n",
       "    .dataframe tbody tr th:only-of-type {\n",
       "        vertical-align: middle;\n",
       "    }\n",
       "\n",
       "    .dataframe tbody tr th {\n",
       "        vertical-align: top;\n",
       "    }\n",
       "\n",
       "    .dataframe thead th {\n",
       "        text-align: right;\n",
       "    }\n",
       "</style>\n",
       "<table border=\"1\" class=\"dataframe\">\n",
       "  <thead>\n",
       "    <tr style=\"text-align: right;\">\n",
       "      <th></th>\n",
       "      <th>Feature</th>\n",
       "      <th>Ranking</th>\n",
       "    </tr>\n",
       "  </thead>\n",
       "  <tbody>\n",
       "    <tr>\n",
       "      <th>0</th>\n",
       "      <td>age</td>\n",
       "      <td>6</td>\n",
       "    </tr>\n",
       "    <tr>\n",
       "      <th>1</th>\n",
       "      <td>sex</td>\n",
       "      <td>2</td>\n",
       "    </tr>\n",
       "    <tr>\n",
       "      <th>2</th>\n",
       "      <td>bmi</td>\n",
       "      <td>1</td>\n",
       "    </tr>\n",
       "    <tr>\n",
       "      <th>3</th>\n",
       "      <td>bp</td>\n",
       "      <td>1</td>\n",
       "    </tr>\n",
       "    <tr>\n",
       "      <th>4</th>\n",
       "      <td>s1</td>\n",
       "      <td>1</td>\n",
       "    </tr>\n",
       "    <tr>\n",
       "      <th>5</th>\n",
       "      <td>s2</td>\n",
       "      <td>1</td>\n",
       "    </tr>\n",
       "    <tr>\n",
       "      <th>6</th>\n",
       "      <td>s3</td>\n",
       "      <td>5</td>\n",
       "    </tr>\n",
       "    <tr>\n",
       "      <th>7</th>\n",
       "      <td>s4</td>\n",
       "      <td>3</td>\n",
       "    </tr>\n",
       "    <tr>\n",
       "      <th>8</th>\n",
       "      <td>s5</td>\n",
       "      <td>1</td>\n",
       "    </tr>\n",
       "    <tr>\n",
       "      <th>9</th>\n",
       "      <td>s6</td>\n",
       "      <td>4</td>\n",
       "    </tr>\n",
       "  </tbody>\n",
       "</table>\n",
       "</div>"
      ],
      "text/plain": [
       "  Feature  Ranking\n",
       "0     age        6\n",
       "1     sex        2\n",
       "2     bmi        1\n",
       "3      bp        1\n",
       "4      s1        1\n",
       "5      s2        1\n",
       "6      s3        5\n",
       "7      s4        3\n",
       "8      s5        1\n",
       "9      s6        4"
      ]
     },
     "execution_count": 17,
     "metadata": {},
     "output_type": "execute_result"
    }
   ],
   "source": [
    "import pandas as pd\n",
    "pd.DataFrame(list(zip(df.columns, selector.ranking_)), columns=['Feature', 'Ranking'])"
   ]
  },
  {
   "cell_type": "markdown",
   "id": "e2be6cfc-36b1-4b4b-92f4-0a1032dfc703",
   "metadata": {},
   "source": [
    "## Cross validation\n",
    "### Use shufflesplit cross validation,\n",
    " - Use LinearRegression \n",
    " - n_splits=4.\n",
    " - test size of 25%\n",
    "  (Calculate mse and rsquared for your testing sets). Write this in a for loop and print out your results for each test set"
   ]
  },
  {
   "cell_type": "code",
   "execution_count": 18,
   "id": "b0225b09",
   "metadata": {},
   "outputs": [
    {
     "name": "stdout",
     "output_type": "stream",
     "text": [
      "Round 0: mse: 3180.159648155844, R squared: 0.35940880381777096 .\n",
      "Round 1: mse: 2972.925869135974, R squared: 0.5335613748772718 .\n",
      "Round 2: mse: 3141.010233992259, R squared: 0.44082298859439684 .\n",
      "Round 3: mse: 2599.04451378182, R squared: 0.5851401640675551 .\n"
     ]
    }
   ],
   "source": [
    "from sklearn.model_selection import ShuffleSplit\n",
    "\n",
    "rs = ShuffleSplit(n_splits=4, test_size=0.25, random_state=0) \n",
    "i = 0\n",
    "for train_index, test_index in rs.split(df): \n",
    "    x_train_rs, x_test_rs = x.iloc[train_index,:], x.iloc[test_index,:]\n",
    "    y_train_rs, y_test_rs = y[train_index], y[test_index]\n",
    "    \n",
    "    # Generating a LR model and predicting the target feature for each round of coss validation. \n",
    "    reg = LinearRegression() \n",
    "    reg.fit(x_train_rs, y_train_rs) \n",
    "    y_pred = reg.predict(x_test_rs)\n",
    "\n",
    "    # Calculating the mean squared error and r2_score for each round. \n",
    "    mse = mean_squared_error(y_test_rs, y_pred)\n",
    "    r2 = r2_score(y_test_rs, y_pred)\n",
    "    print(f\"Round {i}: mse: {mse}, R squared: {r2} .\")\n",
    "    i += 1\n",
    "\n"
   ]
  },
  {
   "cell_type": "markdown",
   "id": "bda66bd5-f01c-4abd-92f1-e18bc716a450",
   "metadata": {},
   "source": [
    "# Regularized Linear Regression\n",
    "## Use RidgeCV class to find best aplha.(Calculate the mse and rsquared). Store and print best alpha found"
   ]
  },
  {
   "cell_type": "code",
   "execution_count": 19,
   "id": "b0fa5e4e",
   "metadata": {},
   "outputs": [
    {
     "name": "stdout",
     "output_type": "stream",
     "text": [
      "alpha: 0.1\n"
     ]
    }
   ],
   "source": [
    "from sklearn.linear_model import RidgeCV\n",
    "\n",
    "# Splitting the main dataframe from the start, because in previous cells, I changed the x_train and etc., values. \n",
    "x_train, x_test, y_train, y_test = train_test_split(x, y, test_size=0.2, shuffle=False, random_state=0) \n",
    "\n",
    "reg_cv = RidgeCV(alphas=[1e-3,1e-2,1e-1,1]).fit(x_train, y_train)\n",
    "\n",
    "# Saving the best alpha to another variable, and printing it. \n",
    "alfa = reg_cv.alpha_\n",
    "print(f\"alpha: {alfa}\") "
   ]
  },
  {
   "cell_type": "code",
   "execution_count": 20,
   "metadata": {},
   "outputs": [
    {
     "name": "stdout",
     "output_type": "stream",
     "text": [
      "mean squared error: 3021.622198866304, r2 score: 0.5294720600450118\n"
     ]
    }
   ],
   "source": [
    "# Predicting the target feature using the Riged CV and alpha = 0.1 .\n",
    "y_pred = reg_cv.predict(x_test) \n",
    "\n",
    "# Getting the metrics values for my model. \n",
    "mse = mean_squared_error(y_test, y_pred) \n",
    "r2 = r2_score(y_test, y_pred) \n",
    "\n",
    "print(f\"mean squared error: {mse}, r2 score: {r2}\") "
   ]
  },
  {
   "cell_type": "markdown",
   "id": "cda71356-e53e-4c4c-a0e6-558aae3b875f",
   "metadata": {},
   "source": [
    "# Cross validation\n",
    "### Use shufflesplit cross validation with:\n",
    "    Ridge with the best alpha found,\n",
    "    n_splits=4.\n",
    "    test set size 0f 25%\n",
    "    (Calculate mse and rsquared for your testing sets). Write this in a for loop and print out your results for each test set"
   ]
  },
  {
   "cell_type": "code",
   "execution_count": 21,
   "id": "bebfbd16",
   "metadata": {},
   "outputs": [
    {
     "name": "stdout",
     "output_type": "stream",
     "text": [
      "Round 0: mse: 3132.420603081688, R squared: 0.36902505437499833 .\n",
      "Round 1: mse: 2955.1781107873203, R squared: 0.5363459179057741 .\n",
      "Round 2: mse: 3076.561872621672, R squared: 0.45229638072511535 .\n",
      "Round 3: mse: 2693.259713195174, R squared: 0.570101521226424 .\n"
     ]
    }
   ],
   "source": [
    "from sklearn.linear_model import Ridge\n",
    "\n",
    "rs = ShuffleSplit(n_splits=4, test_size=0.25, random_state=0) \n",
    "i = 0 \n",
    "for train_index, test_index in rs.split(df): \n",
    "    x_train_ridge, x_test_ridge = x.iloc[train_index,:], x.iloc[test_index,:]\n",
    "    y_train_ridge, y_test_ridge = y[train_index], y[test_index]\n",
    "    \n",
    "    # Generating a Ridge regressor and Predicting the target feature for each round of coss validation. \n",
    "    reg = Ridge(alpha=alfa).fit(x_train_ridge, y_train_ridge) \n",
    "    y_pred = reg.predict(x_test_ridge)\n",
    "\n",
    "    # Calculating the mean squared error and r2_score for each round. \n",
    "    mse = mean_squared_error(y_test_ridge, y_pred)\n",
    "    r2 = r2_score(y_test_ridge, y_pred)\n",
    "    print(f\"Round {i}: mse: {mse}, R squared: {r2} .\")\n",
    "    i += 1\n",
    "\n"
   ]
  },
  {
   "cell_type": "markdown",
   "id": "0224a41f-96ef-4ca8-9f02-21c981928172",
   "metadata": {},
   "source": [
    "### Use shufflesplit cross validation with:\n",
    "    RidgeCV with the alphas [0.001, 0.01, 0.1, 1],\n",
    "    n_splits=4.\n",
    "    test set size 0f 25%\n",
    "    (Calculate mse and rsquared for your testing sets). Write this in a for loop and print out your results for each test set\n",
    "    Print the alpha picked after every calculation"
   ]
  },
  {
   "cell_type": "code",
   "execution_count": 22,
   "id": "ded9a859",
   "metadata": {},
   "outputs": [
    {
     "name": "stdout",
     "output_type": "stream",
     "text": [
      "Round 0: mse: 3132.420603081681, R squared: 0.3690250543749999 .\n",
      "Round 1: mse: 2960.435745715143, R squared: 0.5355210187609314 .\n",
      "Round 2: mse: 3076.561872621673, R squared: 0.45229638072511524 .\n",
      "Round 3: mse: 2693.2597131951816, R squared: 0.5701015212264227 .\n"
     ]
    }
   ],
   "source": [
    "from sklearn.linear_model import RidgeCV\n",
    "\n",
    "rs = ShuffleSplit(n_splits=4, test_size=0.25, random_state=0) \n",
    "i = 0 \n",
    "for train_index, test_index in rs.split(df): \n",
    "    x_train_ridge, x_test_ridge = x.iloc[train_index,:], x.iloc[test_index,:]\n",
    "    y_train_ridge, y_test_ridge = y[train_index], y[test_index]\n",
    "    \n",
    "    # Generating a Ridge regressor and Predicting the target feature for each round of coss validation. \n",
    "    reg = RidgeCV(alphas=[1e-3,1e-2,1e-1,1]).fit(x_train_ridge, y_train_ridge) \n",
    "    y_pred = reg.predict(x_test_ridge)\n",
    "\n",
    "    # Calculating the mean squared error and r2_score for each round. \n",
    "    mse = mean_squared_error(y_test_ridge, y_pred)\n",
    "    r2 = r2_score(y_test_ridge, y_pred)\n",
    "    print(f\"Round {i}: mse: {mse}, R squared: {r2} .\")\n",
    "    i += 1\n",
    "\n"
   ]
  },
  {
   "cell_type": "markdown",
   "id": "a553b744-8863-441a-96bb-bb7c452c4c5c",
   "metadata": {},
   "source": [
    "## Learning Curves\n",
    "### Plot your training mse and testing mse over increasing examples"
   ]
  },
  {
   "cell_type": "code",
   "execution_count": 23,
   "id": "e73a2138",
   "metadata": {},
   "outputs": [
    {
     "data": {
      "image/png": "[encoded data removed]",
      "text/plain": [
       "<Figure size 1152x864 with 1 Axes>"
      ]
     },
     "metadata": {
      "needs_background": "light"
     },
     "output_type": "display_data"
    }
   ],
   "source": [
    "import matplotlib.pyplot as plt\n",
    "\n",
    "train_m_mse_holder, test_m_mse_holder  = {}, {}\n",
    "for i in range(1, len(x_train)+1):\n",
    "    reg = Ridge(alpha=alfa).fit(x_train.iloc[:i,:], y_train.iloc[:i])\n",
    "    train_mse = mean_squared_error(y_train.iloc[:i], reg.predict(x_train.iloc[:i,:])) \n",
    "    test_mse = mean_squared_error(y_test, reg.predict(x_test))\n",
    "    \n",
    "    # Putting the value of iteration as the key and the value of mses as the value for dictionaries. \n",
    "    train_m_mse_holder[i] = train_mse\n",
    "    test_m_mse_holder[i] = test_mse\n",
    "\n",
    "# Turning the dictionaries to list of tuples, and sort them with respect to the number of input to calculate the mse. \n",
    "list_train_mse = sorted(train_m_mse_holder.items())\n",
    "list_test_mse = sorted(test_m_mse_holder.items())\n",
    "\n",
    "# Unzipping the list of tuples into two different lists for both train and test sets (I mean their mses'). \n",
    "train_x, train_y = zip(*list_train_mse) \n",
    "test_x, test_y = zip(*list_test_mse) \n",
    "\n",
    "# Plotting the mse changes in both train and test sets. \n",
    "plt.figure(figsize=(16,12))\n",
    "plt.plot(train_x, train_y, color='blue')\n",
    "plt.plot(test_x, test_y, color='red')\n",
    "plt.show()"
   ]
  },
  {
   "cell_type": "markdown",
   "id": "9d124b4b-7ec5-4dae-bcfb-744440d5b718",
   "metadata": {},
   "source": [
    "# Lasso\n",
    "## Use LassoCV class to find best aplha.(Calculate the mse and rsquared). Store and Print best alpha found"
   ]
  },
  {
   "cell_type": "code",
   "execution_count": 24,
   "id": "8508ac11",
   "metadata": {},
   "outputs": [
    {
     "name": "stdout",
     "output_type": "stream",
     "text": [
      "mean squared error: 3020.901237350059, r2 score: 0.529584328394494\n"
     ]
    }
   ],
   "source": [
    "from sklearn.linear_model import LassoCV\n",
    "\n",
    "# Splitting the main dataframe from the start, because in previous cells, I changed the x_train and etc., values. \n",
    "x_train, x_test, y_train, y_test = train_test_split(x, y, test_size=0.2, shuffle=False, random_state=0) \n",
    "\n",
    "lasso_cv = LassoCV(alphas=[1e-3, 1e-2, 1e-1, 1]).fit(x_train, y_train)\n",
    "y_pred = lasso_cv.predict(x_test)\n",
    "\n",
    "mse = mean_squared_error(y_test, y_pred) \n",
    "r2 = r2_score(y_test, y_pred) \n",
    "\n",
    "print(f\"mean squared error: {mse}, r2 score: {r2}\") "
   ]
  },
  {
   "cell_type": "code",
   "execution_count": 25,
   "id": "94070d26",
   "metadata": {},
   "outputs": [
    {
     "data": {
      "text/plain": [
       "0.1"
      ]
     },
     "execution_count": 25,
     "metadata": {},
     "output_type": "execute_result"
    }
   ],
   "source": [
    "alfa = lasso_cv.alpha_\n",
    "alfa"
   ]
  },
  {
   "cell_type": "markdown",
   "id": "21154f28-b715-403e-bbdc-f6b2098265aa",
   "metadata": {},
   "source": [
    "### Figure out which features were selected by Lasso"
   ]
  },
  {
   "cell_type": "code",
   "execution_count": 26,
   "id": "002d7bd9",
   "metadata": {},
   "outputs": [
    {
     "name": "stdout",
     "output_type": "stream",
     "text": [
      "Index(['sex', 'bmi', 'bp', 's2', 's3', 's5', 's6'], dtype='object')\n",
      "[1 2 3 5 6 8 9]\n"
     ]
    }
   ],
   "source": [
    "indexes = np.nonzero(lasso_cv.coef_)\n",
    "print(df.columns[indexes])\n",
    "print(indexes[0])"
   ]
  },
  {
   "cell_type": "markdown",
   "id": "445d0e53-09fa-4fc8-8dcc-750d1ae85d86",
   "metadata": {},
   "source": [
    "### Use shufflesplit cross validation with:\n",
    "    regular Lasso with the best alpaha you got,\n",
    "    n_splits=4.\n",
    "    test set size 0f 25%\n",
    "    (Calculate mse and rsquared for your testing sets). Write this in a for loop and print out your results for each test set"
   ]
  },
  {
   "cell_type": "code",
   "execution_count": 27,
   "metadata": {},
   "outputs": [
    {
     "name": "stdout",
     "output_type": "stream",
     "text": [
      "Round 0: mse: 3202.0167649897953, R squared: 0.3550060447846277 .\n",
      "Round 1: mse: 3018.149075374345, R squared: 0.5264660583204558 .\n",
      "Round 2: mse: 3112.7205436230643, R squared: 0.44585924869410687 .\n",
      "Round 3: mse: 2643.8696887847855, R squared: 0.5779851635861226 .\n"
     ]
    }
   ],
   "source": [
    "from sklearn.linear_model import Lasso\n",
    "\n",
    "rs = ShuffleSplit(n_splits=4, test_size=0.25, random_state=0) \n",
    "i = 0 \n",
    "for train_index, test_index in rs.split(df): \n",
    "    x_train_lasso, x_test_lasso = x.iloc[train_index,:], x.iloc[test_index,:]\n",
    "    y_train_lasso, y_test_lasso = y[train_index], y[test_index]\n",
    "    \n",
    "    # Generating a Lasso regressor and Predicting the target feature for each round of coss validation. \n",
    "    lasso = Lasso(alpha=alfa).fit(x_train_lasso, y_train_lasso) \n",
    "    y_pred = lasso.predict(x_test_lasso)\n",
    "\n",
    "    # Calculating the mean squared error and r2_score for each round. \n",
    "    mse = mean_squared_error(y_test_lasso, y_pred)\n",
    "    r2 = r2_score(y_test_lasso, y_pred)\n",
    "    print(f\"Round {i}: mse: {mse}, R squared: {r2} .\")\n",
    "    i += 1\n",
    "\n"
   ]
  },
  {
   "cell_type": "markdown",
   "id": "786ff8a5-f9ea-4fc5-a2cb-f12c1beccb34",
   "metadata": {},
   "source": [
    "### Use shufflesplit cross validation with:\n",
    "    LassoCV with the alphas [0.001, 0.01, 0.1, 1],\n",
    "    n_splits=4.\n",
    "    test set size 0f 25%\n",
    "    (Calculate mse and rsquared for your testing sets). Write this in a for loop and print out your results for each test set\n",
    "    Print the alpha picked after every calculation"
   ]
  },
  {
   "cell_type": "code",
   "execution_count": 28,
   "id": "a554a05d",
   "metadata": {},
   "outputs": [
    {
     "name": "stdout",
     "output_type": "stream",
     "text": [
      "Round 0: mse: 3202.0167649897953, R squared: 0.3550060447846277 .\n",
      "Round 1: mse: 2970.7591239306457, R squared: 0.5339013274018394 .\n",
      "Round 2: mse: 3112.7205436230643, R squared: 0.44585924869410687 .\n",
      "Round 3: mse: 2643.8696887847855, R squared: 0.5779851635861226 .\n"
     ]
    }
   ],
   "source": [
    "from sklearn.linear_model import LassoCV\n",
    "\n",
    "rs = ShuffleSplit(n_splits=4, test_size=0.25, random_state=0) \n",
    "i = 0 \n",
    "for train_index, test_index in rs.split(df): \n",
    "    x_train_lasso, x_test_lasso = x.iloc[train_index,:], x.iloc[test_index,:]\n",
    "    y_train_lasso, y_test_lasso = y[train_index], y[test_index]\n",
    "    \n",
    "    # Generating a Lasso regressor and Predicting the target feature for each round of coss validation. \n",
    "    lasso = LassoCV(alphas=[1e-3, 1e-2, 1e-1, 1]).fit(x_train_lasso, y_train_lasso) \n",
    "    y_pred = lasso.predict(x_test_lasso)\n",
    "\n",
    "    # Calculating the mean squared error and r2_score for each round. \n",
    "    mse = mean_squared_error(y_test_lasso, y_pred)\n",
    "    r2 = r2_score(y_test_lasso, y_pred)\n",
    "    print(f\"Round {i}: mse: {mse}, R squared: {r2} .\")\n",
    "    i += 1\n",
    "\n"
   ]
  },
  {
   "cell_type": "markdown",
   "id": "35aa923d",
   "metadata": {},
   "source": [
    "## Just for my own Curiocity\n",
    "## Learning Curves"
   ]
  },
  {
   "cell_type": "code",
   "execution_count": 30,
   "id": "c9ab30f3",
   "metadata": {},
   "outputs": [
    {
     "name": "stderr",
     "output_type": "stream",
     "text": [
      "c:\\Users\\Amir\\AppData\\Local\\Programs\\Python\\Python310\\lib\\site-packages\\sklearn\\linear_model\\_coordinate_descent.py:648: ConvergenceWarning: Objective did not converge. You might want to increase the number of iterations, check the scale of the features or consider increasing regularisation. Duality gap: 0.000e+00, tolerance: 0.000e+00\n",
      "  model = cd_fast.enet_coordinate_descent(\n"
     ]
    },
    {
     "data": {
      "image/png": "[encoded data removed]",
      "text/plain": [
       "<Figure size 1152x864 with 1 Axes>"
      ]
     },
     "metadata": {
      "needs_background": "light"
     },
     "output_type": "display_data"
    }
   ],
   "source": [
    "import matplotlib.pyplot as plt\n",
    "\n",
    "train_m_mse_holder, test_m_mse_holder  = {}, {}\n",
    "for i in range(1, len(x_train)+1):\n",
    "    lasso = Lasso(alpha=alfa).fit(x_train.iloc[:i,:], y_train.iloc[:i])\n",
    "    train_mse = mean_squared_error(y_train.iloc[:i], lasso.predict(x_train.iloc[:i,:])) \n",
    "    test_mse = mean_squared_error(y_test, lasso.predict(x_test))\n",
    "    \n",
    "    # Putting the value of iteration as the key and the value of mses as the value for dictionaries. \n",
    "    train_m_mse_holder[i] = train_mse\n",
    "    test_m_mse_holder[i] = test_mse\n",
    "\n",
    "# Turning the dictionaries to list of tuples, and sort them with respect to the number of input to calculate the mse. \n",
    "list_train_mse = sorted(train_m_mse_holder.items())\n",
    "list_test_mse = sorted(test_m_mse_holder.items())\n",
    "\n",
    "# Unzipping the list of tuples into two different lists for both train and test sets (I mean their mses'). \n",
    "train_x, train_y = zip(*list_train_mse) \n",
    "test_x, test_y = zip(*list_test_mse) \n",
    "\n",
    "# Plotting the mse changes in both train and test sets. \n",
    "plt.figure(figsize=(16,12))\n",
    "plt.plot(train_x, train_y, color='blue')\n",
    "plt.plot(test_x, test_y, color='red')\n",
    "plt.show()"
   ]
  },
  {
   "cell_type": "markdown",
   "id": "824f0b39",
   "metadata": {},
   "source": [
    "_____________\n",
    "<b style= color:cyan>||||||||||||||||||||||||||||||||||||||||||||||||||||||||||||||||||||||||||||||||||||||||||||||||||||||||||||||||||||||||||||||||||||||||||||||||||||||||||||||||||||||||||||||||||||||||||||||||||||||||||||||||||||||||||||||||||||||||||||||||||||||||||||||||||||||||||||||||||||||||||||||||||||||||||||||||||||||||||||||||||||||||||||||||||||||||||||||||||||</b>\n",
    "________________________"
   ]
  },
  {
   "cell_type": "markdown",
   "id": "809f6f7c-818d-4bf9-8002-6db9400018a4",
   "metadata": {},
   "source": [
    "# Load Classification Data\n",
    "(Load appropriate dataset here)"
   ]
  },
  {
   "cell_type": "code",
   "execution_count": 31,
   "id": "eac2b47c",
   "metadata": {},
   "outputs": [
    {
     "data": {
      "text/html": [
       "<div>\n",
       "<style scoped>\n",
       "    .dataframe tbody tr th:only-of-type {\n",
       "        vertical-align: middle;\n",
       "    }\n",
       "\n",
       "    .dataframe tbody tr th {\n",
       "        vertical-align: top;\n",
       "    }\n",
       "\n",
       "    .dataframe thead th {\n",
       "        text-align: right;\n",
       "    }\n",
       "</style>\n",
       "<table border=\"1\" class=\"dataframe\">\n",
       "  <thead>\n",
       "    <tr style=\"text-align: right;\">\n",
       "      <th></th>\n",
       "      <th>sepal length (cm)</th>\n",
       "      <th>sepal width (cm)</th>\n",
       "      <th>petal length (cm)</th>\n",
       "      <th>petal width (cm)</th>\n",
       "      <th>target</th>\n",
       "    </tr>\n",
       "  </thead>\n",
       "  <tbody>\n",
       "    <tr>\n",
       "      <th>0</th>\n",
       "      <td>5.1</td>\n",
       "      <td>3.5</td>\n",
       "      <td>1.4</td>\n",
       "      <td>0.2</td>\n",
       "      <td>0</td>\n",
       "    </tr>\n",
       "    <tr>\n",
       "      <th>1</th>\n",
       "      <td>4.9</td>\n",
       "      <td>3.0</td>\n",
       "      <td>1.4</td>\n",
       "      <td>0.2</td>\n",
       "      <td>0</td>\n",
       "    </tr>\n",
       "    <tr>\n",
       "      <th>2</th>\n",
       "      <td>4.7</td>\n",
       "      <td>3.2</td>\n",
       "      <td>1.3</td>\n",
       "      <td>0.2</td>\n",
       "      <td>0</td>\n",
       "    </tr>\n",
       "    <tr>\n",
       "      <th>3</th>\n",
       "      <td>4.6</td>\n",
       "      <td>3.1</td>\n",
       "      <td>1.5</td>\n",
       "      <td>0.2</td>\n",
       "      <td>0</td>\n",
       "    </tr>\n",
       "    <tr>\n",
       "      <th>4</th>\n",
       "      <td>5.0</td>\n",
       "      <td>3.6</td>\n",
       "      <td>1.4</td>\n",
       "      <td>0.2</td>\n",
       "      <td>0</td>\n",
       "    </tr>\n",
       "  </tbody>\n",
       "</table>\n",
       "</div>"
      ],
      "text/plain": [
       "   sepal length (cm)  sepal width (cm)  petal length (cm)  petal width (cm)  \\\n",
       "0                5.1               3.5                1.4               0.2   \n",
       "1                4.9               3.0                1.4               0.2   \n",
       "2                4.7               3.2                1.3               0.2   \n",
       "3                4.6               3.1                1.5               0.2   \n",
       "4                5.0               3.6                1.4               0.2   \n",
       "\n",
       "   target  \n",
       "0       0  \n",
       "1       0  \n",
       "2       0  \n",
       "3       0  \n",
       "4       0  "
      ]
     },
     "execution_count": 31,
     "metadata": {},
     "output_type": "execute_result"
    }
   ],
   "source": [
    "from ast import AsyncFunctionDef\n",
    "from sklearn.datasets import load_iris\n",
    "\n",
    "df = load_iris(as_frame=True).frame\n",
    "df.head()"
   ]
  },
  {
   "cell_type": "markdown",
   "id": "c03efe5d-bda0-46a5-bb58-569a9fcc4604",
   "metadata": {},
   "source": [
    "# Multinomial Logistic Regression\n",
    "(split your data into a train and test set here)"
   ]
  },
  {
   "cell_type": "code",
   "execution_count": 32,
   "id": "6e0adb63",
   "metadata": {},
   "outputs": [
    {
     "name": "stdout",
     "output_type": "stream",
     "text": [
      "len train 120 len test 30\n"
     ]
    }
   ],
   "source": [
    "x = df.drop(\"target\", axis=1)\n",
    "y = df[\"target\"]\n",
    "x_train, x_test, y_train, y_test = train_test_split(x, y, test_size=.2, shuffle=True, random_state=0)\n",
    "print(f\"len train {len(x_train)} len test {len(x_test)}\")"
   ]
  },
  {
   "cell_type": "markdown",
   "id": "d986bb19-480f-479a-b892-0d917f32c020",
   "metadata": {},
   "source": [
    "# Feature scaling\n",
    "(feature scale your data here)"
   ]
  },
  {
   "cell_type": "code",
   "execution_count": 33,
   "id": "faa5e3aa",
   "metadata": {},
   "outputs": [
    {
     "name": "stdout",
     "output_type": "stream",
     "text": [
      "mse: 0.0,     accuracy: 1.0\n"
     ]
    }
   ],
   "source": [
    "from tkinter.filedialog import LoadFileDialog\n",
    "from sklearn.preprocessing import MinMaxScaler\n",
    "\n",
    "scaler = MinMaxScaler()\n",
    "scaler.fit(x_train, y_train)\n",
    "x_train_scaled = scaler.transform(x_train)\n",
    "x_test_scaled = scaler.transform(x_test)\n",
    "\n",
    "from sklearn.linear_model import LogisticRegression\n",
    "\n",
    "model = LogisticRegression(penalty='none', solver='lbfgs')\n",
    "model.fit(x_train_scaled, y_train)\n",
    "y_pred = model.predict(x_test_scaled)\n",
    "\n",
    "from sklearn.metrics import accuracy_score\n",
    "print(f\"mse: {mean_squared_error(y_test, y_pred)}, \\\n",
    "    accuracy: {accuracy_score(y_test, y_pred, normalize=True)}\")"
   ]
  },
  {
   "cell_type": "markdown",
   "id": "3ab4b864-dbd2-456c-9ab8-f521cc0a7691",
   "metadata": {},
   "source": [
    "## Feature Selection\n",
    "### Use chisquare feature_selection to select the best 2 features to use (Calculate the log_loss and accuracy)"
   ]
  },
  {
   "cell_type": "code",
   "execution_count": 34,
   "id": "22298850",
   "metadata": {},
   "outputs": [
    {
     "name": "stdout",
     "output_type": "stream",
     "text": [
      "accuracy: 1.0,     log_loss: 0.036096881078651714\n"
     ]
    }
   ],
   "source": [
    "from sklearn.feature_selection import SelectKBest \n",
    "from sklearn.feature_selection import chi2 \n",
    "from sklearn.metrics import log_loss\n",
    "\n",
    "k_in = 2 \n",
    "selector = SelectKBest(chi2, k=k_in).fit(x_train_scaled, y_train)\n",
    "x_train_scaled_chi2 = selector.transform(x_train_scaled)\n",
    "x_test_scaled_chi2 = selector.transform(x_test_scaled)\n",
    "\n",
    "model = LogisticRegression(penalty='none', solver='lbfgs')\n",
    "model.fit(x_train_scaled_chi2, y_train)\n",
    "y_pred = model.predict(x_test_scaled_chi2)\n",
    "y_pred_log = model.predict_proba(x_test_scaled_chi2)\n",
    "\n",
    "print(f\"accuracy: {accuracy_score(y_test, y_pred, normalize=True)}, \\\n",
    "    log_loss: {log_loss(y_test, y_pred_log)}\") "
   ]
  },
  {
   "cell_type": "markdown",
   "id": "50dbaf87-d3d1-4679-97a3-41781ffb5fd6",
   "metadata": {},
   "source": [
    "#### Show which features were selected"
   ]
  },
  {
   "cell_type": "code",
   "execution_count": 35,
   "id": "3cd02205",
   "metadata": {},
   "outputs": [
    {
     "data": {
      "text/plain": [
       "Index(['petal length (cm)', 'petal width (cm)'], dtype='object')"
      ]
     },
     "execution_count": 35,
     "metadata": {},
     "output_type": "execute_result"
    }
   ],
   "source": [
    "x.iloc[:,selector.get_support(indices=True)].columns"
   ]
  },
  {
   "cell_type": "markdown",
   "id": "e0c9784f-11fe-4c92-80a6-4a91e39cd9a9",
   "metadata": {},
   "source": [
    "### Use forward selection to get best features with a tol of 0.1 for accuracy (Calculate the log_loss and accuracy)"
   ]
  },
  {
   "cell_type": "code",
   "execution_count": 36,
   "id": "c45bd9d8",
   "metadata": {},
   "outputs": [
    {
     "name": "stdout",
     "output_type": "stream",
     "text": [
      "accuracy: 0.9666666666666667,     log_loss: 0.14306395442265357\n"
     ]
    }
   ],
   "source": [
    "clf = LogisticRegression(random_state=0, solver='lbfgs', penalty='none') \n",
    "sfs = SequentialFeatureSelector(clf, n_features_to_select=\"auto\", \n",
    "    scoring='accuracy', tol=0.1, direction='forward') \n",
    "\n",
    "sfs.fit(x_train_scaled, y_train) \n",
    "x_train_scaled_fwd = sfs.transform(x_train_scaled) \n",
    "x_test_scaled_fwd = sfs.transform(x_test_scaled) \n",
    "model = LogisticRegression(penalty='none', solver='lbfgs') \n",
    "model.fit(x_train_scaled_fwd, y_train) \n",
    "y_pred = model.predict(x_test_scaled_fwd) \n",
    "y_pred_log = model.predict_proba(x_test_scaled_fwd) \n",
    "\n",
    "print(f\"accuracy: {accuracy_score(y_test, y_pred, normalize=True)}, \\\n",
    "    log_loss: {log_loss(y_test, y_pred_log)}\") "
   ]
  },
  {
   "cell_type": "markdown",
   "id": "4ee4f2fe-add9-4566-ab2c-455b45963a54",
   "metadata": {},
   "source": [
    "#### Show which features were selected"
   ]
  },
  {
   "cell_type": "code",
   "execution_count": 37,
   "id": "cbc9ac6f",
   "metadata": {},
   "outputs": [
    {
     "data": {
      "text/plain": [
       "array([False, False, False,  True])"
      ]
     },
     "execution_count": 37,
     "metadata": {},
     "output_type": "execute_result"
    }
   ],
   "source": [
    "sfs.get_support()"
   ]
  },
  {
   "cell_type": "code",
   "execution_count": 38,
   "id": "bbca88e3",
   "metadata": {},
   "outputs": [
    {
     "data": {
      "text/plain": [
       "Index(['petal width (cm)'], dtype='object')"
      ]
     },
     "execution_count": 38,
     "metadata": {},
     "output_type": "execute_result"
    }
   ],
   "source": [
    "x.iloc[:, sfs.get_support(True)].columns"
   ]
  },
  {
   "cell_type": "markdown",
   "id": "b5b1f7bf-f075-4b37-89af-e4f3f0d630de",
   "metadata": {},
   "source": [
    "### Use backward selection to get best features with a tol of 0.1 for accuracy (Calculate the log_loss and accuracy)"
   ]
  },
  {
   "cell_type": "code",
   "execution_count": 39,
   "id": "9844ef87",
   "metadata": {},
   "outputs": [
    {
     "name": "stdout",
     "output_type": "stream",
     "text": [
      "accuracy: 1.0,     log_loss: 0.01624490802098242\n"
     ]
    }
   ],
   "source": [
    "clf = LogisticRegression(random_state=0, solver='lbfgs', penalty='l2') \n",
    "sfs = SequentialFeatureSelector(clf, n_features_to_select=\"auto\", \n",
    "    scoring='accuracy', tol=0.1, direction='backward') \n",
    "\n",
    "sfs.fit(x_train_scaled, y_train) \n",
    "x_train_scaled_bwd = sfs.transform(x_train_scaled) \n",
    "x_test_scaled_bwd = sfs.transform(x_test_scaled) \n",
    "model = LogisticRegression(penalty='none', solver='lbfgs') \n",
    "model.fit(x_train_scaled_bwd, y_train) \n",
    "y_pred = model.predict(x_test_scaled_bwd) \n",
    "y_pred_log = model.predict_proba(x_test_scaled_bwd) \n",
    "\n",
    "print(f\"accuracy: {accuracy_score(y_test, y_pred, normalize=True)}, \\\n",
    "    log_loss: {log_loss(y_test, y_pred_log)}\") "
   ]
  },
  {
   "cell_type": "markdown",
   "id": "ee8c9e6c-e37a-4cb0-bedf-7702cfca0356",
   "metadata": {},
   "source": [
    "#### Show which features were selected"
   ]
  },
  {
   "cell_type": "code",
   "execution_count": 40,
   "id": "0fe60894",
   "metadata": {},
   "outputs": [
    {
     "data": {
      "text/plain": [
       "Index(['sepal width (cm)', 'petal length (cm)', 'petal width (cm)'], dtype='object')"
      ]
     },
     "execution_count": 40,
     "metadata": {},
     "output_type": "execute_result"
    }
   ],
   "source": [
    "x.iloc[:,sfs.get_support(indices=True)].columns"
   ]
  },
  {
   "cell_type": "markdown",
   "id": "09231caa-9e21-41ad-af07-dfca576734f8",
   "metadata": {},
   "source": [
    "### Recursive Feature Elimination\n",
    "#### Use recursive feature elimination to get the best 2 features (Calculate the log_loss and accuracy)"
   ]
  },
  {
   "cell_type": "code",
   "execution_count": 41,
   "id": "40d25332",
   "metadata": {},
   "outputs": [
    {
     "name": "stdout",
     "output_type": "stream",
     "text": [
      "accuracy: 1.0,     log_loss: 0.036096881078651714\n"
     ]
    }
   ],
   "source": [
    "from sklearn.feature_selection import RFE\n",
    "\n",
    "clf = LogisticRegression()\n",
    "selector = RFE(clf, n_features_to_select=2, step=1)\n",
    "selector.fit(x_train_scaled, y_train)\n",
    "x_train_scaled_rfe = selector.transform(x_train_scaled)\n",
    "x_test_scaled_rfe = selector.transform(x_test_scaled)\n",
    "\n",
    "model = LogisticRegression(penalty='none', solver='lbfgs')\n",
    "model.fit(x_train_scaled_rfe, y_train)\n",
    "y_pred = model.predict(x_test_scaled_rfe)\n",
    "y_pred_log = model.predict_proba(x_test_scaled_rfe)\n",
    "\n",
    "print(f\"accuracy: {accuracy_score(y_test, y_pred, normalize=True)}, \\\n",
    "    log_loss: {log_loss(y_test, y_pred_log)}\") "
   ]
  },
  {
   "cell_type": "markdown",
   "id": "b8a22419-01fc-4612-a7b3-54ca982aa6fe",
   "metadata": {},
   "source": [
    "#### Show which features were selected"
   ]
  },
  {
   "cell_type": "code",
   "execution_count": 42,
   "id": "eb964652",
   "metadata": {},
   "outputs": [
    {
     "data": {
      "text/plain": [
       "Index(['petal length (cm)', 'petal width (cm)'], dtype='object')"
      ]
     },
     "execution_count": 42,
     "metadata": {},
     "output_type": "execute_result"
    }
   ],
   "source": [
    "x.iloc[:,selector.get_support(indices=True)].columns"
   ]
  },
  {
   "cell_type": "markdown",
   "id": "7ea0a646-bf79-4c5b-bb7b-018569dc43ce",
   "metadata": {},
   "source": [
    "##### Show ranking of each feature in a dataframe"
   ]
  },
  {
   "cell_type": "code",
   "execution_count": 43,
   "id": "ad37591c",
   "metadata": {},
   "outputs": [
    {
     "data": {
      "text/html": [
       "<div>\n",
       "<style scoped>\n",
       "    .dataframe tbody tr th:only-of-type {\n",
       "        vertical-align: middle;\n",
       "    }\n",
       "\n",
       "    .dataframe tbody tr th {\n",
       "        vertical-align: top;\n",
       "    }\n",
       "\n",
       "    .dataframe thead th {\n",
       "        text-align: right;\n",
       "    }\n",
       "</style>\n",
       "<table border=\"1\" class=\"dataframe\">\n",
       "  <thead>\n",
       "    <tr style=\"text-align: right;\">\n",
       "      <th></th>\n",
       "      <th>Feature</th>\n",
       "      <th>Ranking</th>\n",
       "    </tr>\n",
       "  </thead>\n",
       "  <tbody>\n",
       "    <tr>\n",
       "      <th>0</th>\n",
       "      <td>sepal length (cm)</td>\n",
       "      <td>3</td>\n",
       "    </tr>\n",
       "    <tr>\n",
       "      <th>1</th>\n",
       "      <td>sepal width (cm)</td>\n",
       "      <td>2</td>\n",
       "    </tr>\n",
       "    <tr>\n",
       "      <th>2</th>\n",
       "      <td>petal length (cm)</td>\n",
       "      <td>1</td>\n",
       "    </tr>\n",
       "    <tr>\n",
       "      <th>3</th>\n",
       "      <td>petal width (cm)</td>\n",
       "      <td>1</td>\n",
       "    </tr>\n",
       "  </tbody>\n",
       "</table>\n",
       "</div>"
      ],
      "text/plain": [
       "             Feature  Ranking\n",
       "0  sepal length (cm)        3\n",
       "1   sepal width (cm)        2\n",
       "2  petal length (cm)        1\n",
       "3   petal width (cm)        1"
      ]
     },
     "execution_count": 43,
     "metadata": {},
     "output_type": "execute_result"
    }
   ],
   "source": [
    "pd.DataFrame(list(zip(df.columns, selector.ranking_)), columns=['Feature', 'Ranking'])"
   ]
  },
  {
   "cell_type": "markdown",
   "id": "8c643f53-ecbf-40bb-85cb-e7c3ab4bb54f",
   "metadata": {},
   "source": [
    "## Cross validation\n",
    "### Use StratifiedShuffleSplit cross validation:\n",
    "    Use LogisticRegression,\n",
    "    n_splits=4.\n",
    "    test set size of 25%\n",
    "    (Calculate log_loss and accuracy for your testing sets). Write this in a for loop and print out your results for each test set"
   ]
  },
  {
   "cell_type": "code",
   "execution_count": 44,
   "id": "6b6773af",
   "metadata": {},
   "outputs": [
    {
     "name": "stdout",
     "output_type": "stream",
     "text": [
      "Round 0: accuracy: 0.9736842105263158,     log_loss: 0.9101810135543983\n",
      "Round 1: accuracy: 0.9473684210526315,     log_loss: 1.817830336574248\n",
      "Round 2: accuracy: 1.0,     log_loss: 0.021376850349003888\n",
      "Round 3: accuracy: 0.9473684210526315,     log_loss: 0.09353251585098651\n"
     ]
    }
   ],
   "source": [
    "from pprint import pprint\n",
    "from sklearn.model_selection import ShuffleSplit\n",
    "\n",
    "rs = ShuffleSplit(n_splits=4, test_size=.25, random_state=0)\n",
    "\n",
    "i = 0\n",
    "for train_index, test_index in rs.split(x):\n",
    "    x_train, x_test = x.iloc[train_index], x.iloc[test_index] \n",
    "    y_train, y_test = y[train_index], y[test_index] \n",
    "    model = LogisticRegression(penalty='none', solver='lbfgs')\n",
    "    model.fit(x_train, y_train)\n",
    "    y_pred = model.predict(x_test)\n",
    "    y_pred_log = model.predict_proba(x_test)\n",
    "\n",
    "    print(f\"Round {i}: accuracy: {accuracy_score(y_test, y_pred, normalize=True)}, \\\n",
    "    log_loss: {log_loss(y_test, y_pred_log)}\") \n",
    "\n",
    "    i += 1"
   ]
  },
  {
   "cell_type": "markdown",
   "id": "58642c12-6ece-46b4-a603-87110bce834c",
   "metadata": {},
   "source": [
    "# Regularized Logistic Regression\n",
    "## Use LogisticRegressionCV class to find best aplha for each class.(Calculate the log_loss and accuracy). print best alpha found for each class"
   ]
  },
  {
   "cell_type": "code",
   "execution_count": 45,
   "id": "95f272e6",
   "metadata": {},
   "outputs": [
    {
     "name": "stdout",
     "output_type": "stream",
     "text": [
      "accuracy: 0.9\n",
      "Cs: [1. 1. 1.]\n"
     ]
    }
   ],
   "source": [
    "from sklearn.linear_model import LogisticRegressionCV \n",
    "\n",
    "x_train, x_test, y_train, y_test = train_test_split(x, y, test_size=0.2, shuffle=True, random_state=0)\n",
    "scaler = MinMaxScaler().fit(x_train, y_train)\n",
    "x_train_scaled = scaler.transform(x_train)\n",
    "x_test_scaled = scaler.transform(x_test)\n",
    "\n",
    "clf_cv = LogisticRegressionCV(Cs=[1e-3, 1e-2, 1e-1, 1], penalty='l2', solver='lbfgs', random_state=0)\n",
    "clf_cv.fit(x_train_scaled, y_train)\n",
    "y_pred = clf_cv.predict(x_test_scaled)\n",
    "\n",
    "print(f\"accuracy: {accuracy_score(y_test, y_pred, normalize=True)}\")\n",
    "\n",
    "alfa1 = clf_cv.C_\n",
    "print(f\"Cs: {alfa1}\")"
   ]
  },
  {
   "cell_type": "markdown",
   "id": "bab80643-5e69-4469-a9ae-52504debfdf1",
   "metadata": {},
   "source": [
    "### Use StratifiedShuffleSplit cross validation:\n",
    "    LogisticRegressionCV with the best alpha found,\n",
    "    n_splits=4.\n",
    "    test set size 0f 25%\n",
    "    (Calculate log_loss and accuracy for your testing sets). Write this in a for loop and print out your results for each test set"
   ]
  },
  {
   "cell_type": "code",
   "execution_count": 46,
   "id": "71d1cd15",
   "metadata": {},
   "outputs": [
    {
     "name": "stdout",
     "output_type": "stream",
     "text": [
      "Round 0: Cs: [1. 1. 1.]\n",
      "accuracy: 0.9736842105263158,     log_loss: 0.17157399056671535\n",
      "Round 1: Cs: [1. 1. 1.]\n",
      "accuracy: 0.9473684210526315,     log_loss: 0.16050901261271983\n",
      "Round 2: Cs: [1. 1. 1.]\n",
      "accuracy: 0.9473684210526315,     log_loss: 0.13026174631868076\n",
      "Round 3: Cs: [1. 1. 1.]\n",
      "accuracy: 0.9210526315789473,     log_loss: 0.21243660417605068\n"
     ]
    },
    {
     "name": "stderr",
     "output_type": "stream",
     "text": [
      "c:\\Users\\Amir\\AppData\\Local\\Programs\\Python\\Python310\\lib\\site-packages\\sklearn\\linear_model\\_logistic.py:444: ConvergenceWarning: lbfgs failed to converge (status=1):\n",
      "STOP: TOTAL NO. of ITERATIONS REACHED LIMIT.\n",
      "\n",
      "Increase the number of iterations (max_iter) or scale the data as shown in:\n",
      "    https://scikit-learn.org/stable/modules/preprocessing.html\n",
      "Please also refer to the documentation for alternative solver options:\n",
      "    https://scikit-learn.org/stable/modules/linear_model.html#logistic-regression\n",
      "  n_iter_i = _check_optimize_result(\n",
      "c:\\Users\\Amir\\AppData\\Local\\Programs\\Python\\Python310\\lib\\site-packages\\sklearn\\linear_model\\_logistic.py:444: ConvergenceWarning: lbfgs failed to converge (status=1):\n",
      "STOP: TOTAL NO. of ITERATIONS REACHED LIMIT.\n",
      "\n",
      "Increase the number of iterations (max_iter) or scale the data as shown in:\n",
      "    https://scikit-learn.org/stable/modules/preprocessing.html\n",
      "Please also refer to the documentation for alternative solver options:\n",
      "    https://scikit-learn.org/stable/modules/linear_model.html#logistic-regression\n",
      "  n_iter_i = _check_optimize_result(\n"
     ]
    }
   ],
   "source": [
    "from sklearn.model_selection import ShuffleSplit\n",
    "\n",
    "rs = ShuffleSplit(n_splits=4, test_size=.25, random_state=0)\n",
    "\n",
    "i = 0\n",
    "for train_index, test_index in rs.split(x):\n",
    "    x_train, x_test = x.iloc[train_index], x.iloc[test_index] \n",
    "    y_train, y_test = y[train_index], y[test_index] \n",
    "    model = LogisticRegressionCV(Cs=[1e-3, 1e-2, 1e-1, 1] ,penalty='l2', solver='lbfgs')\n",
    "    model.fit(x_train, y_train)\n",
    "    alfa1 = clf_cv.C_\n",
    "    print(f\"Round {i}: Cs: {alfa1}\")\n",
    "    y_pred = model.predict(x_test)\n",
    "    y_pred_log = model.predict_proba(x_test)\n",
    "\n",
    "    print(f\"accuracy: {accuracy_score(y_test, y_pred, normalize=True)}, \\\n",
    "    log_loss: {log_loss(y_test, y_pred_log)}\") \n",
    "    \n",
    "    i += 1"
   ]
  }
 ],
 "metadata": {
  "kernelspec": {
   "display_name": "Python 3.10.5 64-bit",
   "language": "python",
   "name": "python3"
  },
  "language_info": {
   "codemirror_mode": {
    "name": "ipython",
    "version": 3
   },
   "file_extension": ".py",
   "mimetype": "text/x-python",
   "name": "python",
   "nbconvert_exporter": "python",
   "pygments_lexer": "ipython3",
   "version": "3.10.5"
  },
  "vscode": {
   "interpreter": {
    "hash": "f56a879a86e4cb184598e0f1a037d80ac9bf804487d5cf89fe943b503a6b43f5"
   }
  }
 },
 "nbformat": 4,
 "nbformat_minor": 5
}
