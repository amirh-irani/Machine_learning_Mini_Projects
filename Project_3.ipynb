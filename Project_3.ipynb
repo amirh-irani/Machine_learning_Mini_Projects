{
 "cells": [
  {
   "cell_type": "markdown",
   "id": "feed8325-177a-4917-bd18-ae46f5a08ece",
   "metadata": {},
   "source": [
    "# Loading Regression Data"
   ]
  },
  {
   "cell_type": "code",
   "execution_count": 1,
   "id": "20769669",
   "metadata": {},
   "outputs": [
    {
     "data": {
      "text/html": [
       "<div>\n",
       "<style scoped>\n",
       "    .dataframe tbody tr th:only-of-type {\n",
       "        vertical-align: middle;\n",
       "    }\n",
       "\n",
       "    .dataframe tbody tr th {\n",
       "        vertical-align: top;\n",
       "    }\n",
       "\n",
       "    .dataframe thead th {\n",
       "        text-align: right;\n",
       "    }\n",
       "</style>\n",
       "<table border=\"1\" class=\"dataframe\">\n",
       "  <thead>\n",
       "    <tr style=\"text-align: right;\">\n",
       "      <th></th>\n",
       "      <th>age</th>\n",
       "      <th>sex</th>\n",
       "      <th>bmi</th>\n",
       "      <th>bp</th>\n",
       "      <th>s1</th>\n",
       "      <th>s2</th>\n",
       "      <th>s3</th>\n",
       "      <th>s4</th>\n",
       "      <th>s5</th>\n",
       "      <th>s6</th>\n",
       "      <th>target</th>\n",
       "    </tr>\n",
       "  </thead>\n",
       "  <tbody>\n",
       "    <tr>\n",
       "      <th>0</th>\n",
       "      <td>0.038076</td>\n",
       "      <td>0.050680</td>\n",
       "      <td>0.061696</td>\n",
       "      <td>0.021872</td>\n",
       "      <td>-0.044223</td>\n",
       "      <td>-0.034821</td>\n",
       "      <td>-0.043401</td>\n",
       "      <td>-0.002592</td>\n",
       "      <td>0.019907</td>\n",
       "      <td>-0.017646</td>\n",
       "      <td>151.0</td>\n",
       "    </tr>\n",
       "    <tr>\n",
       "      <th>1</th>\n",
       "      <td>-0.001882</td>\n",
       "      <td>-0.044642</td>\n",
       "      <td>-0.051474</td>\n",
       "      <td>-0.026328</td>\n",
       "      <td>-0.008449</td>\n",
       "      <td>-0.019163</td>\n",
       "      <td>0.074412</td>\n",
       "      <td>-0.039493</td>\n",
       "      <td>-0.068332</td>\n",
       "      <td>-0.092204</td>\n",
       "      <td>75.0</td>\n",
       "    </tr>\n",
       "    <tr>\n",
       "      <th>2</th>\n",
       "      <td>0.085299</td>\n",
       "      <td>0.050680</td>\n",
       "      <td>0.044451</td>\n",
       "      <td>-0.005670</td>\n",
       "      <td>-0.045599</td>\n",
       "      <td>-0.034194</td>\n",
       "      <td>-0.032356</td>\n",
       "      <td>-0.002592</td>\n",
       "      <td>0.002861</td>\n",
       "      <td>-0.025930</td>\n",
       "      <td>141.0</td>\n",
       "    </tr>\n",
       "    <tr>\n",
       "      <th>3</th>\n",
       "      <td>-0.089063</td>\n",
       "      <td>-0.044642</td>\n",
       "      <td>-0.011595</td>\n",
       "      <td>-0.036656</td>\n",
       "      <td>0.012191</td>\n",
       "      <td>0.024991</td>\n",
       "      <td>-0.036038</td>\n",
       "      <td>0.034309</td>\n",
       "      <td>0.022688</td>\n",
       "      <td>-0.009362</td>\n",
       "      <td>206.0</td>\n",
       "    </tr>\n",
       "    <tr>\n",
       "      <th>4</th>\n",
       "      <td>0.005383</td>\n",
       "      <td>-0.044642</td>\n",
       "      <td>-0.036385</td>\n",
       "      <td>0.021872</td>\n",
       "      <td>0.003935</td>\n",
       "      <td>0.015596</td>\n",
       "      <td>0.008142</td>\n",
       "      <td>-0.002592</td>\n",
       "      <td>-0.031988</td>\n",
       "      <td>-0.046641</td>\n",
       "      <td>135.0</td>\n",
       "    </tr>\n",
       "  </tbody>\n",
       "</table>\n",
       "</div>"
      ],
      "text/plain": [
       "        age       sex       bmi        bp        s1        s2        s3  \\\n",
       "0  0.038076  0.050680  0.061696  0.021872 -0.044223 -0.034821 -0.043401   \n",
       "1 -0.001882 -0.044642 -0.051474 -0.026328 -0.008449 -0.019163  0.074412   \n",
       "2  0.085299  0.050680  0.044451 -0.005670 -0.045599 -0.034194 -0.032356   \n",
       "3 -0.089063 -0.044642 -0.011595 -0.036656  0.012191  0.024991 -0.036038   \n",
       "4  0.005383 -0.044642 -0.036385  0.021872  0.003935  0.015596  0.008142   \n",
       "\n",
       "         s4        s5        s6  target  \n",
       "0 -0.002592  0.019907 -0.017646   151.0  \n",
       "1 -0.039493 -0.068332 -0.092204    75.0  \n",
       "2 -0.002592  0.002861 -0.025930   141.0  \n",
       "3  0.034309  0.022688 -0.009362   206.0  \n",
       "4 -0.002592 -0.031988 -0.046641   135.0  "
      ]
     },
     "execution_count": 1,
     "metadata": {},
     "output_type": "execute_result"
    }
   ],
   "source": [
    "from sklearn.datasets import load_diabetes\n",
    "\n",
    "df = load_diabetes(as_frame=True).frame\n",
    "df.head()"
   ]
  },
  {
   "cell_type": "markdown",
   "id": "3e427b33-568e-43d2-9bbc-00280f33678a",
   "metadata": {},
   "source": [
    "# Split training and testing data here"
   ]
  },
  {
   "cell_type": "code",
   "execution_count": 2,
   "id": "30dd2a8a",
   "metadata": {},
   "outputs": [
    {
     "name": "stdout",
     "output_type": "stream",
     "text": [
      "Length of train set and test set are respectively: 353 and 89 .\n"
     ]
    }
   ],
   "source": [
    "from sklearn.model_selection import train_test_split\n",
    "\n",
    "x = df.drop(\"target\", axis=1)\n",
    "y = df.target\n",
    "x_train, x_test, y_train, y_test = train_test_split(x, y, test_size=.2, shuffle=False, random_state=0)\n",
    "print(f\"Length of train set and test set are respectively: {len(x_train)} and {len(x_test)} .\")"
   ]
  },
  {
   "cell_type": "markdown",
   "id": "e28dda30-2c1b-4d0d-8550-e0642f48adc2",
   "metadata": {},
   "source": [
    "# KNeighborsRegressor\n",
    "## No feature scaling\n",
    "\n",
    "fit knn regressor here without feature scaling"
   ]
  },
  {
   "cell_type": "code",
   "execution_count": 3,
   "id": "854efbb7",
   "metadata": {},
   "outputs": [
    {
     "data": {
      "text/html": [
       "<style>#sk-container-id-1 {color: black;background-color: white;}#sk-container-id-1 pre{padding: 0;}#sk-container-id-1 div.sk-toggleable {background-color: white;}#sk-container-id-1 label.sk-toggleable__label {cursor: pointer;display: block;width: 100%;margin-bottom: 0;padding: 0.3em;box-sizing: border-box;text-align: center;}#sk-container-id-1 label.sk-toggleable__label-arrow:before {content: \"▸\";float: left;margin-right: 0.25em;color: #696969;}#sk-container-id-1 label.sk-toggleable__label-arrow:hover:before {color: black;}#sk-container-id-1 div.sk-estimator:hover label.sk-toggleable__label-arrow:before {color: black;}#sk-container-id-1 div.sk-toggleable__content {max-height: 0;max-width: 0;overflow: hidden;text-align: left;background-color: #f0f8ff;}#sk-container-id-1 div.sk-toggleable__content pre {margin: 0.2em;color: black;border-radius: 0.25em;background-color: #f0f8ff;}#sk-container-id-1 input.sk-toggleable__control:checked~div.sk-toggleable__content {max-height: 200px;max-width: 100%;overflow: auto;}#sk-container-id-1 input.sk-toggleable__control:checked~label.sk-toggleable__label-arrow:before {content: \"▾\";}#sk-container-id-1 div.sk-estimator input.sk-toggleable__control:checked~label.sk-toggleable__label {background-color: #d4ebff;}#sk-container-id-1 div.sk-label input.sk-toggleable__control:checked~label.sk-toggleable__label {background-color: #d4ebff;}#sk-container-id-1 input.sk-hidden--visually {border: 0;clip: rect(1px 1px 1px 1px);clip: rect(1px, 1px, 1px, 1px);height: 1px;margin: -1px;overflow: hidden;padding: 0;position: absolute;width: 1px;}#sk-container-id-1 div.sk-estimator {font-family: monospace;background-color: #f0f8ff;border: 1px dotted black;border-radius: 0.25em;box-sizing: border-box;margin-bottom: 0.5em;}#sk-container-id-1 div.sk-estimator:hover {background-color: #d4ebff;}#sk-container-id-1 div.sk-parallel-item::after {content: \"\";width: 100%;border-bottom: 1px solid gray;flex-grow: 1;}#sk-container-id-1 div.sk-label:hover label.sk-toggleable__label {background-color: #d4ebff;}#sk-container-id-1 div.sk-serial::before {content: \"\";position: absolute;border-left: 1px solid gray;box-sizing: border-box;top: 0;bottom: 0;left: 50%;z-index: 0;}#sk-container-id-1 div.sk-serial {display: flex;flex-direction: column;align-items: center;background-color: white;padding-right: 0.2em;padding-left: 0.2em;position: relative;}#sk-container-id-1 div.sk-item {position: relative;z-index: 1;}#sk-container-id-1 div.sk-parallel {display: flex;align-items: stretch;justify-content: center;background-color: white;position: relative;}#sk-container-id-1 div.sk-item::before, #sk-container-id-1 div.sk-parallel-item::before {content: \"\";position: absolute;border-left: 1px solid gray;box-sizing: border-box;top: 0;bottom: 0;left: 50%;z-index: -1;}#sk-container-id-1 div.sk-parallel-item {display: flex;flex-direction: column;z-index: 1;position: relative;background-color: white;}#sk-container-id-1 div.sk-parallel-item:first-child::after {align-self: flex-end;width: 50%;}#sk-container-id-1 div.sk-parallel-item:last-child::after {align-self: flex-start;width: 50%;}#sk-container-id-1 div.sk-parallel-item:only-child::after {width: 0;}#sk-container-id-1 div.sk-dashed-wrapped {border: 1px dashed gray;margin: 0 0.4em 0.5em 0.4em;box-sizing: border-box;padding-bottom: 0.4em;background-color: white;}#sk-container-id-1 div.sk-label label {font-family: monospace;font-weight: bold;display: inline-block;line-height: 1.2em;}#sk-container-id-1 div.sk-label-container {text-align: center;}#sk-container-id-1 div.sk-container {/* jupyter's `normalize.less` sets `[hidden] { display: none; }` but bootstrap.min.css set `[hidden] { display: none !important; }` so we also need the `!important` here to be able to override the default hidden behavior on the sphinx rendered scikit-learn.org. See: https://github.com/scikit-learn/scikit-learn/issues/21755 */display: inline-block !important;position: relative;}#sk-container-id-1 div.sk-text-repr-fallback {display: none;}</style><div id=\"sk-container-id-1\" class=\"sk-top-container\"><div class=\"sk-text-repr-fallback\"><pre>KNeighborsRegressor(n_neighbors=10)</pre><b>In a Jupyter environment, please rerun this cell to show the HTML representation or trust the notebook. <br />On GitHub, the HTML representation is unable to render, please try loading this page with nbviewer.org.</b></div><div class=\"sk-container\" hidden><div class=\"sk-item\"><div class=\"sk-estimator sk-toggleable\"><input class=\"sk-toggleable__control sk-hidden--visually\" id=\"sk-estimator-id-1\" type=\"checkbox\" checked><label for=\"sk-estimator-id-1\" class=\"sk-toggleable__label sk-toggleable__label-arrow\">KNeighborsRegressor</label><div class=\"sk-toggleable__content\"><pre>KNeighborsRegressor(n_neighbors=10)</pre></div></div></div></div></div>"
      ],
      "text/plain": [
       "KNeighborsRegressor(n_neighbors=10)"
      ]
     },
     "execution_count": 3,
     "metadata": {},
     "output_type": "execute_result"
    }
   ],
   "source": [
    "from sklearn.neighbors import KNeighborsRegressor\n",
    "from sklearn.metrics import mean_squared_error, r2_score \n",
    "\n",
    "neigh = KNeighborsRegressor(n_neighbors=10)\n",
    "neigh.fit(x_train, y_train)"
   ]
  },
  {
   "cell_type": "markdown",
   "id": "1fa23c89-78c5-438e-87dc-7e82ec4c12ec",
   "metadata": {},
   "source": [
    "### Get the mse and rsquared on the testing set with k=10"
   ]
  },
  {
   "cell_type": "code",
   "execution_count": 4,
   "id": "7b3b8ea4",
   "metadata": {},
   "outputs": [
    {
     "name": "stdout",
     "output_type": "stream",
     "text": [
      "mse: 3308.41606741573, r2_score: 0.4848124304556761 .\n"
     ]
    }
   ],
   "source": [
    "y_pred = neigh.predict(x_test)\n",
    "mse = mean_squared_error(y_test, y_pred)\n",
    "r2 = r2_score(y_test, y_pred)\n",
    "\n",
    "print(f\"mse: {mse}, r2_score: {r2} .\")"
   ]
  },
  {
   "cell_type": "markdown",
   "id": "a5d24cc5-d6ad-4053-84ee-e01430bfde58",
   "metadata": {},
   "source": [
    "### Find the k that gives the lowset mse for the problem. (Try k's from 1-40). Print best k found"
   ]
  },
  {
   "cell_type": "code",
   "execution_count": 8,
   "id": "c9e8c7c3",
   "metadata": {},
   "outputs": [
    {
     "name": "stdout",
     "output_type": "stream",
     "text": [
      "The best K for minimum mse is: 20, and it's value is 3066.832106741573\n"
     ]
    }
   ],
   "source": [
    "import numpy as np\n",
    "\n",
    "dict_mse = {}\n",
    "for n in range(1,41):\n",
    "    neigh = KNeighborsRegressor(n_neighbors=n).fit(x_train, y_train)\n",
    "    y_pred = neigh.predict(x_test)\n",
    "    mse = mean_squared_error(y_test, y_pred)\n",
    "    dict_mse[n] = mse\n",
    "\n",
    "min_mse_idx = np.argmin(list(dict_mse.values()))\n",
    "print(f\"The best K for minimum mse is: {min_mse_idx+1}, and it\\'s value is {dict_mse[min_mse_idx+1]}\")"
   ]
  },
  {
   "cell_type": "markdown",
   "id": "b880873f-148b-41c2-a1be-13b8a0ae2ccf",
   "metadata": {},
   "source": [
    "### Plot testing set mse as k increases. Plot from k=1 to k=40 (y-axis: testing set mse, x-axis: k)"
   ]
  },
  {
   "cell_type": "code",
   "execution_count": 18,
   "id": "3a473141",
   "metadata": {},
   "outputs": [
    {
     "data": {
      "image/png": "[encoded data removed]",
      "text/plain": [
       "<Figure size 576x432 with 1 Axes>"
      ]
     },
     "metadata": {
      "needs_background": "light"
     },
     "output_type": "display_data"
    }
   ],
   "source": [
    "from cProfile import label\n",
    "import matplotlib.pyplot as plt\n",
    "\n",
    "xx = list(dict_mse.keys())\n",
    "yy = list(dict_mse.values())\n",
    "\n",
    "plt.figure(figsize=(8,6))\n",
    "plt.plot(xx, yy, color='green', label=\"test\", marker=\"o\", markerfacecolor=\"green\", markersize=3)\n",
    "plt.axvline(x=min_mse_idx+1, color=\"red\", linestyle=\"dashed\")\n",
    "plt.axhline(y=dict_mse[min_mse_idx+1], color=\"blue\", linestyle=\"dashed\")\n",
    "plt.xlabel(\"Number of neighbors (k)\")\n",
    "plt.ylabel(\"Mean Squared Error\")\n",
    "plt.legend()\n",
    "plt.show()"
   ]
  },
  {
   "cell_type": "markdown",
   "id": "bf7b9d62-a1d8-42d0-a256-9c16e1c6ae98",
   "metadata": {},
   "source": [
    "### Fit KnnRegressor with best k and get the mse and rsquared on testing set"
   ]
  },
  {
   "cell_type": "code",
   "execution_count": 19,
   "id": "433ad3a7",
   "metadata": {},
   "outputs": [
    {
     "name": "stdout",
     "output_type": "stream",
     "text": [
      "The lowest mse is: 3066.832106741573, and its corresponding r2 score is:0.5224319592587234\n"
     ]
    }
   ],
   "source": [
    "neigh = KNeighborsRegressor(n_neighbors=min_mse_idx+1).fit(x_train, y_train) \n",
    "y_pred = neigh.predict(x_test) \n",
    "mse = mean_squared_error(y_test, y_pred)\n",
    "r2 = r2_score(y_test, y_pred)\n",
    "\n",
    "print(f\"The lowest mse is: {mse}, and its corresponding r2 score is:{r2}\")"
   ]
  },
  {
   "cell_type": "markdown",
   "id": "d7b7576a-2684-4114-a290-4f4549b0a92a",
   "metadata": {},
   "source": [
    "## Feature scaling\n",
    "\n",
    "fit knn regressor here with feature scaling"
   ]
  },
  {
   "cell_type": "code",
   "execution_count": 20,
   "id": "0ed2ea26",
   "metadata": {},
   "outputs": [],
   "source": [
    "from sklearn.preprocessing import MinMaxScaler\n",
    "\n",
    "scaler = MinMaxScaler().fit(x_train)\n",
    "x_train_scl = scaler.transform(x_train)\n",
    "x_test_scl = scaler.transform(x_test)\n",
    "\n",
    "neigh = KNeighborsRegressor(n_neighbors=10).fit(x_train_scl, y_train)\n",
    "y_pred = neigh.predict(x_test_scl)"
   ]
  },
  {
   "cell_type": "markdown",
   "id": "bf2d1ddc-e52c-4a75-976a-e88789c25753",
   "metadata": {},
   "source": [
    "### Get the mse and rsquared on the testing set with k=10"
   ]
  },
  {
   "cell_type": "code",
   "execution_count": 21,
   "id": "57e22afb",
   "metadata": {},
   "outputs": [
    {
     "name": "stdout",
     "output_type": "stream",
     "text": [
      "mse: 3203.093595505618, r2 score: 0.5012132782378461 .\n"
     ]
    }
   ],
   "source": [
    "mse = mean_squared_error(y_test, y_pred)\n",
    "r2 = r2_score(y_test, y_pred)\n",
    "\n",
    "print(f\"mse: {mse}, r2 score: {r2} .\")"
   ]
  },
  {
   "cell_type": "markdown",
   "id": "343fc69f-82b0-433b-9cde-c629cd9c7e98",
   "metadata": {},
   "source": [
    "### Find the k that gives the lowset mse for the problem. (Try k's from 1-40). Print best k found"
   ]
  },
  {
   "cell_type": "code",
   "execution_count": 22,
   "id": "53a8448d",
   "metadata": {},
   "outputs": [
    {
     "name": "stdout",
     "output_type": "stream",
     "text": [
      "Key of the dictionary for minimum mse is: 16, and it's value is 3069.5179511938204\n"
     ]
    }
   ],
   "source": [
    "dict_mse = {}\n",
    "for n in range(1,41):\n",
    "    neigh = KNeighborsRegressor(n_neighbors=n).fit(x_train_scl, y_train)\n",
    "    y_pred = neigh.predict(x_test_scl)\n",
    "    mse = mean_squared_error(y_test, y_pred)\n",
    "    dict_mse[n] = mse\n",
    "\n",
    "min_mse_idx = np.argmin(list(dict_mse.values()))\n",
    "print(f\"Key of the dictionary for minimum mse is: {min_mse_idx+1}, and it\\'s value is {dict_mse[min_mse_idx+1]}\")"
   ]
  },
  {
   "cell_type": "markdown",
   "id": "2254de69-2436-4ef6-ae4c-2c55ec4ac845",
   "metadata": {},
   "source": [
    "### Plot testing set mse as k increases. Plot from k=1 to k=40 (y-axis: testing set mse, x-axis: k)"
   ]
  },
  {
   "cell_type": "code",
   "execution_count": 25,
   "id": "6cd8b31c",
   "metadata": {},
   "outputs": [
    {
     "data": {
      "image/png": "[encoded data removed]",
      "text/plain": [
       "<Figure size 576x432 with 1 Axes>"
      ]
     },
     "metadata": {
      "needs_background": "light"
     },
     "output_type": "display_data"
    }
   ],
   "source": [
    "import matplotlib.pyplot as plt\n",
    "\n",
    "xx = list(dict_mse.keys())\n",
    "yy = list(dict_mse.values())\n",
    "\n",
    "plt.figure(figsize=(8,6))\n",
    "plt.plot(xx, yy, color='green', label=\"test\", marker=\"o\", markersize=3)\n",
    "plt.axvline(x=min_mse_idx+1, linestyle=\"dashed\", color=\"red\")\n",
    "plt.axhline(y=dict_mse[min_mse_idx+1], linestyle=\"dashed\", color=\"blue\") \n",
    "plt.xlabel(\"Number of Neighbors (K)\")\n",
    "plt.ylabel(\"Mean Squared Error\")\n",
    "plt.title(\"MSE VS K\")\n",
    "plt.show()"
   ]
  },
  {
   "cell_type": "markdown",
   "id": "013ff3a4-6028-479d-b26e-ede590d7fdac",
   "metadata": {},
   "source": [
    "### Fit KnnRegressor with best k and get the mse and rsquared on testing set"
   ]
  },
  {
   "cell_type": "code",
   "execution_count": 26,
   "id": "f71fcba7",
   "metadata": {},
   "outputs": [
    {
     "name": "stdout",
     "output_type": "stream",
     "text": [
      "The lowest mse is: 3069.5179511938204, and its corresponding r2 score is:0.5220137187329457\n"
     ]
    }
   ],
   "source": [
    "neigh = KNeighborsRegressor(n_neighbors=min_mse_idx+1).fit(x_train_scl, y_train) \n",
    "y_pred = neigh.predict(x_test_scl) \n",
    "mse = mean_squared_error(y_test, y_pred)\n",
    "r2 = r2_score(y_test, y_pred)\n",
    "\n",
    "print(f\"The lowest mse is: {mse}, and its corresponding r2 score is:{r2}\")"
   ]
  },
  {
   "cell_type": "markdown",
   "id": "dd612ebb-c116-4d69-81df-907b74e4bf04",
   "metadata": {},
   "source": [
    "# DecisionTreeRegressor\n",
    "\n",
    "Fit Decision tree with default parameters"
   ]
  },
  {
   "cell_type": "code",
   "execution_count": 27,
   "id": "2f69c49e",
   "metadata": {},
   "outputs": [],
   "source": [
    "from sklearn.tree import DecisionTreeRegressor\n",
    "\n",
    "tree_reg = DecisionTreeRegressor(random_state=0).fit(x_train, y_train)"
   ]
  },
  {
   "cell_type": "markdown",
   "id": "67164fd5-b14f-46fd-a53a-e5fa244099db",
   "metadata": {},
   "source": [
    "## Calculate training mse and rsquared"
   ]
  },
  {
   "cell_type": "code",
   "execution_count": 28,
   "id": "bd7d7b9c",
   "metadata": {},
   "outputs": [
    {
     "name": "stdout",
     "output_type": "stream",
     "text": [
      "mse: 0.0, r2 score: 1.0\n"
     ]
    }
   ],
   "source": [
    "y_pred = tree_reg.predict(x_train)\n",
    "mse = mean_squared_error(y_train, y_pred)\n",
    "r2 = r2_score(y_train, y_pred)\n",
    "\n",
    "print(f\"mse: {mse}, r2 score: {r2}\")"
   ]
  },
  {
   "cell_type": "markdown",
   "id": "5ce402f0-2830-4bb1-aa61-202db3d10970",
   "metadata": {},
   "source": [
    "## Calculate testing mse and rsquared"
   ]
  },
  {
   "cell_type": "code",
   "execution_count": 29,
   "id": "6136ef9b",
   "metadata": {},
   "outputs": [
    {
     "name": "stdout",
     "output_type": "stream",
     "text": [
      "mse: 7668.741573033708, r2 score: -0.19417880096345663\n"
     ]
    }
   ],
   "source": [
    "y_pred = tree_reg.predict(x_test)\n",
    "mse = mean_squared_error(y_test, y_pred)\n",
    "r2 = r2_score(y_test, y_pred)\n",
    "\n",
    "print(f\"mse: {mse}, r2 score: {r2}\")"
   ]
  },
  {
   "cell_type": "markdown",
   "id": "99cbd827-9a8c-45fd-8504-ee4bc298ea9e",
   "metadata": {},
   "source": [
    "## Grid search decision tree hyperparameters for prepruning with mse as the target"
   ]
  },
  {
   "cell_type": "code",
   "execution_count": 30,
   "id": "3babfa72",
   "metadata": {},
   "outputs": [],
   "source": [
    "from sklearn.model_selection import GridSearchCV\n",
    "\n",
    "param_grid = {\n",
    "    \"max_depth\": [3, 5, 10, 15, 20, None],\n",
    "    \"min_samples_split\": [2, 5, 7, 10],\n",
    "    \"min_samples_leaf\": [1, 2, 5]\n",
    "}\n",
    "\n",
    "clf = DecisionTreeRegressor(random_state=0)\n",
    "grid_cv = GridSearchCV(\n",
    "    estimator=clf, \n",
    "    param_grid=param_grid, \n",
    "    scoring='neg_mean_squared_error', \n",
    "    n_jobs=-1, cv=3\n",
    "    ).fit(x_train, y_train)\n",
    "\n"
   ]
  },
  {
   "cell_type": "markdown",
   "id": "63d578ac-ce90-4e4b-86b8-f447bc11d850",
   "metadata": {},
   "source": [
    "### Print best_params, best_score"
   ]
  },
  {
   "cell_type": "code",
   "execution_count": 31,
   "id": "1c452e18",
   "metadata": {},
   "outputs": [
    {
     "name": "stdout",
     "output_type": "stream",
     "text": [
      "Param for GS {'max_depth': 3, 'min_samples_leaf': 1, 'min_samples_split': 2}\n",
      "CV score for GS -3884.288257578453\n"
     ]
    }
   ],
   "source": [
    "print(\"Param for GS\", grid_cv.best_params_)\n",
    "print(\"CV score for GS\", grid_cv.best_score_)"
   ]
  },
  {
   "cell_type": "markdown",
   "id": "2bdc315f-ac13-45ba-acab-9ba2800ada8e",
   "metadata": {},
   "source": [
    "### Use best estimator from grid search and Calculate mse and rsquared on training set "
   ]
  },
  {
   "cell_type": "code",
   "execution_count": 36,
   "id": "17496cfb",
   "metadata": {},
   "outputs": [
    {
     "name": "stdout",
     "output_type": "stream",
     "text": [
      "mse: 2692.126714828812, r2 score: 0.5361393024498831\n"
     ]
    }
   ],
   "source": [
    "clf = DecisionTreeRegressor(random_state=0, max_depth=3, min_samples_leaf=1, min_samples_split=2).fit(x_train, y_train)\n",
    "y_pred = clf.predict(x_train)\n",
    "mse = mean_squared_error(y_train, y_pred)\n",
    "r2 = r2_score(y_train, y_pred)\n",
    "\n",
    "print(f\"mse: {mse}, r2 score: {r2}\")"
   ]
  },
  {
   "cell_type": "code",
   "execution_count": 37,
   "id": "851ae414",
   "metadata": {},
   "outputs": [
    {
     "name": "stdout",
     "output_type": "stream",
     "text": [
      "mse: 2692.126714828812, r2 score: 0.5361393024498831\n"
     ]
    }
   ],
   "source": [
    "y_pred = grid_cv.predict(x_train)\n",
    "mse = mean_squared_error(y_train, y_pred)\n",
    "r2 = r2_score(y_train, y_pred)\n",
    "\n",
    "print(f\"mse: {mse}, r2 score: {r2}\")"
   ]
  },
  {
   "cell_type": "markdown",
   "id": "febb93f7-a59e-49dd-b06c-5a6767657eb9",
   "metadata": {},
   "source": [
    "### Use best estimator from grid search and Calculate mse and rsquared on testing set "
   ]
  },
  {
   "cell_type": "code",
   "execution_count": 38,
   "id": "cfed09fd",
   "metadata": {},
   "outputs": [
    {
     "name": "stdout",
     "output_type": "stream",
     "text": [
      "mse: 4072.175947955489, r2 score: 0.36587950649666023\n"
     ]
    }
   ],
   "source": [
    "y_pred = clf.predict(x_test) \n",
    "mse = mean_squared_error(y_test, y_pred)\n",
    "r2 = r2_score(y_test, y_pred)\n",
    "\n",
    "print(f\"mse: {mse}, r2 score: {r2}\")"
   ]
  },
  {
   "cell_type": "code",
   "execution_count": 39,
   "id": "94f1daf4",
   "metadata": {},
   "outputs": [
    {
     "name": "stdout",
     "output_type": "stream",
     "text": [
      "mse: 4072.175947955489, r2 score: 0.36587950649666023\n"
     ]
    }
   ],
   "source": [
    "y_pred = grid_cv.predict(x_test)\n",
    "mse = mean_squared_error(y_test, y_pred)\n",
    "r2 = r2_score(y_test, y_pred)\n",
    "\n",
    "print(f\"mse: {mse}, r2 score: {r2}\")"
   ]
  },
  {
   "cell_type": "markdown",
   "id": "1872be37-c365-4d49-8ab2-b2c5b21d8462",
   "metadata": {},
   "source": [
    "### Show dataframe for all Grid search results"
   ]
  },
  {
   "cell_type": "code",
   "execution_count": 40,
   "id": "8f34bb88",
   "metadata": {},
   "outputs": [
    {
     "data": {
      "text/html": [
       "<div>\n",
       "<style scoped>\n",
       "    .dataframe tbody tr th:only-of-type {\n",
       "        vertical-align: middle;\n",
       "    }\n",
       "\n",
       "    .dataframe tbody tr th {\n",
       "        vertical-align: top;\n",
       "    }\n",
       "\n",
       "    .dataframe thead th {\n",
       "        text-align: right;\n",
       "    }\n",
       "</style>\n",
       "<table border=\"1\" class=\"dataframe\">\n",
       "  <thead>\n",
       "    <tr style=\"text-align: right;\">\n",
       "      <th></th>\n",
       "      <th>mean_fit_time</th>\n",
       "      <th>std_fit_time</th>\n",
       "      <th>mean_score_time</th>\n",
       "      <th>std_score_time</th>\n",
       "      <th>param_max_depth</th>\n",
       "      <th>param_min_samples_leaf</th>\n",
       "      <th>param_min_samples_split</th>\n",
       "      <th>params</th>\n",
       "      <th>split0_test_score</th>\n",
       "      <th>split1_test_score</th>\n",
       "      <th>split2_test_score</th>\n",
       "      <th>mean_test_score</th>\n",
       "      <th>std_test_score</th>\n",
       "      <th>rank_test_score</th>\n",
       "    </tr>\n",
       "  </thead>\n",
       "  <tbody>\n",
       "    <tr>\n",
       "      <th>0</th>\n",
       "      <td>0.007802</td>\n",
       "      <td>0.001067</td>\n",
       "      <td>0.004866</td>\n",
       "      <td>0.000646</td>\n",
       "      <td>3</td>\n",
       "      <td>1</td>\n",
       "      <td>2</td>\n",
       "      <td>{'max_depth': 3, 'min_samples_leaf': 1, 'min_s...</td>\n",
       "      <td>-3199.935413</td>\n",
       "      <td>-4301.272953</td>\n",
       "      <td>-4151.656406</td>\n",
       "      <td>-3884.288258</td>\n",
       "      <td>487.750202</td>\n",
       "      <td>1</td>\n",
       "    </tr>\n",
       "    <tr>\n",
       "      <th>1</th>\n",
       "      <td>0.007758</td>\n",
       "      <td>0.000572</td>\n",
       "      <td>0.004750</td>\n",
       "      <td>0.001135</td>\n",
       "      <td>3</td>\n",
       "      <td>1</td>\n",
       "      <td>5</td>\n",
       "      <td>{'max_depth': 3, 'min_samples_leaf': 1, 'min_s...</td>\n",
       "      <td>-3199.935413</td>\n",
       "      <td>-4301.272953</td>\n",
       "      <td>-4151.656406</td>\n",
       "      <td>-3884.288258</td>\n",
       "      <td>487.750202</td>\n",
       "      <td>1</td>\n",
       "    </tr>\n",
       "    <tr>\n",
       "      <th>2</th>\n",
       "      <td>0.012793</td>\n",
       "      <td>0.007215</td>\n",
       "      <td>0.007253</td>\n",
       "      <td>0.004060</td>\n",
       "      <td>3</td>\n",
       "      <td>1</td>\n",
       "      <td>7</td>\n",
       "      <td>{'max_depth': 3, 'min_samples_leaf': 1, 'min_s...</td>\n",
       "      <td>-3199.935413</td>\n",
       "      <td>-4301.272953</td>\n",
       "      <td>-4151.656406</td>\n",
       "      <td>-3884.288258</td>\n",
       "      <td>487.750202</td>\n",
       "      <td>1</td>\n",
       "    </tr>\n",
       "    <tr>\n",
       "      <th>3</th>\n",
       "      <td>0.009791</td>\n",
       "      <td>0.003598</td>\n",
       "      <td>0.005518</td>\n",
       "      <td>0.002036</td>\n",
       "      <td>3</td>\n",
       "      <td>1</td>\n",
       "      <td>10</td>\n",
       "      <td>{'max_depth': 3, 'min_samples_leaf': 1, 'min_s...</td>\n",
       "      <td>-3199.935413</td>\n",
       "      <td>-4301.272953</td>\n",
       "      <td>-4151.656406</td>\n",
       "      <td>-3884.288258</td>\n",
       "      <td>487.750202</td>\n",
       "      <td>1</td>\n",
       "    </tr>\n",
       "    <tr>\n",
       "      <th>4</th>\n",
       "      <td>0.005509</td>\n",
       "      <td>0.001181</td>\n",
       "      <td>0.003628</td>\n",
       "      <td>0.001042</td>\n",
       "      <td>3</td>\n",
       "      <td>2</td>\n",
       "      <td>2</td>\n",
       "      <td>{'max_depth': 3, 'min_samples_leaf': 2, 'min_s...</td>\n",
       "      <td>-3199.935413</td>\n",
       "      <td>-4301.272953</td>\n",
       "      <td>-4151.656406</td>\n",
       "      <td>-3884.288258</td>\n",
       "      <td>487.750202</td>\n",
       "      <td>1</td>\n",
       "    </tr>\n",
       "    <tr>\n",
       "      <th>...</th>\n",
       "      <td>...</td>\n",
       "      <td>...</td>\n",
       "      <td>...</td>\n",
       "      <td>...</td>\n",
       "      <td>...</td>\n",
       "      <td>...</td>\n",
       "      <td>...</td>\n",
       "      <td>...</td>\n",
       "      <td>...</td>\n",
       "      <td>...</td>\n",
       "      <td>...</td>\n",
       "      <td>...</td>\n",
       "      <td>...</td>\n",
       "      <td>...</td>\n",
       "    </tr>\n",
       "    <tr>\n",
       "      <th>67</th>\n",
       "      <td>0.006183</td>\n",
       "      <td>0.000862</td>\n",
       "      <td>0.002661</td>\n",
       "      <td>0.000474</td>\n",
       "      <td>None</td>\n",
       "      <td>2</td>\n",
       "      <td>10</td>\n",
       "      <td>{'max_depth': None, 'min_samples_leaf': 2, 'mi...</td>\n",
       "      <td>-4693.001750</td>\n",
       "      <td>-5318.621059</td>\n",
       "      <td>-5206.009637</td>\n",
       "      <td>-5072.544149</td>\n",
       "      <td>272.286194</td>\n",
       "      <td>41</td>\n",
       "    </tr>\n",
       "    <tr>\n",
       "      <th>68</th>\n",
       "      <td>0.006720</td>\n",
       "      <td>0.001847</td>\n",
       "      <td>0.003618</td>\n",
       "      <td>0.001468</td>\n",
       "      <td>None</td>\n",
       "      <td>5</td>\n",
       "      <td>2</td>\n",
       "      <td>{'max_depth': None, 'min_samples_leaf': 5, 'mi...</td>\n",
       "      <td>-4341.549556</td>\n",
       "      <td>-5445.241630</td>\n",
       "      <td>-5199.122283</td>\n",
       "      <td>-4995.304490</td>\n",
       "      <td>473.068225</td>\n",
       "      <td>25</td>\n",
       "    </tr>\n",
       "    <tr>\n",
       "      <th>69</th>\n",
       "      <td>0.005721</td>\n",
       "      <td>0.000888</td>\n",
       "      <td>0.002326</td>\n",
       "      <td>0.000468</td>\n",
       "      <td>None</td>\n",
       "      <td>5</td>\n",
       "      <td>5</td>\n",
       "      <td>{'max_depth': None, 'min_samples_leaf': 5, 'mi...</td>\n",
       "      <td>-4341.549556</td>\n",
       "      <td>-5445.241630</td>\n",
       "      <td>-5199.122283</td>\n",
       "      <td>-4995.304490</td>\n",
       "      <td>473.068225</td>\n",
       "      <td>25</td>\n",
       "    </tr>\n",
       "    <tr>\n",
       "      <th>70</th>\n",
       "      <td>0.004983</td>\n",
       "      <td>0.000002</td>\n",
       "      <td>0.002658</td>\n",
       "      <td>0.000470</td>\n",
       "      <td>None</td>\n",
       "      <td>5</td>\n",
       "      <td>7</td>\n",
       "      <td>{'max_depth': None, 'min_samples_leaf': 5, 'mi...</td>\n",
       "      <td>-4341.549556</td>\n",
       "      <td>-5445.241630</td>\n",
       "      <td>-5199.122283</td>\n",
       "      <td>-4995.304490</td>\n",
       "      <td>473.068225</td>\n",
       "      <td>25</td>\n",
       "    </tr>\n",
       "    <tr>\n",
       "      <th>71</th>\n",
       "      <td>0.006016</td>\n",
       "      <td>0.000298</td>\n",
       "      <td>0.003255</td>\n",
       "      <td>0.000887</td>\n",
       "      <td>None</td>\n",
       "      <td>5</td>\n",
       "      <td>10</td>\n",
       "      <td>{'max_depth': None, 'min_samples_leaf': 5, 'mi...</td>\n",
       "      <td>-4341.549556</td>\n",
       "      <td>-5445.241630</td>\n",
       "      <td>-5199.122283</td>\n",
       "      <td>-4995.304490</td>\n",
       "      <td>473.068225</td>\n",
       "      <td>25</td>\n",
       "    </tr>\n",
       "  </tbody>\n",
       "</table>\n",
       "<p>72 rows × 14 columns</p>\n",
       "</div>"
      ],
      "text/plain": [
       "    mean_fit_time  std_fit_time  mean_score_time  std_score_time  \\\n",
       "0        0.007802      0.001067         0.004866        0.000646   \n",
       "1        0.007758      0.000572         0.004750        0.001135   \n",
       "2        0.012793      0.007215         0.007253        0.004060   \n",
       "3        0.009791      0.003598         0.005518        0.002036   \n",
       "4        0.005509      0.001181         0.003628        0.001042   \n",
       "..            ...           ...              ...             ...   \n",
       "67       0.006183      0.000862         0.002661        0.000474   \n",
       "68       0.006720      0.001847         0.003618        0.001468   \n",
       "69       0.005721      0.000888         0.002326        0.000468   \n",
       "70       0.004983      0.000002         0.002658        0.000470   \n",
       "71       0.006016      0.000298         0.003255        0.000887   \n",
       "\n",
       "   param_max_depth param_min_samples_leaf param_min_samples_split  \\\n",
       "0                3                      1                       2   \n",
       "1                3                      1                       5   \n",
       "2                3                      1                       7   \n",
       "3                3                      1                      10   \n",
       "4                3                      2                       2   \n",
       "..             ...                    ...                     ...   \n",
       "67            None                      2                      10   \n",
       "68            None                      5                       2   \n",
       "69            None                      5                       5   \n",
       "70            None                      5                       7   \n",
       "71            None                      5                      10   \n",
       "\n",
       "                                               params  split0_test_score  \\\n",
       "0   {'max_depth': 3, 'min_samples_leaf': 1, 'min_s...       -3199.935413   \n",
       "1   {'max_depth': 3, 'min_samples_leaf': 1, 'min_s...       -3199.935413   \n",
       "2   {'max_depth': 3, 'min_samples_leaf': 1, 'min_s...       -3199.935413   \n",
       "3   {'max_depth': 3, 'min_samples_leaf': 1, 'min_s...       -3199.935413   \n",
       "4   {'max_depth': 3, 'min_samples_leaf': 2, 'min_s...       -3199.935413   \n",
       "..                                                ...                ...   \n",
       "67  {'max_depth': None, 'min_samples_leaf': 2, 'mi...       -4693.001750   \n",
       "68  {'max_depth': None, 'min_samples_leaf': 5, 'mi...       -4341.549556   \n",
       "69  {'max_depth': None, 'min_samples_leaf': 5, 'mi...       -4341.549556   \n",
       "70  {'max_depth': None, 'min_samples_leaf': 5, 'mi...       -4341.549556   \n",
       "71  {'max_depth': None, 'min_samples_leaf': 5, 'mi...       -4341.549556   \n",
       "\n",
       "    split1_test_score  split2_test_score  mean_test_score  std_test_score  \\\n",
       "0        -4301.272953       -4151.656406     -3884.288258      487.750202   \n",
       "1        -4301.272953       -4151.656406     -3884.288258      487.750202   \n",
       "2        -4301.272953       -4151.656406     -3884.288258      487.750202   \n",
       "3        -4301.272953       -4151.656406     -3884.288258      487.750202   \n",
       "4        -4301.272953       -4151.656406     -3884.288258      487.750202   \n",
       "..                ...                ...              ...             ...   \n",
       "67       -5318.621059       -5206.009637     -5072.544149      272.286194   \n",
       "68       -5445.241630       -5199.122283     -4995.304490      473.068225   \n",
       "69       -5445.241630       -5199.122283     -4995.304490      473.068225   \n",
       "70       -5445.241630       -5199.122283     -4995.304490      473.068225   \n",
       "71       -5445.241630       -5199.122283     -4995.304490      473.068225   \n",
       "\n",
       "    rank_test_score  \n",
       "0                 1  \n",
       "1                 1  \n",
       "2                 1  \n",
       "3                 1  \n",
       "4                 1  \n",
       "..              ...  \n",
       "67               41  \n",
       "68               25  \n",
       "69               25  \n",
       "70               25  \n",
       "71               25  \n",
       "\n",
       "[72 rows x 14 columns]"
      ]
     },
     "execution_count": 40,
     "metadata": {},
     "output_type": "execute_result"
    }
   ],
   "source": [
    "import pandas as pd\n",
    "\n",
    "pd.DataFrame(grid_cv.cv_results_)"
   ]
  },
  {
   "cell_type": "markdown",
   "id": "eee670c7-a7cc-4f6b-9bfe-a9b2f6a179d2",
   "metadata": {},
   "source": [
    "## Use cost_complexity_pruning_path function to get alpha's and impurities from the tree for postpruning"
   ]
  },
  {
   "cell_type": "code",
   "execution_count": 41,
   "id": "6e5d86f2",
   "metadata": {},
   "outputs": [],
   "source": [
    "# My first decision tree oblect was \"tree_reg\". \n",
    "# So I am using this object that is not pruned at all. \n",
    "\n",
    "path = tree_reg.cost_complexity_pruning_path(x_train, y_train)\n",
    "ccp_alphas = path.ccp_alphas\n",
    "impurities = path.impurities"
   ]
  },
  {
   "cell_type": "markdown",
   "id": "49cb0ecb-e129-41c0-a7b8-7ee0fa80ec81",
   "metadata": {},
   "source": [
    "### Plot impurities against alpha's returned by the function (y-axis: impurities, x-axis: alpha)"
   ]
  },
  {
   "cell_type": "code",
   "execution_count": 42,
   "id": "522f2314",
   "metadata": {},
   "outputs": [
    {
     "data": {
      "image/png": "[encoded data removed]",
      "text/plain": [
       "<Figure size 576x432 with 1 Axes>"
      ]
     },
     "metadata": {
      "needs_background": "light"
     },
     "output_type": "display_data"
    }
   ],
   "source": [
    "plt.figure(figsize=(8,6))\n",
    "plt.plot(ccp_alphas, impurities, marker=\"o\", markersize=3)\n",
    "plt.xlabel(\"Alphas\")\n",
    "plt.ylabel(\"Impurities\")\n",
    "plt.title(\"Impurities - Alphas\")\n",
    "plt.show()"
   ]
  },
  {
   "cell_type": "markdown",
   "id": "508f795d-6b31-4e19-9ad3-a2a239fd1005",
   "metadata": {},
   "source": [
    "## Train Decision Trees with all alphas returned by the function and get the train mse and test mse"
   ]
  },
  {
   "cell_type": "code",
   "execution_count": 43,
   "id": "2aebfc0d",
   "metadata": {},
   "outputs": [],
   "source": [
    "train_mse, test_mse = {}, {}\n",
    "for alpha in ccp_alphas:\n",
    "    clf = DecisionTreeRegressor(ccp_alpha=alpha)\n",
    "    clf.fit(x_train, y_train)\n",
    "    y_pred = clf.predict(x_train)\n",
    "    mse = mean_squared_error(y_train, y_pred)\n",
    "    train_mse[alpha] = mse\n",
    "    y_pred = clf.predict(x_test)\n",
    "    mse = mean_squared_error(y_test, y_pred) \n",
    "    test_mse[alpha] = mse"
   ]
  },
  {
   "cell_type": "markdown",
   "id": "d8aeb2c1-99db-4de6-9fcd-94b39951516c",
   "metadata": {},
   "source": [
    "## Plot train ans test mse's against alphas (y-axis: mse, x-axis: alpha)"
   ]
  },
  {
   "cell_type": "code",
   "execution_count": 47,
   "id": "b6d8a3b9",
   "metadata": {},
   "outputs": [
    {
     "data": {
      "image/png": "[encoded data removed]",
      "text/plain": [
       "<Figure size 576x432 with 1 Axes>"
      ]
     },
     "metadata": {
      "needs_background": "light"
     },
     "output_type": "display_data"
    }
   ],
   "source": [
    "plt.figure(figsize=(8,6))\n",
    "xx = list(train_mse.keys())\n",
    "yy = list(train_mse.values())\n",
    "plt.plot(xx, yy, color='blue', label=\"train\")\n",
    "xx = list(test_mse.keys())\n",
    "yy = list(test_mse.values())\n",
    "plt.plot(xx, yy, color='red', label=\"test\")\n",
    "plt.axvline(x=min_alpha, linestyle=\"dashed\")\n",
    "plt.xlabel(\"Alphas\")\n",
    "plt.ylabel(\"Mean Squared Error\")\n",
    "plt.title(\"MSE - Alphas (train and test)\")\n",
    "plt.legend()\n",
    "plt.show()"
   ]
  },
  {
   "cell_type": "markdown",
   "id": "c36989a8-c8ce-434e-a6de-90d6510c1df1",
   "metadata": {},
   "source": [
    "## Grab and print the alpha that gives the smallest mse in testing set"
   ]
  },
  {
   "cell_type": "code",
   "execution_count": 46,
   "id": "1ed46700",
   "metadata": {},
   "outputs": [
    {
     "name": "stdout",
     "output_type": "stream",
     "text": [
      "The alpha for which the mse is minimum is: 101.41074002286234, and its coresponding mse value is: 4063.2750451208635\n"
     ]
    }
   ],
   "source": [
    "min_mse = min(list(test_mse.values()))\n",
    "min_idx = np.argmin(list(test_mse.values()))\n",
    "min_alpha = list(test_mse.keys())[min_idx]\n",
    "print(f\"The alpha for which the mse is minimum is: {min_alpha}, and its coresponding mse value is: {test_mse[min_alpha]}\")"
   ]
  },
  {
   "cell_type": "markdown",
   "id": "f3a63dab-3c97-491a-8f99-3d3c61a142c0",
   "metadata": {},
   "source": [
    "## Use the best alpha and fit a decsion tree"
   ]
  },
  {
   "cell_type": "code",
   "execution_count": 48,
   "id": "7d507af1",
   "metadata": {},
   "outputs": [
    {
     "data": {
      "text/html": [
       "<style>#sk-container-id-2 {color: black;background-color: white;}#sk-container-id-2 pre{padding: 0;}#sk-container-id-2 div.sk-toggleable {background-color: white;}#sk-container-id-2 label.sk-toggleable__label {cursor: pointer;display: block;width: 100%;margin-bottom: 0;padding: 0.3em;box-sizing: border-box;text-align: center;}#sk-container-id-2 label.sk-toggleable__label-arrow:before {content: \"▸\";float: left;margin-right: 0.25em;color: #696969;}#sk-container-id-2 label.sk-toggleable__label-arrow:hover:before {color: black;}#sk-container-id-2 div.sk-estimator:hover label.sk-toggleable__label-arrow:before {color: black;}#sk-container-id-2 div.sk-toggleable__content {max-height: 0;max-width: 0;overflow: hidden;text-align: left;background-color: #f0f8ff;}#sk-container-id-2 div.sk-toggleable__content pre {margin: 0.2em;color: black;border-radius: 0.25em;background-color: #f0f8ff;}#sk-container-id-2 input.sk-toggleable__control:checked~div.sk-toggleable__content {max-height: 200px;max-width: 100%;overflow: auto;}#sk-container-id-2 input.sk-toggleable__control:checked~label.sk-toggleable__label-arrow:before {content: \"▾\";}#sk-container-id-2 div.sk-estimator input.sk-toggleable__control:checked~label.sk-toggleable__label {background-color: #d4ebff;}#sk-container-id-2 div.sk-label input.sk-toggleable__control:checked~label.sk-toggleable__label {background-color: #d4ebff;}#sk-container-id-2 input.sk-hidden--visually {border: 0;clip: rect(1px 1px 1px 1px);clip: rect(1px, 1px, 1px, 1px);height: 1px;margin: -1px;overflow: hidden;padding: 0;position: absolute;width: 1px;}#sk-container-id-2 div.sk-estimator {font-family: monospace;background-color: #f0f8ff;border: 1px dotted black;border-radius: 0.25em;box-sizing: border-box;margin-bottom: 0.5em;}#sk-container-id-2 div.sk-estimator:hover {background-color: #d4ebff;}#sk-container-id-2 div.sk-parallel-item::after {content: \"\";width: 100%;border-bottom: 1px solid gray;flex-grow: 1;}#sk-container-id-2 div.sk-label:hover label.sk-toggleable__label {background-color: #d4ebff;}#sk-container-id-2 div.sk-serial::before {content: \"\";position: absolute;border-left: 1px solid gray;box-sizing: border-box;top: 0;bottom: 0;left: 50%;z-index: 0;}#sk-container-id-2 div.sk-serial {display: flex;flex-direction: column;align-items: center;background-color: white;padding-right: 0.2em;padding-left: 0.2em;position: relative;}#sk-container-id-2 div.sk-item {position: relative;z-index: 1;}#sk-container-id-2 div.sk-parallel {display: flex;align-items: stretch;justify-content: center;background-color: white;position: relative;}#sk-container-id-2 div.sk-item::before, #sk-container-id-2 div.sk-parallel-item::before {content: \"\";position: absolute;border-left: 1px solid gray;box-sizing: border-box;top: 0;bottom: 0;left: 50%;z-index: -1;}#sk-container-id-2 div.sk-parallel-item {display: flex;flex-direction: column;z-index: 1;position: relative;background-color: white;}#sk-container-id-2 div.sk-parallel-item:first-child::after {align-self: flex-end;width: 50%;}#sk-container-id-2 div.sk-parallel-item:last-child::after {align-self: flex-start;width: 50%;}#sk-container-id-2 div.sk-parallel-item:only-child::after {width: 0;}#sk-container-id-2 div.sk-dashed-wrapped {border: 1px dashed gray;margin: 0 0.4em 0.5em 0.4em;box-sizing: border-box;padding-bottom: 0.4em;background-color: white;}#sk-container-id-2 div.sk-label label {font-family: monospace;font-weight: bold;display: inline-block;line-height: 1.2em;}#sk-container-id-2 div.sk-label-container {text-align: center;}#sk-container-id-2 div.sk-container {/* jupyter's `normalize.less` sets `[hidden] { display: none; }` but bootstrap.min.css set `[hidden] { display: none !important; }` so we also need the `!important` here to be able to override the default hidden behavior on the sphinx rendered scikit-learn.org. See: https://github.com/scikit-learn/scikit-learn/issues/21755 */display: inline-block !important;position: relative;}#sk-container-id-2 div.sk-text-repr-fallback {display: none;}</style><div id=\"sk-container-id-2\" class=\"sk-top-container\"><div class=\"sk-text-repr-fallback\"><pre>DecisionTreeRegressor(ccp_alpha=101.41074002286234, random_state=0)</pre><b>In a Jupyter environment, please rerun this cell to show the HTML representation or trust the notebook. <br />On GitHub, the HTML representation is unable to render, please try loading this page with nbviewer.org.</b></div><div class=\"sk-container\" hidden><div class=\"sk-item\"><div class=\"sk-estimator sk-toggleable\"><input class=\"sk-toggleable__control sk-hidden--visually\" id=\"sk-estimator-id-2\" type=\"checkbox\" checked><label for=\"sk-estimator-id-2\" class=\"sk-toggleable__label sk-toggleable__label-arrow\">DecisionTreeRegressor</label><div class=\"sk-toggleable__content\"><pre>DecisionTreeRegressor(ccp_alpha=101.41074002286234, random_state=0)</pre></div></div></div></div></div>"
      ],
      "text/plain": [
       "DecisionTreeRegressor(ccp_alpha=101.41074002286234, random_state=0)"
      ]
     },
     "execution_count": 48,
     "metadata": {},
     "output_type": "execute_result"
    }
   ],
   "source": [
    "regressor = DecisionTreeRegressor(ccp_alpha=k, random_state=0)\n",
    "regressor.fit(x_train, y_train)"
   ]
  },
  {
   "cell_type": "markdown",
   "id": "f5b17e40-dede-4d6e-8556-7573c19080de",
   "metadata": {},
   "source": [
    "### Get training mse and rsquared "
   ]
  },
  {
   "cell_type": "code",
   "execution_count": 49,
   "id": "f389f45b",
   "metadata": {},
   "outputs": [
    {
     "name": "stdout",
     "output_type": "stream",
     "text": [
      "mse: 2723.1019426697235, re score: 0.530802187107609\n"
     ]
    }
   ],
   "source": [
    "y_pred = regressor.predict(x_train)\n",
    "mse = mean_squared_error(y_train, y_pred)\n",
    "r2 = r2_score(y_train, y_pred)\n",
    "\n",
    "print(f\"mse: {mse}, re score: {r2}\")"
   ]
  },
  {
   "cell_type": "markdown",
   "id": "e83755ef-68a8-4734-a749-8d4d1dc431ac",
   "metadata": {},
   "source": [
    "### Get testing mse and rsquared"
   ]
  },
  {
   "cell_type": "code",
   "execution_count": 50,
   "id": "3b153f95",
   "metadata": {},
   "outputs": [
    {
     "name": "stdout",
     "output_type": "stream",
     "text": [
      "mse: 4063.2750451208635, re score: 0.3672655578289833\n"
     ]
    }
   ],
   "source": [
    "y_pred = regressor.predict(x_test)\n",
    "mse = mean_squared_error(y_test, y_pred)\n",
    "r2 = r2_score(y_test, y_pred)\n",
    "\n",
    "print(f\"mse: {mse}, re score: {r2}\")"
   ]
  },
  {
   "cell_type": "markdown",
   "id": "90e6c42d-77c0-46ac-9fd1-3a8e86daae33",
   "metadata": {},
   "source": [
    "### Plot decision tree using alpha that gives the smallest mse"
   ]
  },
  {
   "cell_type": "code",
   "execution_count": 54,
   "id": "bc24141c",
   "metadata": {},
   "outputs": [
    {
     "data": {
      "image/png": "[encoded data removed]",
      "text/plain": [
       "<Figure size 1152x1152 with 1 Axes>"
      ]
     },
     "metadata": {
      "needs_background": "light"
     },
     "output_type": "display_data"
    }
   ],
   "source": [
    "from sklearn.tree import plot_tree \n",
    "fig = plt.figure(figsize=(16,16)) \n",
    "plot_tree(regressor, filled=True, feature_names=load_diabetes().feature_names) \n",
    "plt.title(\"Decision Tree\") \n",
    "plt.show()"
   ]
  },
  {
   "cell_type": "markdown",
   "id": "4db7c69d-dca0-437f-b593-612fca33c851",
   "metadata": {},
   "source": [
    "# Loading Classification Data"
   ]
  },
  {
   "cell_type": "code",
   "execution_count": 55,
   "id": "7d44540c",
   "metadata": {},
   "outputs": [],
   "source": [
    "from trace import Trace\n",
    "from sklearn.datasets import load_wine\n",
    "\n",
    "x = load_wine(as_frame=Trace).data\n",
    "y = load_wine().target"
   ]
  },
  {
   "cell_type": "markdown",
   "id": "53ec6ef8-8e19-42e8-a430-b45cc716cb6c",
   "metadata": {},
   "source": [
    "# Split training and testing data here"
   ]
  },
  {
   "cell_type": "code",
   "execution_count": 56,
   "id": "4d320a1e",
   "metadata": {},
   "outputs": [
    {
     "name": "stdout",
     "output_type": "stream",
     "text": [
      "142 36\n"
     ]
    }
   ],
   "source": [
    "x_train, x_test, y_train, y_test = train_test_split(x, y, test_size=0.2, shuffle=True)\n",
    "print(len(x_train), len(x_test))"
   ]
  },
  {
   "cell_type": "markdown",
   "id": "4baa0171-60f3-4a2f-96a2-79066580d83e",
   "metadata": {},
   "source": [
    "# KNeighborsClassifier\n",
    "\n",
    "## No feature scaling\n",
    "fit Knn Classifier with k=5 Split training and testing data here"
   ]
  },
  {
   "cell_type": "code",
   "execution_count": 57,
   "id": "217e84c3",
   "metadata": {},
   "outputs": [],
   "source": [
    "from sklearn.neighbors import KNeighborsClassifier\n",
    "\n",
    "clf = KNeighborsClassifier(n_neighbors=5).fit(x_train, y_train)\n",
    "y_pred = clf.predict(x_test)\n",
    "y_pred_log = clf.predict_proba(x_test)"
   ]
  },
  {
   "cell_type": "markdown",
   "id": "eb52f07a-fe1b-40c8-8cc7-ba0c7d1d658c",
   "metadata": {},
   "source": [
    "### Get the accuracy and log_loss on the testing set with k=5"
   ]
  },
  {
   "cell_type": "code",
   "execution_count": 58,
   "id": "de6def5b",
   "metadata": {},
   "outputs": [
    {
     "name": "stdout",
     "output_type": "stream",
     "text": [
      "accuracy: 0.6666666666666666, and log loss: 2.349030879737426\n"
     ]
    }
   ],
   "source": [
    "from sklearn.metrics import accuracy_score, log_loss\n",
    "\n",
    "acc = accuracy_score(y_test, y_pred, normalize=True)\n",
    "log = log_loss(y_test, y_pred_log)\n",
    "\n",
    "print(f\"accuracy: {acc}, and log loss: {log}\")"
   ]
  },
  {
   "cell_type": "markdown",
   "id": "c4e004f2-83f1-4b61-bb1c-6acc9a7b919f",
   "metadata": {},
   "source": [
    "### Find the k that gives the lowest log_loss for the problem. (Try k's from 1-40). Print best k found"
   ]
  },
  {
   "cell_type": "code",
   "execution_count": 68,
   "id": "aed4e441",
   "metadata": {},
   "outputs": [
    {
     "name": "stdout",
     "output_type": "stream",
     "text": [
      "The lowest log loss is: 0.6154875239283647, and its coressponding number of neighbors is 22\n"
     ]
    }
   ],
   "source": [
    "dict_log = {}\n",
    "for n in range(1,41):\n",
    "    clf = KNeighborsClassifier(n_neighbors=n).fit(x_train, y_train)\n",
    "    y_pred = clf.predict_proba(x_test)\n",
    "    log = log_loss(y_test, y_pred)\n",
    "    dict_log[n] = log\n",
    "\n",
    "k = np.argmin(list(dict_log.values()))\n",
    "print(f\"The lowest log loss is: {dict_log[k+1]}, and its coressponding number of neighbors is {k+1}\")"
   ]
  },
  {
   "cell_type": "markdown",
   "id": "dbaaff39-600d-4cf0-bc77-ef0ce563315d",
   "metadata": {},
   "source": [
    "### Plot testing set log loss as k increases. Plot from k=1 to k=40 (y-axis: testing set log loss, x-axis: k)"
   ]
  },
  {
   "cell_type": "code",
   "execution_count": 69,
   "id": "00b13514",
   "metadata": {},
   "outputs": [
    {
     "data": {
      "image/png": "[encoded data removed]",
      "text/plain": [
       "<Figure size 576x432 with 1 Axes>"
      ]
     },
     "metadata": {
      "needs_background": "light"
     },
     "output_type": "display_data"
    }
   ],
   "source": [
    "xx = list(dict_log.keys())\n",
    "yy = list(dict_log.values())\n",
    "\n",
    "plt.figure(figsize=(8,6))\n",
    "plt.plot(xx, yy, color='green', label=\"test\")\n",
    "plt.axvline(x=k+1, color='red', linestyle=\"dashed\")\n",
    "plt.xlabel(\"Number of Neighbors (K)\")\n",
    "plt.ylabel(\"Mean Squared Error\")\n",
    "plt.legend()\n",
    "plt.show()"
   ]
  },
  {
   "cell_type": "markdown",
   "id": "64a0b60e-d07b-4be2-abea-d6a34f96c53a",
   "metadata": {},
   "source": [
    "### Fit KnnClassifier with best k and get the accuracy and log loss on testing set"
   ]
  },
  {
   "cell_type": "code",
   "execution_count": 70,
   "id": "2b2bc60d",
   "metadata": {},
   "outputs": [
    {
     "name": "stdout",
     "output_type": "stream",
     "text": [
      "For k=37 as the best number of neighbors, acc is: 0.6388888888888888, and log loss is: 0.6154875239283647\n"
     ]
    }
   ],
   "source": [
    "clf = KNeighborsClassifier(n_neighbors=k+1).fit(x_train, y_train)\n",
    "y_pred = clf.predict(x_test)\n",
    "y_pred_log = clf.predict_proba(x_test)\n",
    "acc = accuracy_score(y_test, y_pred)\n",
    "log = log_loss(y_test, y_pred_log)\n",
    "\n",
    "print(f\"For k=37 as the best number of neighbors, acc is: {acc}, and log loss is: {log}\")"
   ]
  },
  {
   "cell_type": "markdown",
   "id": "3ea1e485-010a-43b6-a286-89e807b8d62d",
   "metadata": {},
   "source": [
    "## Feature scaling\n",
    "\n",
    "Fit knnClassifier here with k=5"
   ]
  },
  {
   "cell_type": "code",
   "execution_count": 71,
   "id": "db251e08",
   "metadata": {},
   "outputs": [],
   "source": [
    "from sklearn.preprocessing import MinMaxScaler\n",
    "\n",
    "scaler = MinMaxScaler().fit(x_train)\n",
    "scl_x_tr = scaler.transform(x_train)\n",
    "scl_x_ts = scaler.transform(x_test)\n",
    "\n",
    "clf = KNeighborsClassifier(n_neighbors=5).fit(scl_x_tr, y_train)"
   ]
  },
  {
   "cell_type": "markdown",
   "id": "8f0441fb-28dd-41ad-a139-9bb1b4b6f724",
   "metadata": {},
   "source": [
    "### Get the accuracy and log_loss on the testing set with k=5"
   ]
  },
  {
   "cell_type": "code",
   "execution_count": 72,
   "id": "53da6976",
   "metadata": {},
   "outputs": [
    {
     "name": "stdout",
     "output_type": "stream",
     "text": [
      "accuracy is: 0.9444444444444444, and log loss is: 1.0351092239976634\n"
     ]
    }
   ],
   "source": [
    "y_pred = clf.predict(scl_x_ts)\n",
    "y_pred_log = clf.predict_proba(scl_x_ts)\n",
    "acc = accuracy_score(y_test, y_pred)\n",
    "log = log_loss(y_test, y_pred_log)\n",
    "\n",
    "print(f\"accuracy is: {acc}, and log loss is: {log}\")"
   ]
  },
  {
   "cell_type": "markdown",
   "id": "3877c8fe-1e5d-4a01-afec-0cedd6caa528",
   "metadata": {},
   "source": [
    "### Find the k that gives the lowest log_loss for the problem. (Try k's from 1-40). Print best k found"
   ]
  },
  {
   "cell_type": "code",
   "execution_count": 73,
   "id": "5c7bb09e",
   "metadata": {},
   "outputs": [
    {
     "name": "stdout",
     "output_type": "stream",
     "text": [
      "The lowest log loss is: 0.11026184768575119, and its coressponding number of neighbors is 7\n"
     ]
    }
   ],
   "source": [
    "dict_log = {}\n",
    "for n in range(1,41):\n",
    "    clf = KNeighborsClassifier(n_neighbors=n).fit(scl_x_tr, y_train)\n",
    "    y_pred = clf.predict_proba(scl_x_ts)\n",
    "    log = log_loss(y_test, y_pred)\n",
    "    dict_log[n] = log\n",
    "\n",
    "k = np.argmin(list(dict_log.values()))\n",
    "print(f\"The lowest log loss is: {dict_log[k+1]}, and its coressponding number of neighbors is {k+1}\")"
   ]
  },
  {
   "cell_type": "markdown",
   "id": "3d629174-c17a-4d47-9edd-ce3c4a068ff8",
   "metadata": {},
   "source": [
    "### Plot testing set log loss as k increases. Plot from k=1 to k=40 (y-axis: testing set log loss, x-axis: k)"
   ]
  },
  {
   "cell_type": "code",
   "execution_count": 77,
   "id": "b08c7356",
   "metadata": {},
   "outputs": [
    {
     "data": {
      "image/png": "[encoded data removed]",
      "text/plain": [
       "<Figure size 576x432 with 1 Axes>"
      ]
     },
     "metadata": {
      "needs_background": "light"
     },
     "output_type": "display_data"
    }
   ],
   "source": [
    "xx = list(dict_log.keys())\n",
    "yy = list(dict_log.values())\n",
    "\n",
    "plt.figure(figsize=(8,6))\n",
    "plt.plot(xx, yy, color='green', label=\"test\", marker=\"o\", markersize=3)\n",
    "plt.axvline(x=k+1, color='red', linestyle=\"dashed\")\n",
    "plt.axhline(y=dict_log[k+1], color='blue', linestyle=\"dashed\")\n",
    "plt.xlabel(\"Number of Neighbors\")\n",
    "plt.ylabel(\"Mean Squared Error\")\n",
    "plt.title(\"MSE - Number of Neighbors\")\n",
    "plt.show()"
   ]
  },
  {
   "cell_type": "markdown",
   "id": "2485132a-ef5e-4233-b231-69368efb35ab",
   "metadata": {},
   "source": [
    "### Fit KnnClassifier with best k and get the accuracy and log loss on testing set"
   ]
  },
  {
   "cell_type": "code",
   "execution_count": 78,
   "id": "955056ce",
   "metadata": {},
   "outputs": [
    {
     "name": "stdout",
     "output_type": "stream",
     "text": [
      "accuracy is: 0.9444444444444444, and log loss is: 0.11026184768575119\n"
     ]
    }
   ],
   "source": [
    "k = np.argmin(list(dict_log.values())) + 1\n",
    "clf = KNeighborsClassifier(n_neighbors=k).fit(scl_x_tr, y_train)\n",
    "y_pred = clf.predict(scl_x_ts)\n",
    "y_pred_log = clf.predict_proba(scl_x_ts)\n",
    "\n",
    "acc = accuracy_score(y_test, y_pred)\n",
    "log = log_loss(y_test, y_pred_log)\n",
    "\n",
    "print(f\"accuracy is: {acc}, and log loss is: {log}\")"
   ]
  },
  {
   "cell_type": "markdown",
   "id": "25a022f7-8ce1-4a24-a6b5-b09d049f6f1b",
   "metadata": {},
   "source": [
    "# DecisionTreeClassifier\n",
    "\n",
    "Fit Decision tree"
   ]
  },
  {
   "cell_type": "code",
   "execution_count": 79,
   "id": "e7d67e9f",
   "metadata": {},
   "outputs": [],
   "source": [
    "from sklearn.tree import DecisionTreeClassifier\n",
    "\n",
    "clf = DecisionTreeClassifier(random_state=0).fit(x_train, y_train) "
   ]
  },
  {
   "cell_type": "markdown",
   "id": "ea30ad39-340c-42c6-b051-9fe5d01045cf",
   "metadata": {},
   "source": [
    "## Calculate training log_loss and accuracy"
   ]
  },
  {
   "cell_type": "code",
   "execution_count": 80,
   "id": "6fec6014",
   "metadata": {},
   "outputs": [
    {
     "name": "stdout",
     "output_type": "stream",
     "text": [
      "accuracy: 1.0, log loss: 2.1094237467878e-15\n"
     ]
    }
   ],
   "source": [
    "y_pred = clf.predict(x_train)\n",
    "y_pred_log = clf.predict_proba(x_train)\n",
    "\n",
    "acc = accuracy_score(y_train, y_pred, normalize=True)\n",
    "log = log_loss(y_train, y_pred_log)\n",
    "\n",
    "print(f\"accuracy: {acc}, log loss: {log}\")"
   ]
  },
  {
   "cell_type": "markdown",
   "id": "0ac4a962-a2a9-491a-b25b-803c6b7176cc",
   "metadata": {},
   "source": [
    "## Calculate testing log_loss and accuracy "
   ]
  },
  {
   "cell_type": "code",
   "execution_count": 81,
   "id": "aa16d6d0",
   "metadata": {},
   "outputs": [
    {
     "name": "stdout",
     "output_type": "stream",
     "text": [
      "accuracy: 0.9166666666666666, log loss: 2.8782313662425585\n"
     ]
    }
   ],
   "source": [
    "y_pred = clf.predict(x_test)\n",
    "y_pred_log = clf.predict_proba(x_test)\n",
    "\n",
    "acc = accuracy_score(y_test, y_pred, normalize=True)\n",
    "log = log_loss(y_test, y_pred_log)\n",
    "\n",
    "print(f\"accuracy: {acc}, log loss: {log}\")"
   ]
  },
  {
   "cell_type": "markdown",
   "id": "c90df475-ea94-4962-adb0-6d8fb489952e",
   "metadata": {},
   "source": [
    "## Grid search decision tree hyperparameters for prepruning with log loss as the scoring"
   ]
  },
  {
   "cell_type": "code",
   "execution_count": 82,
   "id": "8c94d309",
   "metadata": {},
   "outputs": [],
   "source": [
    "param_grid = {\n",
    "    \"max_depth\" : [3,5,10,15,20,None],\n",
    "    \"min_samples_split\" : [2,5,7,10],\n",
    "    \"min_samples_leaf\" : [1,2,5]\n",
    "}\n",
    "\n",
    "clf = DecisionTreeClassifier()\n",
    "grid_cv = GridSearchCV(estimator=clf, param_grid=param_grid, scoring=\"neg_mean_squared_error\", n_jobs=-1, cv=3).fit(x_train, y_train)"
   ]
  },
  {
   "cell_type": "markdown",
   "id": "1e6ce3a2-b8f7-408f-96e1-0e0539d44fce",
   "metadata": {},
   "source": [
    "### Print best_params, best_score"
   ]
  },
  {
   "cell_type": "code",
   "execution_count": 83,
   "id": "b7e0ee18",
   "metadata": {},
   "outputs": [
    {
     "name": "stdout",
     "output_type": "stream",
     "text": [
      "{'max_depth': 10, 'min_samples_leaf': 2, 'min_samples_split': 2}\n",
      "-0.141548463356974\n"
     ]
    }
   ],
   "source": [
    "print(grid_cv.best_params_)\n",
    "print(grid_cv.best_score_)"
   ]
  },
  {
   "cell_type": "markdown",
   "id": "61970630-26e2-47db-a9d7-047ffcb052fb",
   "metadata": {},
   "source": [
    "### Use best estimator from grid search and calculate log_loss and accuracy on the training set"
   ]
  },
  {
   "cell_type": "code",
   "execution_count": 84,
   "id": "3e23e776",
   "metadata": {},
   "outputs": [
    {
     "name": "stdout",
     "output_type": "stream",
     "text": [
      "accuracy: 0.9929577464788732, log loss: 0.009762636345916814\n"
     ]
    }
   ],
   "source": [
    "y_pred = grid_cv.predict(x_train)\n",
    "y_pred_log = grid_cv.predict_proba(x_train)\n",
    "\n",
    "acc = accuracy_score(y_train, y_pred)\n",
    "log = log_loss(y_train, y_pred_log)\n",
    "\n",
    "print(f\"accuracy: {acc}, log loss: {log}\")  "
   ]
  },
  {
   "cell_type": "markdown",
   "id": "ea07c3f3-4f71-4b0a-b979-fc3b649e476d",
   "metadata": {},
   "source": [
    "### Use best estimator from grid search and calculate log_loss and accuracy on the testing set"
   ]
  },
  {
   "cell_type": "code",
   "execution_count": 85,
   "id": "c1ef0d86",
   "metadata": {},
   "outputs": [
    {
     "name": "stdout",
     "output_type": "stream",
     "text": [
      "accuracy: 0.9444444444444444, log loss: 1.9188209108283725\n"
     ]
    }
   ],
   "source": [
    "y_pred = grid_cv.predict(x_test)\n",
    "y_pred_log = grid_cv.predict_proba(x_test)\n",
    "\n",
    "acc = accuracy_score(y_test, y_pred)\n",
    "log = log_loss(y_test, y_pred_log)\n",
    "\n",
    "print(f\"accuracy: {acc}, log loss: {log}\")"
   ]
  },
  {
   "cell_type": "markdown",
   "id": "385da011-199e-42a0-ac7d-e8485eaa76b4",
   "metadata": {},
   "source": [
    "### Show dataframe for all Grid search results"
   ]
  },
  {
   "cell_type": "code",
   "execution_count": 86,
   "id": "8f91abdf",
   "metadata": {},
   "outputs": [
    {
     "data": {
      "text/html": [
       "<div>\n",
       "<style scoped>\n",
       "    .dataframe tbody tr th:only-of-type {\n",
       "        vertical-align: middle;\n",
       "    }\n",
       "\n",
       "    .dataframe tbody tr th {\n",
       "        vertical-align: top;\n",
       "    }\n",
       "\n",
       "    .dataframe thead th {\n",
       "        text-align: right;\n",
       "    }\n",
       "</style>\n",
       "<table border=\"1\" class=\"dataframe\">\n",
       "  <thead>\n",
       "    <tr style=\"text-align: right;\">\n",
       "      <th></th>\n",
       "      <th>mean_fit_time</th>\n",
       "      <th>std_fit_time</th>\n",
       "      <th>mean_score_time</th>\n",
       "      <th>std_score_time</th>\n",
       "      <th>param_max_depth</th>\n",
       "      <th>param_min_samples_leaf</th>\n",
       "      <th>param_min_samples_split</th>\n",
       "      <th>params</th>\n",
       "      <th>split0_test_score</th>\n",
       "      <th>split1_test_score</th>\n",
       "      <th>split2_test_score</th>\n",
       "      <th>mean_test_score</th>\n",
       "      <th>std_test_score</th>\n",
       "      <th>rank_test_score</th>\n",
       "    </tr>\n",
       "  </thead>\n",
       "  <tbody>\n",
       "    <tr>\n",
       "      <th>0</th>\n",
       "      <td>0.007115</td>\n",
       "      <td>0.000589</td>\n",
       "      <td>0.003623</td>\n",
       "      <td>0.000562</td>\n",
       "      <td>3</td>\n",
       "      <td>1</td>\n",
       "      <td>2</td>\n",
       "      <td>{'max_depth': 3, 'min_samples_leaf': 1, 'min_s...</td>\n",
       "      <td>-0.062500</td>\n",
       "      <td>-0.319149</td>\n",
       "      <td>-0.234043</td>\n",
       "      <td>-0.205230</td>\n",
       "      <td>0.106739</td>\n",
       "      <td>23</td>\n",
       "    </tr>\n",
       "    <tr>\n",
       "      <th>1</th>\n",
       "      <td>0.007814</td>\n",
       "      <td>0.002045</td>\n",
       "      <td>0.005707</td>\n",
       "      <td>0.001848</td>\n",
       "      <td>3</td>\n",
       "      <td>1</td>\n",
       "      <td>5</td>\n",
       "      <td>{'max_depth': 3, 'min_samples_leaf': 1, 'min_s...</td>\n",
       "      <td>-0.062500</td>\n",
       "      <td>-0.319149</td>\n",
       "      <td>-0.297872</td>\n",
       "      <td>-0.226507</td>\n",
       "      <td>0.116295</td>\n",
       "      <td>27</td>\n",
       "    </tr>\n",
       "    <tr>\n",
       "      <th>2</th>\n",
       "      <td>0.006265</td>\n",
       "      <td>0.000949</td>\n",
       "      <td>0.005881</td>\n",
       "      <td>0.002854</td>\n",
       "      <td>3</td>\n",
       "      <td>1</td>\n",
       "      <td>7</td>\n",
       "      <td>{'max_depth': 3, 'min_samples_leaf': 1, 'min_s...</td>\n",
       "      <td>-0.041667</td>\n",
       "      <td>-0.446809</td>\n",
       "      <td>-0.297872</td>\n",
       "      <td>-0.262116</td>\n",
       "      <td>0.167320</td>\n",
       "      <td>45</td>\n",
       "    </tr>\n",
       "    <tr>\n",
       "      <th>3</th>\n",
       "      <td>0.005292</td>\n",
       "      <td>0.000811</td>\n",
       "      <td>0.004622</td>\n",
       "      <td>0.000494</td>\n",
       "      <td>3</td>\n",
       "      <td>1</td>\n",
       "      <td>10</td>\n",
       "      <td>{'max_depth': 3, 'min_samples_leaf': 1, 'min_s...</td>\n",
       "      <td>-0.083333</td>\n",
       "      <td>-0.468085</td>\n",
       "      <td>-0.297872</td>\n",
       "      <td>-0.283097</td>\n",
       "      <td>0.157421</td>\n",
       "      <td>64</td>\n",
       "    </tr>\n",
       "    <tr>\n",
       "      <th>4</th>\n",
       "      <td>0.005980</td>\n",
       "      <td>0.000813</td>\n",
       "      <td>0.004136</td>\n",
       "      <td>0.000639</td>\n",
       "      <td>3</td>\n",
       "      <td>2</td>\n",
       "      <td>2</td>\n",
       "      <td>{'max_depth': 3, 'min_samples_leaf': 2, 'min_s...</td>\n",
       "      <td>-0.083333</td>\n",
       "      <td>-0.276596</td>\n",
       "      <td>-0.234043</td>\n",
       "      <td>-0.197991</td>\n",
       "      <td>0.082915</td>\n",
       "      <td>18</td>\n",
       "    </tr>\n",
       "    <tr>\n",
       "      <th>...</th>\n",
       "      <td>...</td>\n",
       "      <td>...</td>\n",
       "      <td>...</td>\n",
       "      <td>...</td>\n",
       "      <td>...</td>\n",
       "      <td>...</td>\n",
       "      <td>...</td>\n",
       "      <td>...</td>\n",
       "      <td>...</td>\n",
       "      <td>...</td>\n",
       "      <td>...</td>\n",
       "      <td>...</td>\n",
       "      <td>...</td>\n",
       "      <td>...</td>\n",
       "    </tr>\n",
       "    <tr>\n",
       "      <th>67</th>\n",
       "      <td>0.005331</td>\n",
       "      <td>0.003770</td>\n",
       "      <td>0.002666</td>\n",
       "      <td>0.003770</td>\n",
       "      <td>None</td>\n",
       "      <td>2</td>\n",
       "      <td>10</td>\n",
       "      <td>{'max_depth': None, 'min_samples_leaf': 2, 'mi...</td>\n",
       "      <td>-0.062500</td>\n",
       "      <td>-0.234043</td>\n",
       "      <td>-0.297872</td>\n",
       "      <td>-0.198138</td>\n",
       "      <td>0.099388</td>\n",
       "      <td>19</td>\n",
       "    </tr>\n",
       "    <tr>\n",
       "      <th>68</th>\n",
       "      <td>0.001647</td>\n",
       "      <td>0.002330</td>\n",
       "      <td>0.003626</td>\n",
       "      <td>0.003306</td>\n",
       "      <td>None</td>\n",
       "      <td>5</td>\n",
       "      <td>2</td>\n",
       "      <td>{'max_depth': None, 'min_samples_leaf': 5, 'mi...</td>\n",
       "      <td>-0.145833</td>\n",
       "      <td>-0.446809</td>\n",
       "      <td>-0.276596</td>\n",
       "      <td>-0.289746</td>\n",
       "      <td>0.123224</td>\n",
       "      <td>65</td>\n",
       "    </tr>\n",
       "    <tr>\n",
       "      <th>69</th>\n",
       "      <td>0.005331</td>\n",
       "      <td>0.003770</td>\n",
       "      <td>0.002670</td>\n",
       "      <td>0.003775</td>\n",
       "      <td>None</td>\n",
       "      <td>5</td>\n",
       "      <td>5</td>\n",
       "      <td>{'max_depth': None, 'min_samples_leaf': 5, 'mi...</td>\n",
       "      <td>-0.125000</td>\n",
       "      <td>-0.446809</td>\n",
       "      <td>-0.276596</td>\n",
       "      <td>-0.282801</td>\n",
       "      <td>0.131451</td>\n",
       "      <td>56</td>\n",
       "    </tr>\n",
       "    <tr>\n",
       "      <th>70</th>\n",
       "      <td>0.002665</td>\n",
       "      <td>0.003769</td>\n",
       "      <td>0.007064</td>\n",
       "      <td>0.002531</td>\n",
       "      <td>None</td>\n",
       "      <td>5</td>\n",
       "      <td>7</td>\n",
       "      <td>{'max_depth': None, 'min_samples_leaf': 5, 'mi...</td>\n",
       "      <td>-0.083333</td>\n",
       "      <td>-0.446809</td>\n",
       "      <td>-0.276596</td>\n",
       "      <td>-0.268913</td>\n",
       "      <td>0.148488</td>\n",
       "      <td>48</td>\n",
       "    </tr>\n",
       "    <tr>\n",
       "      <th>71</th>\n",
       "      <td>0.004717</td>\n",
       "      <td>0.000405</td>\n",
       "      <td>0.000000</td>\n",
       "      <td>0.000000</td>\n",
       "      <td>None</td>\n",
       "      <td>5</td>\n",
       "      <td>10</td>\n",
       "      <td>{'max_depth': None, 'min_samples_leaf': 5, 'mi...</td>\n",
       "      <td>-0.062500</td>\n",
       "      <td>-0.446809</td>\n",
       "      <td>-0.276596</td>\n",
       "      <td>-0.261968</td>\n",
       "      <td>0.157234</td>\n",
       "      <td>41</td>\n",
       "    </tr>\n",
       "  </tbody>\n",
       "</table>\n",
       "<p>72 rows × 14 columns</p>\n",
       "</div>"
      ],
      "text/plain": [
       "    mean_fit_time  std_fit_time  mean_score_time  std_score_time  \\\n",
       "0        0.007115      0.000589         0.003623        0.000562   \n",
       "1        0.007814      0.002045         0.005707        0.001848   \n",
       "2        0.006265      0.000949         0.005881        0.002854   \n",
       "3        0.005292      0.000811         0.004622        0.000494   \n",
       "4        0.005980      0.000813         0.004136        0.000639   \n",
       "..            ...           ...              ...             ...   \n",
       "67       0.005331      0.003770         0.002666        0.003770   \n",
       "68       0.001647      0.002330         0.003626        0.003306   \n",
       "69       0.005331      0.003770         0.002670        0.003775   \n",
       "70       0.002665      0.003769         0.007064        0.002531   \n",
       "71       0.004717      0.000405         0.000000        0.000000   \n",
       "\n",
       "   param_max_depth param_min_samples_leaf param_min_samples_split  \\\n",
       "0                3                      1                       2   \n",
       "1                3                      1                       5   \n",
       "2                3                      1                       7   \n",
       "3                3                      1                      10   \n",
       "4                3                      2                       2   \n",
       "..             ...                    ...                     ...   \n",
       "67            None                      2                      10   \n",
       "68            None                      5                       2   \n",
       "69            None                      5                       5   \n",
       "70            None                      5                       7   \n",
       "71            None                      5                      10   \n",
       "\n",
       "                                               params  split0_test_score  \\\n",
       "0   {'max_depth': 3, 'min_samples_leaf': 1, 'min_s...          -0.062500   \n",
       "1   {'max_depth': 3, 'min_samples_leaf': 1, 'min_s...          -0.062500   \n",
       "2   {'max_depth': 3, 'min_samples_leaf': 1, 'min_s...          -0.041667   \n",
       "3   {'max_depth': 3, 'min_samples_leaf': 1, 'min_s...          -0.083333   \n",
       "4   {'max_depth': 3, 'min_samples_leaf': 2, 'min_s...          -0.083333   \n",
       "..                                                ...                ...   \n",
       "67  {'max_depth': None, 'min_samples_leaf': 2, 'mi...          -0.062500   \n",
       "68  {'max_depth': None, 'min_samples_leaf': 5, 'mi...          -0.145833   \n",
       "69  {'max_depth': None, 'min_samples_leaf': 5, 'mi...          -0.125000   \n",
       "70  {'max_depth': None, 'min_samples_leaf': 5, 'mi...          -0.083333   \n",
       "71  {'max_depth': None, 'min_samples_leaf': 5, 'mi...          -0.062500   \n",
       "\n",
       "    split1_test_score  split2_test_score  mean_test_score  std_test_score  \\\n",
       "0           -0.319149          -0.234043        -0.205230        0.106739   \n",
       "1           -0.319149          -0.297872        -0.226507        0.116295   \n",
       "2           -0.446809          -0.297872        -0.262116        0.167320   \n",
       "3           -0.468085          -0.297872        -0.283097        0.157421   \n",
       "4           -0.276596          -0.234043        -0.197991        0.082915   \n",
       "..                ...                ...              ...             ...   \n",
       "67          -0.234043          -0.297872        -0.198138        0.099388   \n",
       "68          -0.446809          -0.276596        -0.289746        0.123224   \n",
       "69          -0.446809          -0.276596        -0.282801        0.131451   \n",
       "70          -0.446809          -0.276596        -0.268913        0.148488   \n",
       "71          -0.446809          -0.276596        -0.261968        0.157234   \n",
       "\n",
       "    rank_test_score  \n",
       "0                23  \n",
       "1                27  \n",
       "2                45  \n",
       "3                64  \n",
       "4                18  \n",
       "..              ...  \n",
       "67               19  \n",
       "68               65  \n",
       "69               56  \n",
       "70               48  \n",
       "71               41  \n",
       "\n",
       "[72 rows x 14 columns]"
      ]
     },
     "execution_count": 86,
     "metadata": {},
     "output_type": "execute_result"
    }
   ],
   "source": [
    "pd.DataFrame(grid_cv.cv_results_)"
   ]
  },
  {
   "cell_type": "markdown",
   "id": "fcd2ef26-0c32-45f3-b316-16e1323c977b",
   "metadata": {},
   "source": [
    "## Use cost_complexity_pruning_path function to get alpha's and impurities from the tree"
   ]
  },
  {
   "cell_type": "code",
   "execution_count": 87,
   "id": "983f6df8",
   "metadata": {},
   "outputs": [],
   "source": [
    "clf = DecisionTreeClassifier(random_state=0).fit(x_train, y_train) \n",
    "path = clf.cost_complexity_pruning_path(x_train, y_train)\n",
    "ccp_alphas, impurities = path.ccp_alphas, path.impurities"
   ]
  },
  {
   "cell_type": "markdown",
   "id": "2d0ac791-1c9c-46fe-bc8b-178fa9986b0f",
   "metadata": {},
   "source": [
    "### Plot impurities against alpha's returned by the function (y-axis: impurities, x-axis: alpha)"
   ]
  },
  {
   "cell_type": "code",
   "execution_count": 91,
   "id": "db4ba139",
   "metadata": {},
   "outputs": [
    {
     "data": {
      "image/png": "[encoded data removed]",
      "text/plain": [
       "<Figure size 576x432 with 1 Axes>"
      ]
     },
     "metadata": {
      "needs_background": "light"
     },
     "output_type": "display_data"
    }
   ],
   "source": [
    "plt.figure(figsize=(8,6))\n",
    "plt.plot(ccp_alphas, impurities, marker=\"o\", markersize=3)\n",
    "plt.xlabel(\"Allphas\")\n",
    "plt.ylabel(\"Impurities\")\n",
    "plt.title(\"Impurities - Alphas\")\n",
    "plt.show()"
   ]
  },
  {
   "cell_type": "markdown",
   "id": "b0961fa5-8b11-45fb-8605-45cfba9d9910",
   "metadata": {},
   "source": [
    "## Train Decision Trees with all alphas returned by the function and get the train log loss and test log loss"
   ]
  },
  {
   "cell_type": "code",
   "execution_count": 92,
   "id": "cedcc353",
   "metadata": {},
   "outputs": [],
   "source": [
    "train_mse, test_mse = {}, {}\n",
    "for alpha in ccp_alphas:\n",
    "    clf = DecisionTreeClassifier(random_state=0, ccp_alpha=alpha).fit(x_train, y_train)\n",
    "    y_pred = clf.predict_proba(x_train)\n",
    "    log = log_loss(y_train, y_pred)\n",
    "    train_mse[alpha] = log\n",
    "    y_pred = clf.predict_proba(x_test)\n",
    "    log = log_loss(y_test, y_pred)\n",
    "    test_mse[alpha] = log"
   ]
  },
  {
   "cell_type": "markdown",
   "id": "a94f95cd-6115-44fc-b0e6-1b33aaf68d6e",
   "metadata": {},
   "source": [
    "## Plot log loss against alpha's"
   ]
  },
  {
   "cell_type": "code",
   "execution_count": 93,
   "id": "04f1ed5a",
   "metadata": {},
   "outputs": [
    {
     "data": {
      "image/png": "[encoded data removed]",
      "text/plain": [
       "<Figure size 576x432 with 1 Axes>"
      ]
     },
     "metadata": {
      "needs_background": "light"
     },
     "output_type": "display_data"
    }
   ],
   "source": [
    "plt.figure(figsize=(8,6))\n",
    "xx = list(train_mse.keys())\n",
    "yy = list(train_mse.values())\n",
    "plt.plot(xx, yy, color='blue', label='train')\n",
    "xx = list(test_mse.keys())\n",
    "yy = list(test_mse.values())\n",
    "plt.plot(xx, yy, color='red', label='test')\n",
    "plt.xlabel('alphas')\n",
    "plt.ylabel('log_loss')\n",
    "plt.title(\"Log Loss - Alphas (train and test)\")\n",
    "plt.legend()\n",
    "plt.show()"
   ]
  },
  {
   "cell_type": "markdown",
   "id": "07397e99-b66e-4439-872d-fac85de448d6",
   "metadata": {},
   "source": [
    "## Grab and print the alpha that gives the smallest log loss in testing set"
   ]
  },
  {
   "cell_type": "code",
   "execution_count": 94,
   "id": "00e1fe91",
   "metadata": {},
   "outputs": [
    {
     "name": "stdout",
     "output_type": "stream",
     "text": [
      "Best alpha which results lowest log loss is: 0.06790744466800805, and its corresponding log loss is: 0.5356981709298975.\n"
     ]
    }
   ],
   "source": [
    "min_log = min(list(test_mse.values()))\n",
    "min_idx = np.argmin(list(test_mse.values()))\n",
    "min_alpha = list(test_mse.keys())[min_idx]\n",
    "print(f\"Best alpha which results lowest log loss is: {min_alpha}, and its corresponding log loss is: {min_log}.\")"
   ]
  },
  {
   "cell_type": "markdown",
   "id": "53a58034-75c1-4c09-b506-e20d2ecf295e",
   "metadata": {},
   "source": [
    "## Use the best alpha and fit a decsion tree"
   ]
  },
  {
   "cell_type": "code",
   "execution_count": 95,
   "id": "ab16e2cf",
   "metadata": {},
   "outputs": [],
   "source": [
    "clf = DecisionTreeClassifier(random_state=0, ccp_alpha=min_alpha).fit(x_train, y_train)"
   ]
  },
  {
   "cell_type": "markdown",
   "id": "30f36500-99a6-41bd-a943-04b306f6e2af",
   "metadata": {},
   "source": [
    "### Get training log loss and accuracy "
   ]
  },
  {
   "cell_type": "code",
   "execution_count": 96,
   "id": "a6ea3661",
   "metadata": {},
   "outputs": [
    {
     "name": "stdout",
     "output_type": "stream",
     "text": [
      "accuracy is: 0.8873239436619719, and log loss is: 0.395725899577319\n"
     ]
    }
   ],
   "source": [
    "y_pred = clf.predict(x_train)\n",
    "y_pred_log = clf.predict_proba(x_train)\n",
    "log = log_loss(y_train, y_pred_log)\n",
    "acc = accuracy_score(y_train, y_pred, normalize=True)\n",
    "\n",
    "print(f\"accuracy is: {acc}, and log loss is: {log}\")"
   ]
  },
  {
   "cell_type": "markdown",
   "id": "d7815ea1-3c5a-4e22-b299-aa506fc5011f",
   "metadata": {},
   "source": [
    "### Get testing log loss and accuracy"
   ]
  },
  {
   "cell_type": "code",
   "execution_count": 97,
   "id": "ce5a04b2",
   "metadata": {},
   "outputs": [
    {
     "name": "stdout",
     "output_type": "stream",
     "text": [
      "accuracy is: 0.8611111111111112, and log loss is: 0.5356981709298975\n"
     ]
    }
   ],
   "source": [
    "y_pred = clf.predict(x_test)\n",
    "y_pred_log = clf.predict_proba(x_test)\n",
    "log = log_loss(y_test, y_pred_log)\n",
    "acc = accuracy_score(y_test, y_pred, normalize=True)\n",
    "\n",
    "print(f\"accuracy is: {acc}, and log loss is: {log}\")"
   ]
  },
  {
   "cell_type": "markdown",
   "id": "cf486de3-938e-4b79-bc26-a0aff3b61602",
   "metadata": {},
   "source": [
    "### Plot decision tree using alpha that gives the smallest log loss"
   ]
  },
  {
   "cell_type": "code",
   "execution_count": 98,
   "id": "fa6d53c5",
   "metadata": {},
   "outputs": [
    {
     "data": {
      "image/png": "[encoded data removed]",
      "text/plain": [
       "<Figure size 720x720 with 1 Axes>"
      ]
     },
     "metadata": {
      "needs_background": "light"
     },
     "output_type": "display_data"
    }
   ],
   "source": [
    "plt.figure(figsize=(10,10))\n",
    "plot_tree(clf, filled=True,feature_names=load_wine().feature_names)\n",
    "plt.title(\"Decision Tree with the Best Alpha\")\n",
    "plt.show()"
   ]
  },
  {
   "cell_type": "markdown",
   "id": "62342a47-3a5e-4dcf-9c8b-0e942e3b5638",
   "metadata": {},
   "source": [
    "# Linear Discriminant Analysis\n",
    "Fit LDA algorithm here"
   ]
  },
  {
   "cell_type": "code",
   "execution_count": 99,
   "id": "64a8697e",
   "metadata": {},
   "outputs": [
    {
     "data": {
      "text/html": [
       "<style>#sk-container-id-3 {color: black;background-color: white;}#sk-container-id-3 pre{padding: 0;}#sk-container-id-3 div.sk-toggleable {background-color: white;}#sk-container-id-3 label.sk-toggleable__label {cursor: pointer;display: block;width: 100%;margin-bottom: 0;padding: 0.3em;box-sizing: border-box;text-align: center;}#sk-container-id-3 label.sk-toggleable__label-arrow:before {content: \"▸\";float: left;margin-right: 0.25em;color: #696969;}#sk-container-id-3 label.sk-toggleable__label-arrow:hover:before {color: black;}#sk-container-id-3 div.sk-estimator:hover label.sk-toggleable__label-arrow:before {color: black;}#sk-container-id-3 div.sk-toggleable__content {max-height: 0;max-width: 0;overflow: hidden;text-align: left;background-color: #f0f8ff;}#sk-container-id-3 div.sk-toggleable__content pre {margin: 0.2em;color: black;border-radius: 0.25em;background-color: #f0f8ff;}#sk-container-id-3 input.sk-toggleable__control:checked~div.sk-toggleable__content {max-height: 200px;max-width: 100%;overflow: auto;}#sk-container-id-3 input.sk-toggleable__control:checked~label.sk-toggleable__label-arrow:before {content: \"▾\";}#sk-container-id-3 div.sk-estimator input.sk-toggleable__control:checked~label.sk-toggleable__label {background-color: #d4ebff;}#sk-container-id-3 div.sk-label input.sk-toggleable__control:checked~label.sk-toggleable__label {background-color: #d4ebff;}#sk-container-id-3 input.sk-hidden--visually {border: 0;clip: rect(1px 1px 1px 1px);clip: rect(1px, 1px, 1px, 1px);height: 1px;margin: -1px;overflow: hidden;padding: 0;position: absolute;width: 1px;}#sk-container-id-3 div.sk-estimator {font-family: monospace;background-color: #f0f8ff;border: 1px dotted black;border-radius: 0.25em;box-sizing: border-box;margin-bottom: 0.5em;}#sk-container-id-3 div.sk-estimator:hover {background-color: #d4ebff;}#sk-container-id-3 div.sk-parallel-item::after {content: \"\";width: 100%;border-bottom: 1px solid gray;flex-grow: 1;}#sk-container-id-3 div.sk-label:hover label.sk-toggleable__label {background-color: #d4ebff;}#sk-container-id-3 div.sk-serial::before {content: \"\";position: absolute;border-left: 1px solid gray;box-sizing: border-box;top: 0;bottom: 0;left: 50%;z-index: 0;}#sk-container-id-3 div.sk-serial {display: flex;flex-direction: column;align-items: center;background-color: white;padding-right: 0.2em;padding-left: 0.2em;position: relative;}#sk-container-id-3 div.sk-item {position: relative;z-index: 1;}#sk-container-id-3 div.sk-parallel {display: flex;align-items: stretch;justify-content: center;background-color: white;position: relative;}#sk-container-id-3 div.sk-item::before, #sk-container-id-3 div.sk-parallel-item::before {content: \"\";position: absolute;border-left: 1px solid gray;box-sizing: border-box;top: 0;bottom: 0;left: 50%;z-index: -1;}#sk-container-id-3 div.sk-parallel-item {display: flex;flex-direction: column;z-index: 1;position: relative;background-color: white;}#sk-container-id-3 div.sk-parallel-item:first-child::after {align-self: flex-end;width: 50%;}#sk-container-id-3 div.sk-parallel-item:last-child::after {align-self: flex-start;width: 50%;}#sk-container-id-3 div.sk-parallel-item:only-child::after {width: 0;}#sk-container-id-3 div.sk-dashed-wrapped {border: 1px dashed gray;margin: 0 0.4em 0.5em 0.4em;box-sizing: border-box;padding-bottom: 0.4em;background-color: white;}#sk-container-id-3 div.sk-label label {font-family: monospace;font-weight: bold;display: inline-block;line-height: 1.2em;}#sk-container-id-3 div.sk-label-container {text-align: center;}#sk-container-id-3 div.sk-container {/* jupyter's `normalize.less` sets `[hidden] { display: none; }` but bootstrap.min.css set `[hidden] { display: none !important; }` so we also need the `!important` here to be able to override the default hidden behavior on the sphinx rendered scikit-learn.org. See: https://github.com/scikit-learn/scikit-learn/issues/21755 */display: inline-block !important;position: relative;}#sk-container-id-3 div.sk-text-repr-fallback {display: none;}</style><div id=\"sk-container-id-3\" class=\"sk-top-container\"><div class=\"sk-text-repr-fallback\"><pre>LinearDiscriminantAnalysis()</pre><b>In a Jupyter environment, please rerun this cell to show the HTML representation or trust the notebook. <br />On GitHub, the HTML representation is unable to render, please try loading this page with nbviewer.org.</b></div><div class=\"sk-container\" hidden><div class=\"sk-item\"><div class=\"sk-estimator sk-toggleable\"><input class=\"sk-toggleable__control sk-hidden--visually\" id=\"sk-estimator-id-3\" type=\"checkbox\" checked><label for=\"sk-estimator-id-3\" class=\"sk-toggleable__label sk-toggleable__label-arrow\">LinearDiscriminantAnalysis</label><div class=\"sk-toggleable__content\"><pre>LinearDiscriminantAnalysis()</pre></div></div></div></div></div>"
      ],
      "text/plain": [
       "LinearDiscriminantAnalysis()"
      ]
     },
     "execution_count": 99,
     "metadata": {},
     "output_type": "execute_result"
    }
   ],
   "source": [
    "from sklearn.discriminant_analysis import LinearDiscriminantAnalysis as LDA \n",
    "\n",
    "clf = LDA()\n",
    "clf.fit(x_train, y_train)"
   ]
  },
  {
   "cell_type": "markdown",
   "id": "781329be-f351-4469-bda6-a256b4047f53",
   "metadata": {},
   "source": [
    "## Get log_loss and accuracy on testing set"
   ]
  },
  {
   "cell_type": "code",
   "execution_count": 100,
   "id": "8d838445",
   "metadata": {},
   "outputs": [
    {
     "name": "stdout",
     "output_type": "stream",
     "text": [
      "accuracy is: 1.0, and log loss is 0.003961581393049106\n"
     ]
    }
   ],
   "source": [
    "y_pred = clf.predict(x_test)\n",
    "y_pred_log = clf.predict_proba(x_test)\n",
    "acc = accuracy_score(y_test, y_pred)\n",
    "log = log_loss(y_test, y_pred_log)\n",
    "\n",
    "print(f\"accuracy is: {acc}, and log loss is {log}\")"
   ]
  },
  {
   "cell_type": "markdown",
   "id": "5189634e-58ca-4854-b75c-b425b7a2cedb",
   "metadata": {},
   "source": [
    "# Quadratic Discriminant analysis\n",
    "\n",
    "fit QDA algorithm here"
   ]
  },
  {
   "cell_type": "code",
   "execution_count": 101,
   "id": "7c21c248",
   "metadata": {},
   "outputs": [
    {
     "data": {
      "text/html": [
       "<style>#sk-container-id-4 {color: black;background-color: white;}#sk-container-id-4 pre{padding: 0;}#sk-container-id-4 div.sk-toggleable {background-color: white;}#sk-container-id-4 label.sk-toggleable__label {cursor: pointer;display: block;width: 100%;margin-bottom: 0;padding: 0.3em;box-sizing: border-box;text-align: center;}#sk-container-id-4 label.sk-toggleable__label-arrow:before {content: \"▸\";float: left;margin-right: 0.25em;color: #696969;}#sk-container-id-4 label.sk-toggleable__label-arrow:hover:before {color: black;}#sk-container-id-4 div.sk-estimator:hover label.sk-toggleable__label-arrow:before {color: black;}#sk-container-id-4 div.sk-toggleable__content {max-height: 0;max-width: 0;overflow: hidden;text-align: left;background-color: #f0f8ff;}#sk-container-id-4 div.sk-toggleable__content pre {margin: 0.2em;color: black;border-radius: 0.25em;background-color: #f0f8ff;}#sk-container-id-4 input.sk-toggleable__control:checked~div.sk-toggleable__content {max-height: 200px;max-width: 100%;overflow: auto;}#sk-container-id-4 input.sk-toggleable__control:checked~label.sk-toggleable__label-arrow:before {content: \"▾\";}#sk-container-id-4 div.sk-estimator input.sk-toggleable__control:checked~label.sk-toggleable__label {background-color: #d4ebff;}#sk-container-id-4 div.sk-label input.sk-toggleable__control:checked~label.sk-toggleable__label {background-color: #d4ebff;}#sk-container-id-4 input.sk-hidden--visually {border: 0;clip: rect(1px 1px 1px 1px);clip: rect(1px, 1px, 1px, 1px);height: 1px;margin: -1px;overflow: hidden;padding: 0;position: absolute;width: 1px;}#sk-container-id-4 div.sk-estimator {font-family: monospace;background-color: #f0f8ff;border: 1px dotted black;border-radius: 0.25em;box-sizing: border-box;margin-bottom: 0.5em;}#sk-container-id-4 div.sk-estimator:hover {background-color: #d4ebff;}#sk-container-id-4 div.sk-parallel-item::after {content: \"\";width: 100%;border-bottom: 1px solid gray;flex-grow: 1;}#sk-container-id-4 div.sk-label:hover label.sk-toggleable__label {background-color: #d4ebff;}#sk-container-id-4 div.sk-serial::before {content: \"\";position: absolute;border-left: 1px solid gray;box-sizing: border-box;top: 0;bottom: 0;left: 50%;z-index: 0;}#sk-container-id-4 div.sk-serial {display: flex;flex-direction: column;align-items: center;background-color: white;padding-right: 0.2em;padding-left: 0.2em;position: relative;}#sk-container-id-4 div.sk-item {position: relative;z-index: 1;}#sk-container-id-4 div.sk-parallel {display: flex;align-items: stretch;justify-content: center;background-color: white;position: relative;}#sk-container-id-4 div.sk-item::before, #sk-container-id-4 div.sk-parallel-item::before {content: \"\";position: absolute;border-left: 1px solid gray;box-sizing: border-box;top: 0;bottom: 0;left: 50%;z-index: -1;}#sk-container-id-4 div.sk-parallel-item {display: flex;flex-direction: column;z-index: 1;position: relative;background-color: white;}#sk-container-id-4 div.sk-parallel-item:first-child::after {align-self: flex-end;width: 50%;}#sk-container-id-4 div.sk-parallel-item:last-child::after {align-self: flex-start;width: 50%;}#sk-container-id-4 div.sk-parallel-item:only-child::after {width: 0;}#sk-container-id-4 div.sk-dashed-wrapped {border: 1px dashed gray;margin: 0 0.4em 0.5em 0.4em;box-sizing: border-box;padding-bottom: 0.4em;background-color: white;}#sk-container-id-4 div.sk-label label {font-family: monospace;font-weight: bold;display: inline-block;line-height: 1.2em;}#sk-container-id-4 div.sk-label-container {text-align: center;}#sk-container-id-4 div.sk-container {/* jupyter's `normalize.less` sets `[hidden] { display: none; }` but bootstrap.min.css set `[hidden] { display: none !important; }` so we also need the `!important` here to be able to override the default hidden behavior on the sphinx rendered scikit-learn.org. See: https://github.com/scikit-learn/scikit-learn/issues/21755 */display: inline-block !important;position: relative;}#sk-container-id-4 div.sk-text-repr-fallback {display: none;}</style><div id=\"sk-container-id-4\" class=\"sk-top-container\"><div class=\"sk-text-repr-fallback\"><pre>QuadraticDiscriminantAnalysis()</pre><b>In a Jupyter environment, please rerun this cell to show the HTML representation or trust the notebook. <br />On GitHub, the HTML representation is unable to render, please try loading this page with nbviewer.org.</b></div><div class=\"sk-container\" hidden><div class=\"sk-item\"><div class=\"sk-estimator sk-toggleable\"><input class=\"sk-toggleable__control sk-hidden--visually\" id=\"sk-estimator-id-4\" type=\"checkbox\" checked><label for=\"sk-estimator-id-4\" class=\"sk-toggleable__label sk-toggleable__label-arrow\">QuadraticDiscriminantAnalysis</label><div class=\"sk-toggleable__content\"><pre>QuadraticDiscriminantAnalysis()</pre></div></div></div></div></div>"
      ],
      "text/plain": [
       "QuadraticDiscriminantAnalysis()"
      ]
     },
     "execution_count": 101,
     "metadata": {},
     "output_type": "execute_result"
    }
   ],
   "source": [
    "from sklearn.discriminant_analysis import QuadraticDiscriminantAnalysis\n",
    "\n",
    "clf = QuadraticDiscriminantAnalysis()\n",
    "clf.fit(x_train, y_train)"
   ]
  },
  {
   "cell_type": "markdown",
   "id": "ae609575-62a5-4525-9c35-7c28050a0210",
   "metadata": {},
   "source": [
    "## Get log_loss and accuracy on testing set"
   ]
  },
  {
   "cell_type": "code",
   "execution_count": 102,
   "id": "f25fda8f",
   "metadata": {},
   "outputs": [
    {
     "name": "stdout",
     "output_type": "stream",
     "text": [
      "accuracy is: 0.9722222222222222, and log loss is 0.05738633992016081\n"
     ]
    }
   ],
   "source": [
    "y_pred = clf.predict(x_test)\n",
    "y_pred_log = clf.predict_proba(x_test)\n",
    "acc = accuracy_score(y_test, y_pred)\n",
    "log = log_loss(y_test, y_pred_log)\n",
    "\n",
    "print(f\"accuracy is: {acc}, and log loss is {log}\")"
   ]
  },
  {
   "cell_type": "markdown",
   "id": "a72cc709-718a-458a-a98d-7d72930a9f46",
   "metadata": {},
   "source": [
    "# Gaussian Naive Bayes\n",
    "\n",
    "## No feature scaling\n",
    "fit Gaussian Naive Bayes without scaling"
   ]
  },
  {
   "cell_type": "code",
   "execution_count": 103,
   "id": "9e16068e",
   "metadata": {},
   "outputs": [
    {
     "data": {
      "text/html": [
       "<style>#sk-container-id-5 {color: black;background-color: white;}#sk-container-id-5 pre{padding: 0;}#sk-container-id-5 div.sk-toggleable {background-color: white;}#sk-container-id-5 label.sk-toggleable__label {cursor: pointer;display: block;width: 100%;margin-bottom: 0;padding: 0.3em;box-sizing: border-box;text-align: center;}#sk-container-id-5 label.sk-toggleable__label-arrow:before {content: \"▸\";float: left;margin-right: 0.25em;color: #696969;}#sk-container-id-5 label.sk-toggleable__label-arrow:hover:before {color: black;}#sk-container-id-5 div.sk-estimator:hover label.sk-toggleable__label-arrow:before {color: black;}#sk-container-id-5 div.sk-toggleable__content {max-height: 0;max-width: 0;overflow: hidden;text-align: left;background-color: #f0f8ff;}#sk-container-id-5 div.sk-toggleable__content pre {margin: 0.2em;color: black;border-radius: 0.25em;background-color: #f0f8ff;}#sk-container-id-5 input.sk-toggleable__control:checked~div.sk-toggleable__content {max-height: 200px;max-width: 100%;overflow: auto;}#sk-container-id-5 input.sk-toggleable__control:checked~label.sk-toggleable__label-arrow:before {content: \"▾\";}#sk-container-id-5 div.sk-estimator input.sk-toggleable__control:checked~label.sk-toggleable__label {background-color: #d4ebff;}#sk-container-id-5 div.sk-label input.sk-toggleable__control:checked~label.sk-toggleable__label {background-color: #d4ebff;}#sk-container-id-5 input.sk-hidden--visually {border: 0;clip: rect(1px 1px 1px 1px);clip: rect(1px, 1px, 1px, 1px);height: 1px;margin: -1px;overflow: hidden;padding: 0;position: absolute;width: 1px;}#sk-container-id-5 div.sk-estimator {font-family: monospace;background-color: #f0f8ff;border: 1px dotted black;border-radius: 0.25em;box-sizing: border-box;margin-bottom: 0.5em;}#sk-container-id-5 div.sk-estimator:hover {background-color: #d4ebff;}#sk-container-id-5 div.sk-parallel-item::after {content: \"\";width: 100%;border-bottom: 1px solid gray;flex-grow: 1;}#sk-container-id-5 div.sk-label:hover label.sk-toggleable__label {background-color: #d4ebff;}#sk-container-id-5 div.sk-serial::before {content: \"\";position: absolute;border-left: 1px solid gray;box-sizing: border-box;top: 0;bottom: 0;left: 50%;z-index: 0;}#sk-container-id-5 div.sk-serial {display: flex;flex-direction: column;align-items: center;background-color: white;padding-right: 0.2em;padding-left: 0.2em;position: relative;}#sk-container-id-5 div.sk-item {position: relative;z-index: 1;}#sk-container-id-5 div.sk-parallel {display: flex;align-items: stretch;justify-content: center;background-color: white;position: relative;}#sk-container-id-5 div.sk-item::before, #sk-container-id-5 div.sk-parallel-item::before {content: \"\";position: absolute;border-left: 1px solid gray;box-sizing: border-box;top: 0;bottom: 0;left: 50%;z-index: -1;}#sk-container-id-5 div.sk-parallel-item {display: flex;flex-direction: column;z-index: 1;position: relative;background-color: white;}#sk-container-id-5 div.sk-parallel-item:first-child::after {align-self: flex-end;width: 50%;}#sk-container-id-5 div.sk-parallel-item:last-child::after {align-self: flex-start;width: 50%;}#sk-container-id-5 div.sk-parallel-item:only-child::after {width: 0;}#sk-container-id-5 div.sk-dashed-wrapped {border: 1px dashed gray;margin: 0 0.4em 0.5em 0.4em;box-sizing: border-box;padding-bottom: 0.4em;background-color: white;}#sk-container-id-5 div.sk-label label {font-family: monospace;font-weight: bold;display: inline-block;line-height: 1.2em;}#sk-container-id-5 div.sk-label-container {text-align: center;}#sk-container-id-5 div.sk-container {/* jupyter's `normalize.less` sets `[hidden] { display: none; }` but bootstrap.min.css set `[hidden] { display: none !important; }` so we also need the `!important` here to be able to override the default hidden behavior on the sphinx rendered scikit-learn.org. See: https://github.com/scikit-learn/scikit-learn/issues/21755 */display: inline-block !important;position: relative;}#sk-container-id-5 div.sk-text-repr-fallback {display: none;}</style><div id=\"sk-container-id-5\" class=\"sk-top-container\"><div class=\"sk-text-repr-fallback\"><pre>GaussianNB()</pre><b>In a Jupyter environment, please rerun this cell to show the HTML representation or trust the notebook. <br />On GitHub, the HTML representation is unable to render, please try loading this page with nbviewer.org.</b></div><div class=\"sk-container\" hidden><div class=\"sk-item\"><div class=\"sk-estimator sk-toggleable\"><input class=\"sk-toggleable__control sk-hidden--visually\" id=\"sk-estimator-id-5\" type=\"checkbox\" checked><label for=\"sk-estimator-id-5\" class=\"sk-toggleable__label sk-toggleable__label-arrow\">GaussianNB</label><div class=\"sk-toggleable__content\"><pre>GaussianNB()</pre></div></div></div></div></div>"
      ],
      "text/plain": [
       "GaussianNB()"
      ]
     },
     "execution_count": 103,
     "metadata": {},
     "output_type": "execute_result"
    }
   ],
   "source": [
    "from sklearn.naive_bayes import GaussianNB\n",
    "\n",
    "gnb = GaussianNB()\n",
    "gnb.fit(x_train, y_train)"
   ]
  },
  {
   "cell_type": "markdown",
   "id": "5b705425-a15c-4d69-8ce3-dcdfd8e8a63b",
   "metadata": {},
   "source": [
    "### Get log_loss and accuracy on testing set"
   ]
  },
  {
   "cell_type": "code",
   "execution_count": 104,
   "id": "a927d7b7",
   "metadata": {},
   "outputs": [
    {
     "name": "stdout",
     "output_type": "stream",
     "text": [
      "accuracy is : 0.9722222222222222, and log loss is: 0.08070672994873311.\n"
     ]
    }
   ],
   "source": [
    "y_pred = gnb.predict(x_test)\n",
    "y_pred_log = gnb.predict_proba(x_test)\n",
    "acc = accuracy_score(y_test, y_pred)\n",
    "log = log_loss(y_test, y_pred_log)\n",
    "\n",
    "print(f\"accuracy is : {acc}, and log loss is: {log}.\")"
   ]
  },
  {
   "cell_type": "markdown",
   "id": "7181de45-5861-42bd-80df-c9b56c89bdec",
   "metadata": {},
   "source": [
    "## Feature scaling (use StandardScaler)"
   ]
  },
  {
   "cell_type": "code",
   "execution_count": 105,
   "id": "5c465759",
   "metadata": {},
   "outputs": [],
   "source": [
    "scaler = MinMaxScaler()\n",
    "scaler.fit(x_train)\n",
    "scl_x_tr = scaler.transform(x_train)\n",
    "scl_x_ts = scaler.transform(x_test)"
   ]
  },
  {
   "cell_type": "markdown",
   "id": "00fdad91-e2d3-45ef-9519-366dd43ff0b6",
   "metadata": {},
   "source": [
    "### fit Gaussian Naive Bayes algorithm here using feature scaling"
   ]
  },
  {
   "cell_type": "code",
   "execution_count": 106,
   "id": "2c8492fa",
   "metadata": {},
   "outputs": [
    {
     "data": {
      "text/html": [
       "<style>#sk-container-id-6 {color: black;background-color: white;}#sk-container-id-6 pre{padding: 0;}#sk-container-id-6 div.sk-toggleable {background-color: white;}#sk-container-id-6 label.sk-toggleable__label {cursor: pointer;display: block;width: 100%;margin-bottom: 0;padding: 0.3em;box-sizing: border-box;text-align: center;}#sk-container-id-6 label.sk-toggleable__label-arrow:before {content: \"▸\";float: left;margin-right: 0.25em;color: #696969;}#sk-container-id-6 label.sk-toggleable__label-arrow:hover:before {color: black;}#sk-container-id-6 div.sk-estimator:hover label.sk-toggleable__label-arrow:before {color: black;}#sk-container-id-6 div.sk-toggleable__content {max-height: 0;max-width: 0;overflow: hidden;text-align: left;background-color: #f0f8ff;}#sk-container-id-6 div.sk-toggleable__content pre {margin: 0.2em;color: black;border-radius: 0.25em;background-color: #f0f8ff;}#sk-container-id-6 input.sk-toggleable__control:checked~div.sk-toggleable__content {max-height: 200px;max-width: 100%;overflow: auto;}#sk-container-id-6 input.sk-toggleable__control:checked~label.sk-toggleable__label-arrow:before {content: \"▾\";}#sk-container-id-6 div.sk-estimator input.sk-toggleable__control:checked~label.sk-toggleable__label {background-color: #d4ebff;}#sk-container-id-6 div.sk-label input.sk-toggleable__control:checked~label.sk-toggleable__label {background-color: #d4ebff;}#sk-container-id-6 input.sk-hidden--visually {border: 0;clip: rect(1px 1px 1px 1px);clip: rect(1px, 1px, 1px, 1px);height: 1px;margin: -1px;overflow: hidden;padding: 0;position: absolute;width: 1px;}#sk-container-id-6 div.sk-estimator {font-family: monospace;background-color: #f0f8ff;border: 1px dotted black;border-radius: 0.25em;box-sizing: border-box;margin-bottom: 0.5em;}#sk-container-id-6 div.sk-estimator:hover {background-color: #d4ebff;}#sk-container-id-6 div.sk-parallel-item::after {content: \"\";width: 100%;border-bottom: 1px solid gray;flex-grow: 1;}#sk-container-id-6 div.sk-label:hover label.sk-toggleable__label {background-color: #d4ebff;}#sk-container-id-6 div.sk-serial::before {content: \"\";position: absolute;border-left: 1px solid gray;box-sizing: border-box;top: 0;bottom: 0;left: 50%;z-index: 0;}#sk-container-id-6 div.sk-serial {display: flex;flex-direction: column;align-items: center;background-color: white;padding-right: 0.2em;padding-left: 0.2em;position: relative;}#sk-container-id-6 div.sk-item {position: relative;z-index: 1;}#sk-container-id-6 div.sk-parallel {display: flex;align-items: stretch;justify-content: center;background-color: white;position: relative;}#sk-container-id-6 div.sk-item::before, #sk-container-id-6 div.sk-parallel-item::before {content: \"\";position: absolute;border-left: 1px solid gray;box-sizing: border-box;top: 0;bottom: 0;left: 50%;z-index: -1;}#sk-container-id-6 div.sk-parallel-item {display: flex;flex-direction: column;z-index: 1;position: relative;background-color: white;}#sk-container-id-6 div.sk-parallel-item:first-child::after {align-self: flex-end;width: 50%;}#sk-container-id-6 div.sk-parallel-item:last-child::after {align-self: flex-start;width: 50%;}#sk-container-id-6 div.sk-parallel-item:only-child::after {width: 0;}#sk-container-id-6 div.sk-dashed-wrapped {border: 1px dashed gray;margin: 0 0.4em 0.5em 0.4em;box-sizing: border-box;padding-bottom: 0.4em;background-color: white;}#sk-container-id-6 div.sk-label label {font-family: monospace;font-weight: bold;display: inline-block;line-height: 1.2em;}#sk-container-id-6 div.sk-label-container {text-align: center;}#sk-container-id-6 div.sk-container {/* jupyter's `normalize.less` sets `[hidden] { display: none; }` but bootstrap.min.css set `[hidden] { display: none !important; }` so we also need the `!important` here to be able to override the default hidden behavior on the sphinx rendered scikit-learn.org. See: https://github.com/scikit-learn/scikit-learn/issues/21755 */display: inline-block !important;position: relative;}#sk-container-id-6 div.sk-text-repr-fallback {display: none;}</style><div id=\"sk-container-id-6\" class=\"sk-top-container\"><div class=\"sk-text-repr-fallback\"><pre>GaussianNB()</pre><b>In a Jupyter environment, please rerun this cell to show the HTML representation or trust the notebook. <br />On GitHub, the HTML representation is unable to render, please try loading this page with nbviewer.org.</b></div><div class=\"sk-container\" hidden><div class=\"sk-item\"><div class=\"sk-estimator sk-toggleable\"><input class=\"sk-toggleable__control sk-hidden--visually\" id=\"sk-estimator-id-6\" type=\"checkbox\" checked><label for=\"sk-estimator-id-6\" class=\"sk-toggleable__label sk-toggleable__label-arrow\">GaussianNB</label><div class=\"sk-toggleable__content\"><pre>GaussianNB()</pre></div></div></div></div></div>"
      ],
      "text/plain": [
       "GaussianNB()"
      ]
     },
     "execution_count": 106,
     "metadata": {},
     "output_type": "execute_result"
    }
   ],
   "source": [
    "gnb = GaussianNB()\n",
    "gnb.fit(scl_x_tr, y_train)"
   ]
  },
  {
   "cell_type": "markdown",
   "id": "e7fe40a4-3d94-455d-a59f-cdc6c5c9cef9",
   "metadata": {},
   "source": [
    "### Get log_loss and accuracy on testing set with feature scaling"
   ]
  },
  {
   "cell_type": "code",
   "execution_count": 107,
   "id": "7342ecb7",
   "metadata": {},
   "outputs": [
    {
     "name": "stdout",
     "output_type": "stream",
     "text": [
      "accuracy is : 0.9722222222222222, and log loss is: 0.08023588226887404.\n"
     ]
    }
   ],
   "source": [
    "y_pred = gnb.predict(scl_x_ts)\n",
    "y_pred_log = gnb.predict_proba(scl_x_ts)\n",
    "acc = accuracy_score(y_test, y_pred)\n",
    "log = log_loss(y_test, y_pred_log)\n",
    "\n",
    "print(f\"accuracy is : {acc}, and log loss is: {log}.\")"
   ]
  },
  {
   "cell_type": "markdown",
   "id": "e8415097-4b27-49ef-bd6d-3285cd63d427",
   "metadata": {},
   "source": [
    "# Multinomial Naive Bayes\n",
    "\n",
    "## No Feature Scaling\n",
    "fit Multinomial Naive Bayes algorithm here without feature scaling"
   ]
  },
  {
   "cell_type": "code",
   "execution_count": 108,
   "id": "4d2f5263",
   "metadata": {},
   "outputs": [
    {
     "data": {
      "text/html": [
       "<style>#sk-container-id-7 {color: black;background-color: white;}#sk-container-id-7 pre{padding: 0;}#sk-container-id-7 div.sk-toggleable {background-color: white;}#sk-container-id-7 label.sk-toggleable__label {cursor: pointer;display: block;width: 100%;margin-bottom: 0;padding: 0.3em;box-sizing: border-box;text-align: center;}#sk-container-id-7 label.sk-toggleable__label-arrow:before {content: \"▸\";float: left;margin-right: 0.25em;color: #696969;}#sk-container-id-7 label.sk-toggleable__label-arrow:hover:before {color: black;}#sk-container-id-7 div.sk-estimator:hover label.sk-toggleable__label-arrow:before {color: black;}#sk-container-id-7 div.sk-toggleable__content {max-height: 0;max-width: 0;overflow: hidden;text-align: left;background-color: #f0f8ff;}#sk-container-id-7 div.sk-toggleable__content pre {margin: 0.2em;color: black;border-radius: 0.25em;background-color: #f0f8ff;}#sk-container-id-7 input.sk-toggleable__control:checked~div.sk-toggleable__content {max-height: 200px;max-width: 100%;overflow: auto;}#sk-container-id-7 input.sk-toggleable__control:checked~label.sk-toggleable__label-arrow:before {content: \"▾\";}#sk-container-id-7 div.sk-estimator input.sk-toggleable__control:checked~label.sk-toggleable__label {background-color: #d4ebff;}#sk-container-id-7 div.sk-label input.sk-toggleable__control:checked~label.sk-toggleable__label {background-color: #d4ebff;}#sk-container-id-7 input.sk-hidden--visually {border: 0;clip: rect(1px 1px 1px 1px);clip: rect(1px, 1px, 1px, 1px);height: 1px;margin: -1px;overflow: hidden;padding: 0;position: absolute;width: 1px;}#sk-container-id-7 div.sk-estimator {font-family: monospace;background-color: #f0f8ff;border: 1px dotted black;border-radius: 0.25em;box-sizing: border-box;margin-bottom: 0.5em;}#sk-container-id-7 div.sk-estimator:hover {background-color: #d4ebff;}#sk-container-id-7 div.sk-parallel-item::after {content: \"\";width: 100%;border-bottom: 1px solid gray;flex-grow: 1;}#sk-container-id-7 div.sk-label:hover label.sk-toggleable__label {background-color: #d4ebff;}#sk-container-id-7 div.sk-serial::before {content: \"\";position: absolute;border-left: 1px solid gray;box-sizing: border-box;top: 0;bottom: 0;left: 50%;z-index: 0;}#sk-container-id-7 div.sk-serial {display: flex;flex-direction: column;align-items: center;background-color: white;padding-right: 0.2em;padding-left: 0.2em;position: relative;}#sk-container-id-7 div.sk-item {position: relative;z-index: 1;}#sk-container-id-7 div.sk-parallel {display: flex;align-items: stretch;justify-content: center;background-color: white;position: relative;}#sk-container-id-7 div.sk-item::before, #sk-container-id-7 div.sk-parallel-item::before {content: \"\";position: absolute;border-left: 1px solid gray;box-sizing: border-box;top: 0;bottom: 0;left: 50%;z-index: -1;}#sk-container-id-7 div.sk-parallel-item {display: flex;flex-direction: column;z-index: 1;position: relative;background-color: white;}#sk-container-id-7 div.sk-parallel-item:first-child::after {align-self: flex-end;width: 50%;}#sk-container-id-7 div.sk-parallel-item:last-child::after {align-self: flex-start;width: 50%;}#sk-container-id-7 div.sk-parallel-item:only-child::after {width: 0;}#sk-container-id-7 div.sk-dashed-wrapped {border: 1px dashed gray;margin: 0 0.4em 0.5em 0.4em;box-sizing: border-box;padding-bottom: 0.4em;background-color: white;}#sk-container-id-7 div.sk-label label {font-family: monospace;font-weight: bold;display: inline-block;line-height: 1.2em;}#sk-container-id-7 div.sk-label-container {text-align: center;}#sk-container-id-7 div.sk-container {/* jupyter's `normalize.less` sets `[hidden] { display: none; }` but bootstrap.min.css set `[hidden] { display: none !important; }` so we also need the `!important` here to be able to override the default hidden behavior on the sphinx rendered scikit-learn.org. See: https://github.com/scikit-learn/scikit-learn/issues/21755 */display: inline-block !important;position: relative;}#sk-container-id-7 div.sk-text-repr-fallback {display: none;}</style><div id=\"sk-container-id-7\" class=\"sk-top-container\"><div class=\"sk-text-repr-fallback\"><pre>MultinomialNB()</pre><b>In a Jupyter environment, please rerun this cell to show the HTML representation or trust the notebook. <br />On GitHub, the HTML representation is unable to render, please try loading this page with nbviewer.org.</b></div><div class=\"sk-container\" hidden><div class=\"sk-item\"><div class=\"sk-estimator sk-toggleable\"><input class=\"sk-toggleable__control sk-hidden--visually\" id=\"sk-estimator-id-7\" type=\"checkbox\" checked><label for=\"sk-estimator-id-7\" class=\"sk-toggleable__label sk-toggleable__label-arrow\">MultinomialNB</label><div class=\"sk-toggleable__content\"><pre>MultinomialNB()</pre></div></div></div></div></div>"
      ],
      "text/plain": [
       "MultinomialNB()"
      ]
     },
     "execution_count": 108,
     "metadata": {},
     "output_type": "execute_result"
    }
   ],
   "source": [
    "from sklearn.naive_bayes import MultinomialNB\n",
    "\n",
    "mnb = MultinomialNB()\n",
    "mnb.fit(x_train, y_train)"
   ]
  },
  {
   "cell_type": "markdown",
   "id": "5fbf9274-5f0f-4fdf-a63b-d7f8a2aaec2e",
   "metadata": {},
   "source": [
    "### Get log_loss and accuracy on testing set"
   ]
  },
  {
   "cell_type": "code",
   "execution_count": 109,
   "id": "4e698ac6",
   "metadata": {},
   "outputs": [
    {
     "name": "stdout",
     "output_type": "stream",
     "text": [
      "accuracy is : 0.7777777777777778, and log loss is: 0.851898641844238.\n"
     ]
    }
   ],
   "source": [
    "y_pred = mnb.predict(x_test)\n",
    "y_pred_log = mnb.predict_proba(x_test)\n",
    "acc = accuracy_score(y_test, y_pred)\n",
    "log = log_loss(y_test, y_pred_log)\n",
    "\n",
    "print(f\"accuracy is : {acc}, and log loss is: {log}.\")"
   ]
  },
  {
   "cell_type": "markdown",
   "id": "787c1f2a-4745-413c-8883-6266a09f437a",
   "metadata": {},
   "source": [
    "## Feature scaling (use MinMaxScaler)"
   ]
  },
  {
   "cell_type": "code",
   "execution_count": 110,
   "id": "08d5ad04",
   "metadata": {},
   "outputs": [],
   "source": [
    "scaler = MinMaxScaler()\n",
    "scaler.fit(x_train)\n",
    "scl_x_tr = scaler.transform(x_train)\n",
    "scl_x_ts = scaler.transform(x_test)"
   ]
  },
  {
   "cell_type": "markdown",
   "id": "c8b7a5c7-355d-4950-8c9d-94839b484873",
   "metadata": {},
   "source": [
    "### fit Multinomial Naive Bayes algorithm here using feature scaling"
   ]
  },
  {
   "cell_type": "code",
   "execution_count": 111,
   "id": "5e84c3b8",
   "metadata": {},
   "outputs": [
    {
     "data": {
      "text/html": [
       "<style>#sk-container-id-8 {color: black;background-color: white;}#sk-container-id-8 pre{padding: 0;}#sk-container-id-8 div.sk-toggleable {background-color: white;}#sk-container-id-8 label.sk-toggleable__label {cursor: pointer;display: block;width: 100%;margin-bottom: 0;padding: 0.3em;box-sizing: border-box;text-align: center;}#sk-container-id-8 label.sk-toggleable__label-arrow:before {content: \"▸\";float: left;margin-right: 0.25em;color: #696969;}#sk-container-id-8 label.sk-toggleable__label-arrow:hover:before {color: black;}#sk-container-id-8 div.sk-estimator:hover label.sk-toggleable__label-arrow:before {color: black;}#sk-container-id-8 div.sk-toggleable__content {max-height: 0;max-width: 0;overflow: hidden;text-align: left;background-color: #f0f8ff;}#sk-container-id-8 div.sk-toggleable__content pre {margin: 0.2em;color: black;border-radius: 0.25em;background-color: #f0f8ff;}#sk-container-id-8 input.sk-toggleable__control:checked~div.sk-toggleable__content {max-height: 200px;max-width: 100%;overflow: auto;}#sk-container-id-8 input.sk-toggleable__control:checked~label.sk-toggleable__label-arrow:before {content: \"▾\";}#sk-container-id-8 div.sk-estimator input.sk-toggleable__control:checked~label.sk-toggleable__label {background-color: #d4ebff;}#sk-container-id-8 div.sk-label input.sk-toggleable__control:checked~label.sk-toggleable__label {background-color: #d4ebff;}#sk-container-id-8 input.sk-hidden--visually {border: 0;clip: rect(1px 1px 1px 1px);clip: rect(1px, 1px, 1px, 1px);height: 1px;margin: -1px;overflow: hidden;padding: 0;position: absolute;width: 1px;}#sk-container-id-8 div.sk-estimator {font-family: monospace;background-color: #f0f8ff;border: 1px dotted black;border-radius: 0.25em;box-sizing: border-box;margin-bottom: 0.5em;}#sk-container-id-8 div.sk-estimator:hover {background-color: #d4ebff;}#sk-container-id-8 div.sk-parallel-item::after {content: \"\";width: 100%;border-bottom: 1px solid gray;flex-grow: 1;}#sk-container-id-8 div.sk-label:hover label.sk-toggleable__label {background-color: #d4ebff;}#sk-container-id-8 div.sk-serial::before {content: \"\";position: absolute;border-left: 1px solid gray;box-sizing: border-box;top: 0;bottom: 0;left: 50%;z-index: 0;}#sk-container-id-8 div.sk-serial {display: flex;flex-direction: column;align-items: center;background-color: white;padding-right: 0.2em;padding-left: 0.2em;position: relative;}#sk-container-id-8 div.sk-item {position: relative;z-index: 1;}#sk-container-id-8 div.sk-parallel {display: flex;align-items: stretch;justify-content: center;background-color: white;position: relative;}#sk-container-id-8 div.sk-item::before, #sk-container-id-8 div.sk-parallel-item::before {content: \"\";position: absolute;border-left: 1px solid gray;box-sizing: border-box;top: 0;bottom: 0;left: 50%;z-index: -1;}#sk-container-id-8 div.sk-parallel-item {display: flex;flex-direction: column;z-index: 1;position: relative;background-color: white;}#sk-container-id-8 div.sk-parallel-item:first-child::after {align-self: flex-end;width: 50%;}#sk-container-id-8 div.sk-parallel-item:last-child::after {align-self: flex-start;width: 50%;}#sk-container-id-8 div.sk-parallel-item:only-child::after {width: 0;}#sk-container-id-8 div.sk-dashed-wrapped {border: 1px dashed gray;margin: 0 0.4em 0.5em 0.4em;box-sizing: border-box;padding-bottom: 0.4em;background-color: white;}#sk-container-id-8 div.sk-label label {font-family: monospace;font-weight: bold;display: inline-block;line-height: 1.2em;}#sk-container-id-8 div.sk-label-container {text-align: center;}#sk-container-id-8 div.sk-container {/* jupyter's `normalize.less` sets `[hidden] { display: none; }` but bootstrap.min.css set `[hidden] { display: none !important; }` so we also need the `!important` here to be able to override the default hidden behavior on the sphinx rendered scikit-learn.org. See: https://github.com/scikit-learn/scikit-learn/issues/21755 */display: inline-block !important;position: relative;}#sk-container-id-8 div.sk-text-repr-fallback {display: none;}</style><div id=\"sk-container-id-8\" class=\"sk-top-container\"><div class=\"sk-text-repr-fallback\"><pre>MultinomialNB()</pre><b>In a Jupyter environment, please rerun this cell to show the HTML representation or trust the notebook. <br />On GitHub, the HTML representation is unable to render, please try loading this page with nbviewer.org.</b></div><div class=\"sk-container\" hidden><div class=\"sk-item\"><div class=\"sk-estimator sk-toggleable\"><input class=\"sk-toggleable__control sk-hidden--visually\" id=\"sk-estimator-id-8\" type=\"checkbox\" checked><label for=\"sk-estimator-id-8\" class=\"sk-toggleable__label sk-toggleable__label-arrow\">MultinomialNB</label><div class=\"sk-toggleable__content\"><pre>MultinomialNB()</pre></div></div></div></div></div>"
      ],
      "text/plain": [
       "MultinomialNB()"
      ]
     },
     "execution_count": 111,
     "metadata": {},
     "output_type": "execute_result"
    }
   ],
   "source": [
    "mnb = MultinomialNB()\n",
    "mnb.fit(scl_x_tr, y_train)"
   ]
  },
  {
   "cell_type": "markdown",
   "id": "f6c5bbbf-0a47-4845-b550-9f1c1e2436a9",
   "metadata": {},
   "source": [
    "### Get log_loss and accuracy on testing set"
   ]
  },
  {
   "cell_type": "code",
   "execution_count": 112,
   "id": "37e25a19",
   "metadata": {},
   "outputs": [
    {
     "name": "stdout",
     "output_type": "stream",
     "text": [
      "accuracy is : 0.9444444444444444, and log loss is: 0.6292342689793112.\n"
     ]
    }
   ],
   "source": [
    "y_pred = mnb.predict(scl_x_ts)\n",
    "y_pred_log = mnb.predict_proba(scl_x_ts)\n",
    "acc = accuracy_score(y_test, y_pred)\n",
    "log = log_loss(y_test, y_pred_log)\n",
    "\n",
    "print(f\"accuracy is : {acc}, and log loss is: {log}.\")"
   ]
  }
 ],
 "metadata": {
  "kernelspec": {
   "display_name": "Python 3.10.5 64-bit",
   "language": "python",
   "name": "python3"
  },
  "language_info": {
   "codemirror_mode": {
    "name": "ipython",
    "version": 3
   },
   "file_extension": ".py",
   "mimetype": "text/x-python",
   "name": "python",
   "nbconvert_exporter": "python",
   "pygments_lexer": "ipython3",
   "version": "3.10.5"
  },
  "vscode": {
   "interpreter": {
    "hash": "f56a879a86e4cb184598e0f1a037d80ac9bf804487d5cf89fe943b503a6b43f5"
   }
  }
 },
 "nbformat": 4,
 "nbformat_minor": 5
}
