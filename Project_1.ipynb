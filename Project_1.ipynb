{
 "cells": [
  {
   "cell_type": "markdown",
   "id": "ffbd1053-ec5b-4a27-8508-a1d2c08169a4",
   "metadata": {
    "jp-MarkdownHeadingCollapsed": true,
    "tags": []
   },
   "source": [
    "# Loading Regression Data"
   ]
  },
  {
   "cell_type": "code",
   "execution_count": 1,
   "id": "7b362caa",
   "metadata": {},
   "outputs": [
    {
     "data": {
      "text/html": [
       "<div>\n",
       "<style scoped>\n",
       "    .dataframe tbody tr th:only-of-type {\n",
       "        vertical-align: middle;\n",
       "    }\n",
       "\n",
       "    .dataframe tbody tr th {\n",
       "        vertical-align: top;\n",
       "    }\n",
       "\n",
       "    .dataframe thead th {\n",
       "        text-align: right;\n",
       "    }\n",
       "</style>\n",
       "<table border=\"1\" class=\"dataframe\">\n",
       "  <thead>\n",
       "    <tr style=\"text-align: right;\">\n",
       "      <th></th>\n",
       "      <th>age</th>\n",
       "      <th>sex</th>\n",
       "      <th>bmi</th>\n",
       "      <th>bp</th>\n",
       "      <th>s1</th>\n",
       "      <th>s2</th>\n",
       "      <th>s3</th>\n",
       "      <th>s4</th>\n",
       "      <th>s5</th>\n",
       "      <th>s6</th>\n",
       "      <th>target</th>\n",
       "    </tr>\n",
       "  </thead>\n",
       "  <tbody>\n",
       "    <tr>\n",
       "      <th>0</th>\n",
       "      <td>0.038076</td>\n",
       "      <td>0.050680</td>\n",
       "      <td>0.061696</td>\n",
       "      <td>0.021872</td>\n",
       "      <td>-0.044223</td>\n",
       "      <td>-0.034821</td>\n",
       "      <td>-0.043401</td>\n",
       "      <td>-0.002592</td>\n",
       "      <td>0.019907</td>\n",
       "      <td>-0.017646</td>\n",
       "      <td>151.0</td>\n",
       "    </tr>\n",
       "    <tr>\n",
       "      <th>1</th>\n",
       "      <td>-0.001882</td>\n",
       "      <td>-0.044642</td>\n",
       "      <td>-0.051474</td>\n",
       "      <td>-0.026328</td>\n",
       "      <td>-0.008449</td>\n",
       "      <td>-0.019163</td>\n",
       "      <td>0.074412</td>\n",
       "      <td>-0.039493</td>\n",
       "      <td>-0.068332</td>\n",
       "      <td>-0.092204</td>\n",
       "      <td>75.0</td>\n",
       "    </tr>\n",
       "    <tr>\n",
       "      <th>2</th>\n",
       "      <td>0.085299</td>\n",
       "      <td>0.050680</td>\n",
       "      <td>0.044451</td>\n",
       "      <td>-0.005670</td>\n",
       "      <td>-0.045599</td>\n",
       "      <td>-0.034194</td>\n",
       "      <td>-0.032356</td>\n",
       "      <td>-0.002592</td>\n",
       "      <td>0.002861</td>\n",
       "      <td>-0.025930</td>\n",
       "      <td>141.0</td>\n",
       "    </tr>\n",
       "    <tr>\n",
       "      <th>3</th>\n",
       "      <td>-0.089063</td>\n",
       "      <td>-0.044642</td>\n",
       "      <td>-0.011595</td>\n",
       "      <td>-0.036656</td>\n",
       "      <td>0.012191</td>\n",
       "      <td>0.024991</td>\n",
       "      <td>-0.036038</td>\n",
       "      <td>0.034309</td>\n",
       "      <td>0.022688</td>\n",
       "      <td>-0.009362</td>\n",
       "      <td>206.0</td>\n",
       "    </tr>\n",
       "    <tr>\n",
       "      <th>4</th>\n",
       "      <td>0.005383</td>\n",
       "      <td>-0.044642</td>\n",
       "      <td>-0.036385</td>\n",
       "      <td>0.021872</td>\n",
       "      <td>0.003935</td>\n",
       "      <td>0.015596</td>\n",
       "      <td>0.008142</td>\n",
       "      <td>-0.002592</td>\n",
       "      <td>-0.031988</td>\n",
       "      <td>-0.046641</td>\n",
       "      <td>135.0</td>\n",
       "    </tr>\n",
       "  </tbody>\n",
       "</table>\n",
       "</div>"
      ],
      "text/plain": [
       "        age       sex       bmi        bp        s1        s2        s3  \\\n",
       "0  0.038076  0.050680  0.061696  0.021872 -0.044223 -0.034821 -0.043401   \n",
       "1 -0.001882 -0.044642 -0.051474 -0.026328 -0.008449 -0.019163  0.074412   \n",
       "2  0.085299  0.050680  0.044451 -0.005670 -0.045599 -0.034194 -0.032356   \n",
       "3 -0.089063 -0.044642 -0.011595 -0.036656  0.012191  0.024991 -0.036038   \n",
       "4  0.005383 -0.044642 -0.036385  0.021872  0.003935  0.015596  0.008142   \n",
       "\n",
       "         s4        s5        s6  target  \n",
       "0 -0.002592  0.019907 -0.017646   151.0  \n",
       "1 -0.039493 -0.068332 -0.092204    75.0  \n",
       "2 -0.002592  0.002861 -0.025930   141.0  \n",
       "3  0.034309  0.022688 -0.009362   206.0  \n",
       "4 -0.002592 -0.031988 -0.046641   135.0  "
      ]
     },
     "execution_count": 1,
     "metadata": {},
     "output_type": "execute_result"
    }
   ],
   "source": [
    "from sklearn.datasets import load_diabetes\n",
    "df = load_diabetes(as_frame=True).frame\n",
    "df.head()"
   ]
  },
  {
   "cell_type": "markdown",
   "id": "0f9bf41a-25cb-441f-b548-63d97704606f",
   "metadata": {
    "tags": []
   },
   "source": [
    "# Univariate Linear Regression\n",
    "(Grab appropriate features and data split)"
   ]
  },
  {
   "cell_type": "code",
   "execution_count": 2,
   "id": "79167a77",
   "metadata": {},
   "outputs": [],
   "source": [
    "# I'd rather prefer to do the spliting operation in one step, but for now I go along with the method of the example.  \n",
    "\n",
    "import numpy as np\n",
    "\n",
    "from sklearn.model_selection import train_test_split\n",
    "X_train, X_test = train_test_split(df, test_size=0.2, shuffle=False)\n",
    "\n",
    "bmi_train = np.array(X_train['bmi'])\n",
    "target_train = np.array(X_train[\"target\"])\n",
    "\n",
    "bmi_test = np.array(X_test['bmi'])\n",
    "target_test = np.array(X_test[\"target\"])"
   ]
  },
  {
   "cell_type": "markdown",
   "id": "4095ec55-bf96-4596-a593-c0b5830128ae",
   "metadata": {
    "tags": []
   },
   "source": [
    "## Normal Equation\n",
    "(fit and predict the normal equation)"
   ]
  },
  {
   "cell_type": "code",
   "execution_count": 3,
   "id": "b749cd07",
   "metadata": {},
   "outputs": [],
   "source": [
    "from sklearn.linear_model import LinearRegression \n",
    "\n",
    "# reshaping the independent variables of train and test dataset. \n",
    "bmi_train = bmi_train.reshape(-1,1) \n",
    "bmi_test = bmi_test.reshape(-1,1) \n",
    "\n",
    "# Creating the regressor based on training independent variable. \n",
    "reg = LinearRegression().fit(bmi_train, target_train) \n",
    "\n",
    "# Getting the prediction for both the train and test target variable. \n",
    "target_pred_train = reg.predict(bmi_train) \n",
    "target_pred_test = reg.predict(bmi_test) "
   ]
  },
  {
   "cell_type": "code",
   "execution_count": 4,
   "id": "80051a62",
   "metadata": {},
   "outputs": [
    {
     "name": "stdout",
     "output_type": "stream",
     "text": [
      "\n",
      "train_result_df is : \n",
      "          bmi    predicte  target\n",
      "0    0.061696  211.143800   151.0\n",
      "1   -0.051474  102.753615    75.0\n",
      "2    0.044451  194.627200   141.0\n",
      "3   -0.011595  140.948252   206.0\n",
      "4   -0.036385  117.205640   135.0\n",
      "..        ...         ...     ...\n",
      "348 -0.020218  132.689952   148.0\n",
      "349 -0.057941   96.559890    88.0\n",
      "350  0.060618  210.111512   243.0\n",
      "351 -0.040696  113.076490    71.0\n",
      "352 -0.071952   83.140153    77.0\n",
      "\n",
      "[353 rows x 3 columns]\n",
      "test_result_df is \n",
      "         bmi    predicte  target\n",
      "0  -0.055785   98.624465   109.0\n",
      "1   0.045529  195.659488   272.0\n",
      "2  -0.009439  143.012827    60.0\n",
      "3  -0.033151  120.302502    54.0\n",
      "4   0.049840  199.788638   221.0\n",
      "..       ...         ...     ...\n",
      "84  0.019662  170.884588   178.0\n",
      "85 -0.015906  136.819102   104.0\n",
      "86 -0.015906  136.819102   132.0\n",
      "87  0.039062  189.465763   220.0\n",
      "88 -0.073030   82.107865    57.0\n",
      "\n",
      "[89 rows x 3 columns]. \n"
     ]
    }
   ],
   "source": [
    "# Providing the new datasets for both train and test, with their coresponding predicted target values. \n",
    "import pandas as pd\n",
    "\n",
    "train_result_df = pd.DataFrame(np.array(\n",
    "    [np.transpose(bmi_train[:,0]), target_pred_train, target_train]), \n",
    "    [\"bmi\", \"predicte\", \"target\"]).T\n",
    "\n",
    "test_result_df = pd.DataFrame(np.array(\n",
    "    [np.transpose(bmi_test[:,0]), target_pred_test, target_test]), \n",
    "    [\"bmi\", \"predicte\", \"target\"]).T\n",
    "\n",
    "print(f\"\\ntrain_result_df is : \\n{train_result_df}\\ntest_result_df is \\n{test_result_df}. \") "
   ]
  },
  {
   "cell_type": "markdown",
   "id": "15e28996-6820-4539-808a-509b6d7f8755",
   "metadata": {},
   "source": [
    "### mse and rsquared (Training set)"
   ]
  },
  {
   "cell_type": "code",
   "execution_count": 5,
   "id": "6f7fd4e6",
   "metadata": {},
   "outputs": [
    {
     "name": "stdout",
     "output_type": "stream",
     "text": [
      "For training dataset: \n",
      "mse : 3842.9168581206354, r2: 0.3378550554042947\n"
     ]
    }
   ],
   "source": [
    "from sklearn.metrics import mean_squared_error, r2_score \n",
    "\n",
    "mse_train = mean_squared_error(target_train, target_pred_train) \n",
    "r2_train = r2_score(target_train, target_pred_train) \n",
    "\n",
    "print(f\"For training dataset: \\nmse : {mse_train}, r2: {r2_train}\")"
   ]
  },
  {
   "cell_type": "markdown",
   "id": "2a73c2eb-d0da-45b5-8e24-38e9059cceea",
   "metadata": {},
   "source": [
    "### mse and rsquared (Testing set)"
   ]
  },
  {
   "cell_type": "code",
   "execution_count": 6,
   "id": "5880b791",
   "metadata": {},
   "outputs": [
    {
     "name": "stdout",
     "output_type": "stream",
     "text": [
      "For testing dataset: \n",
      "mse : 4079.8238363494497, r2: 0.36468857495916807 \n"
     ]
    }
   ],
   "source": [
    "mse_test = mean_squared_error(target_test, target_pred_test) \n",
    "r2_test = r2_score(target_test, target_pred_test) \n",
    "\n",
    "print(f\"For testing dataset: \\nmse : {mse_test}, r2: {r2_test} \")"
   ]
  },
  {
   "cell_type": "markdown",
   "id": "b9a5189a-05b2-4fe7-aa5d-f87e5d6a94d3",
   "metadata": {},
   "source": [
    "### Plot Regression Graph"
   ]
  },
  {
   "cell_type": "code",
   "execution_count": 7,
   "id": "fc324d4d",
   "metadata": {},
   "outputs": [
    {
     "data": {
      "image/png": "[encoded data removed]",
      "text/plain": [
       "<Figure size 432x288 with 1 Axes>"
      ]
     },
     "metadata": {
      "needs_background": "light"
     },
     "output_type": "display_data"
    }
   ],
   "source": [
    "# This part illustrates the regression line and training data points.\n",
    "# It is not necessary to plot for training set, but just in case! \n",
    "\n",
    "import matplotlib.pyplot as plt\n",
    "\n",
    "plt.scatter(bmi_train, target_train, color=\"black\")\n",
    "plt.plot(bmi_train, target_pred_train, color=\"blue\", linewidth=3)\n",
    "plt.show() "
   ]
  },
  {
   "cell_type": "code",
   "execution_count": 8,
   "id": "156714c0",
   "metadata": {},
   "outputs": [
    {
     "data": {
      "image/png": "[encoded data removed]",
      "text/plain": [
       "<Figure size 432x288 with 1 Axes>"
      ]
     },
     "metadata": {
      "needs_background": "light"
     },
     "output_type": "display_data"
    }
   ],
   "source": [
    "# Plotting the regression line and data points for the test set. \n",
    "\n",
    "plt.scatter(bmi_test, target_test, color=\"black\")\n",
    "plt.plot(bmi_test, target_pred_test, color=\"blue\", linewidth=3)\n",
    "plt.show() "
   ]
  },
  {
   "cell_type": "markdown",
   "id": "d6b0a5cc-551a-485c-a683-9bcf67cb8c63",
   "metadata": {
    "tags": []
   },
   "source": [
    "## Gradient descent\n",
    "(fit and predict gradient descent)"
   ]
  },
  {
   "cell_type": "code",
   "execution_count": 9,
   "id": "9a1f3787",
   "metadata": {},
   "outputs": [],
   "source": [
    "from sklearn.linear_model import SGDRegressor\n",
    "\n",
    "# Creating the SGDRegressor with training dataset. \n",
    "sgd = SGDRegressor(max_iter=10000, tol=1e-3, random_state=3143092, penalty='none').fit(bmi_train, target_train)\n",
    "\n",
    "# Predicting the \n",
    "target_SGD_pred_train = sgd.predict(bmi_train)\n",
    "target_SGD_pred_test = sgd.predict(bmi_test)"
   ]
  },
  {
   "cell_type": "code",
   "execution_count": 10,
   "id": "bf9a1d10",
   "metadata": {},
   "outputs": [
    {
     "name": "stdout",
     "output_type": "stream",
     "text": [
      "\n",
      "train_SGD_result_df is : \n",
      "          bmi  sgd_predicte      target\n",
      "0    0.061696         151.0  203.301581\n",
      "1   -0.051474          75.0  109.123034\n",
      "2    0.044451         141.0  188.950565\n",
      "3   -0.011595         206.0  142.309760\n",
      "4   -0.036385         135.0  121.680174\n",
      "..        ...           ...         ...\n",
      "348 -0.020218         148.0  135.134252\n",
      "349 -0.057941          88.0  103.741403\n",
      "350  0.060618         243.0  202.404643\n",
      "351 -0.040696          71.0  118.092419\n",
      "352 -0.071952          77.0   92.081202\n",
      "\n",
      "[353 rows x 3 columns]\n",
      "\n",
      "test_SGD_result_df is \n",
      "         bmi  sgd_predicte      target\n",
      "0  -0.055785         109.0  105.535280\n",
      "1   0.045529         272.0  189.847503\n",
      "2  -0.009439          60.0  144.103637\n",
      "3  -0.033151          54.0  124.370989\n",
      "4   0.049840         221.0  193.435257\n",
      "..       ...           ...         ...\n",
      "84  0.019662         178.0  168.320978\n",
      "85 -0.015906         104.0  138.722006\n",
      "86 -0.015906         132.0  138.722006\n",
      "87  0.039062         220.0  184.465872\n",
      "88 -0.073030          57.0   91.184263\n",
      "\n",
      "[89 rows x 3 columns]. \n"
     ]
    }
   ],
   "source": [
    "# Illustrating the new train and test datasets with their corresponding predicted target values.\n",
    "\n",
    "train_SGD_result_df = pd.DataFrame(np.array(\n",
    "    [np.transpose(bmi_train[:,0]), target_train, target_SGD_pred_train]), \n",
    "    [\"bmi\", \"sgd_predicte\", \"target\"]).T \n",
    "\n",
    "test_SGD_result_df = pd.DataFrame(np.array(\n",
    "    [np.transpose(bmi_test[:,0]), target_test, target_SGD_pred_test]), \n",
    "    [\"bmi\", \"sgd_predicte\", \"target\"]).T \n",
    "\n",
    "print(f\"\\ntrain_SGD_result_df is : \\n{train_SGD_result_df}\\n\\ntest_SGD_result_df is \\n{test_SGD_result_df}. \") "
   ]
  },
  {
   "cell_type": "markdown",
   "id": "279f3f9e-32d1-411b-82e6-7615a73c0d86",
   "metadata": {},
   "source": [
    "### mse and rsquared (Training set)"
   ]
  },
  {
   "cell_type": "code",
   "execution_count": 11,
   "id": "72c5ead0",
   "metadata": {},
   "outputs": [
    {
     "name": "stdout",
     "output_type": "stream",
     "text": [
      "For training dataset: \n",
      "mse: 3876.6262907067844, r2: 0.33204682920628537\n"
     ]
    }
   ],
   "source": [
    "mse_SGD_train = mean_squared_error(target_train, target_SGD_pred_train) \n",
    "r2_SGD_train = r2_score(target_train, target_SGD_pred_train) \n",
    "\n",
    "print(f\"For training dataset: \\nmse: {mse_SGD_train}, r2: {r2_SGD_train}\") "
   ]
  },
  {
   "cell_type": "markdown",
   "id": "aebead49-3b4f-4143-bb18-3e0109ea861c",
   "metadata": {},
   "source": [
    "### mse and rsquared (Testing set)"
   ]
  },
  {
   "cell_type": "code",
   "execution_count": 12,
   "id": "13c6afa6",
   "metadata": {},
   "outputs": [
    {
     "name": "stdout",
     "output_type": "stream",
     "text": [
      "For testing dataset: \n",
      "mse: 4099.931748688099, r2: 0.3615573646533099\n"
     ]
    }
   ],
   "source": [
    "mse_SGD_test = mean_squared_error(target_test, target_SGD_pred_test) \n",
    "r2_SGD_test = r2_score(target_test, target_SGD_pred_test) \n",
    "\n",
    "print(f\"For testing dataset: \\nmse: {mse_SGD_test}, r2: {r2_SGD_test}\") "
   ]
  },
  {
   "cell_type": "markdown",
   "id": "044e39cd",
   "metadata": {},
   "source": [
    "<b style=color:lightgreen>At first try, I had r2_score of lower than 0.2 and mse greater than 4500 for both the training and testing datasets. </p>\n",
    "<b style=color:lightgreen>Next time I changed the iteration to 10000, and I got the above results, both r2_scores more than 0.3 and mse for training set lower than 4000 and mse for testing set lower than 4500."
   ]
  },
  {
   "cell_type": "markdown",
   "id": "5ffbb534-84cc-4f2d-a3d4-6ade27f77a17",
   "metadata": {},
   "source": [
    "### Plot Regression graph"
   ]
  },
  {
   "cell_type": "code",
   "execution_count": 13,
   "id": "be8e702f",
   "metadata": {},
   "outputs": [
    {
     "data": {
      "image/png": "[encoded data removed]",
      "text/plain": [
       "<Figure size 432x288 with 1 Axes>"
      ]
     },
     "metadata": {
      "needs_background": "light"
     },
     "output_type": "display_data"
    }
   ],
   "source": [
    "plt.scatter(bmi_train, target_train, color=\"black\")\n",
    "plt.plot(bmi_train, target_SGD_pred_train, color=\"blue\", linewidth=3)\n",
    "plt.show() "
   ]
  },
  {
   "cell_type": "code",
   "execution_count": 14,
   "id": "bb2bb8dc",
   "metadata": {},
   "outputs": [
    {
     "data": {
      "image/png": "[encoded data removed]",
      "text/plain": [
       "<Figure size 432x288 with 1 Axes>"
      ]
     },
     "metadata": {
      "needs_background": "light"
     },
     "output_type": "display_data"
    }
   ],
   "source": [
    "plt.scatter(bmi_test, target_test, color=\"black\")\n",
    "plt.plot(bmi_test, target_SGD_pred_test, color=\"blue\", linewidth=3)\n",
    "plt.show() "
   ]
  },
  {
   "cell_type": "markdown",
   "id": "cebed181-6bba-4c1d-b440-a38d804a3688",
   "metadata": {
    "tags": []
   },
   "source": [
    "# Multivariate Linear Regression\n",
    "(Grab appropriate features and data split)"
   ]
  },
  {
   "cell_type": "code",
   "execution_count": 15,
   "id": "a057affc",
   "metadata": {},
   "outputs": [],
   "source": [
    "# Splitting the data from the start.\n",
    "X_train, X_test = train_test_split(df, test_size=0.2, random_state=0, shuffle=False)\n",
    "\n",
    "# Defining the X and Y for training set.\n",
    "X_train_mvlr = X_train.drop('target', axis=1)\n",
    "Y_train_mvlr = X_train['target']\n",
    "\n",
    "# Defining the X and Y for testing set.\n",
    "X_test_mvlr = X_test.drop('target', axis=1)\n",
    "Y_test_mvlr = X_test['target']"
   ]
  },
  {
   "cell_type": "markdown",
   "id": "9aa0d07d-7a64-4f7e-bdd9-216ebab33240",
   "metadata": {
    "tags": []
   },
   "source": [
    "## No feature scaling"
   ]
  },
  {
   "cell_type": "markdown",
   "id": "d70dcfe8-1f4f-4edc-b162-506735f49102",
   "metadata": {},
   "source": [
    "## Fit and predict Normal Equation"
   ]
  },
  {
   "cell_type": "code",
   "execution_count": 16,
   "id": "bc77066c",
   "metadata": {},
   "outputs": [],
   "source": [
    "# Generatin the model for Multi_Variate Linear Regression (MLVR). \n",
    "mlv_reg = LinearRegression().fit(X_train_mvlr, Y_train_mvlr)\n",
    "\n",
    "# Predicting the target for the train set. \n",
    "target_pred_mlvr_train = mlv_reg.predict(X_train_mvlr) \n",
    "\n",
    "# Predicting the target for the test set. \n",
    "target_pred_mlvr_test = mlv_reg.predict(X_test_mvlr) "
   ]
  },
  {
   "cell_type": "markdown",
   "id": "88e04578-3877-4399-9519-27a84c7b3155",
   "metadata": {},
   "source": [
    "### mse and rsquared (Training set)"
   ]
  },
  {
   "cell_type": "code",
   "execution_count": 17,
   "id": "617576d1",
   "metadata": {},
   "outputs": [
    {
     "name": "stdout",
     "output_type": "stream",
     "text": [
      "For training dataset: \n",
      "mse : 2850.2607240058587, r2: 0.5088923859510339\n"
     ]
    }
   ],
   "source": [
    "mse_train = mean_squared_error(Y_train_mvlr, target_pred_mlvr_train) \n",
    "r2_train = r2_score(Y_train_mvlr, target_pred_mlvr_train) \n",
    "\n",
    "print(f\"For training dataset: \\nmse : {mse_train}, r2: {r2_train}\")"
   ]
  },
  {
   "cell_type": "markdown",
   "id": "f8f6a573-4c9e-4284-934d-67a940db7adb",
   "metadata": {},
   "source": [
    "### mse and rsquared (Testing set)"
   ]
  },
  {
   "cell_type": "code",
   "execution_count": 18,
   "id": "d70c4620",
   "metadata": {},
   "outputs": [
    {
     "name": "stdout",
     "output_type": "stream",
     "text": [
      "For training dataset: \n",
      "mse : 2929.8952913182065, r2: 0.5437558023550999\n"
     ]
    }
   ],
   "source": [
    "mse_test = mean_squared_error(Y_test_mvlr, target_pred_mlvr_test) \n",
    "r2_test = r2_score(Y_test_mvlr, target_pred_mlvr_test) \n",
    "\n",
    "print(f\"For training dataset: \\nmse : {mse_test}, r2: {r2_test}\")"
   ]
  },
  {
   "cell_type": "markdown",
   "id": "962392a7-46b6-4f2c-9334-6d8b87802ea8",
   "metadata": {},
   "source": [
    "## Fit and predict Gradient Descent (without feature scaling)"
   ]
  },
  {
   "cell_type": "code",
   "execution_count": 19,
   "id": "f4be52f2",
   "metadata": {},
   "outputs": [],
   "source": [
    "# Generating the SGDRegressor over the training set (with multivariate features) with respect to the target variable.\n",
    "sgd_mvlr = SGDRegressor(max_iter=1000000, tol=1e-5, random_state=0).fit(X_train_mvlr, Y_train_mvlr)\n",
    "\n",
    "# Predicting the target for both train and test sets. \n",
    "target_pred_SGD_mlvr_train= sgd_mvlr.predict(X_train_mvlr)\n",
    "target_pred_SGD_mlvr_test= sgd_mvlr.predict(X_test_mvlr)"
   ]
  },
  {
   "cell_type": "markdown",
   "id": "15789162-65a4-4cb0-86e1-ac6784c1238a",
   "metadata": {},
   "source": [
    "### mse and rsquared (Training set) No feature scaling"
   ]
  },
  {
   "cell_type": "code",
   "execution_count": 20,
   "id": "8653e2df",
   "metadata": {},
   "outputs": [
    {
     "name": "stdout",
     "output_type": "stream",
     "text": [
      "For training dataset: \n",
      "mse : 2895.2000126126386, r2: 0.5011492252573991\n"
     ]
    }
   ],
   "source": [
    "mse_train = mean_squared_error(Y_train_mvlr, target_pred_SGD_mlvr_train) \n",
    "r2_train = r2_score(Y_train_mvlr, target_pred_SGD_mlvr_train) \n",
    "\n",
    "print(f\"For training dataset: \\nmse : {mse_train}, r2: {r2_train}\")"
   ]
  },
  {
   "cell_type": "markdown",
   "id": "6376375a-0bba-46ae-a483-13afecffda71",
   "metadata": {},
   "source": [
    "### mse and rsquared (Testing set) No feature scaling"
   ]
  },
  {
   "cell_type": "code",
   "execution_count": 21,
   "id": "38e358f1",
   "metadata": {},
   "outputs": [
    {
     "name": "stdout",
     "output_type": "stream",
     "text": [
      "For training dataset: \n",
      "mse : 3043.79945085165, r2: 0.5260186115316793\n"
     ]
    }
   ],
   "source": [
    "mse_test = mean_squared_error(Y_test_mvlr, target_pred_SGD_mlvr_test) \n",
    "r2_test = r2_score(Y_test_mvlr, target_pred_SGD_mlvr_test) \n",
    "\n",
    "print(f\"For training dataset: \\nmse : {mse_test}, r2: {r2_test}\")"
   ]
  },
  {
   "cell_type": "markdown",
   "id": "82e37e2f-0c42-4f65-a6bf-cbef52a7bb83",
   "metadata": {},
   "source": [
    "## Feature scaling\n",
    "(Feature scale your data here)"
   ]
  },
  {
   "cell_type": "code",
   "execution_count": 22,
   "id": "e6f97bea",
   "metadata": {},
   "outputs": [],
   "source": [
    "from sklearn.preprocessing import StandardScaler\n",
    "\n",
    "scaler = StandardScaler()\n",
    "scaler.fit(X_train_mvlr)\n",
    "X_train_mvlr_scaled = scaler.transform(X_train_mvlr)\n",
    "X_test_mvlr_scaled = scaler.transform(X_test_mvlr)"
   ]
  },
  {
   "cell_type": "markdown",
   "id": "de54d704-5a7e-404b-aded-ba7ed62fb162",
   "metadata": {},
   "source": [
    "## Fit and predict Gradient Descent (with feature scaling)"
   ]
  },
  {
   "cell_type": "code",
   "execution_count": 23,
   "id": "7cf5b538",
   "metadata": {},
   "outputs": [],
   "source": [
    "# Generating the SGDRegressor over the training set (with multivariate features) with respect to the target variable.\n",
    "sgd_mvlr = SGDRegressor(max_iter=1000000, tol=1e-5, random_state=0).fit(X_train_mvlr_scaled, Y_train_mvlr)\n",
    "\n",
    "# Predicting the target for both train and test sets. \n",
    "target_pred_SGD_mlvr_scaled_train= sgd_mvlr.predict(X_train_mvlr_scaled)\n",
    "target_pred_SGD_mlvr_scaled_test= sgd_mvlr.predict(X_test_mvlr_scaled)"
   ]
  },
  {
   "cell_type": "markdown",
   "id": "0b29004e-3f2e-4624-8b13-b52ef54b181d",
   "metadata": {},
   "source": [
    "### mse and rsquared (Training set) feature scaling"
   ]
  },
  {
   "cell_type": "code",
   "execution_count": 24,
   "id": "5b1abcc0",
   "metadata": {},
   "outputs": [
    {
     "name": "stdout",
     "output_type": "stream",
     "text": [
      "For training dataset: \n",
      "mse : 2855.9570177920004, r2: 0.5079108991604844\n"
     ]
    }
   ],
   "source": [
    "mse_train = mean_squared_error(Y_train_mvlr, target_pred_SGD_mlvr_scaled_train) \n",
    "r2_train = r2_score(Y_train_mvlr, target_pred_SGD_mlvr_scaled_train) \n",
    "\n",
    "print(f\"For training dataset: \\nmse : {mse_train}, r2: {r2_train}\")"
   ]
  },
  {
   "cell_type": "markdown",
   "id": "3ee34667-00d9-40af-8b96-01314cca6b5d",
   "metadata": {},
   "source": [
    "### mse and rsquared (Testing set) feature scaling "
   ]
  },
  {
   "cell_type": "code",
   "execution_count": 25,
   "id": "729acd62",
   "metadata": {},
   "outputs": [
    {
     "name": "stdout",
     "output_type": "stream",
     "text": [
      "For training dataset: \n",
      "mse : 2992.146008704137, r2: 0.5340621014604905\n"
     ]
    }
   ],
   "source": [
    "mse_test = mean_squared_error(Y_test_mvlr, target_pred_SGD_mlvr_scaled_test) \n",
    "r2_test = r2_score(Y_test_mvlr, target_pred_SGD_mlvr_scaled_test) \n",
    "\n",
    "print(f\"For training dataset: \\nmse : {mse_test}, r2: {r2_test}\") "
   ]
  },
  {
   "cell_type": "markdown",
   "id": "29a4e980-ec8a-4470-8cd5-dd2c1f38399a",
   "metadata": {
    "tags": []
   },
   "source": [
    "# Loading Classification data"
   ]
  },
  {
   "cell_type": "code",
   "execution_count": 26,
   "id": "2c63ae46",
   "metadata": {},
   "outputs": [
    {
     "data": {
      "text/html": [
       "<div>\n",
       "<style scoped>\n",
       "    .dataframe tbody tr th:only-of-type {\n",
       "        vertical-align: middle;\n",
       "    }\n",
       "\n",
       "    .dataframe tbody tr th {\n",
       "        vertical-align: top;\n",
       "    }\n",
       "\n",
       "    .dataframe thead th {\n",
       "        text-align: right;\n",
       "    }\n",
       "</style>\n",
       "<table border=\"1\" class=\"dataframe\">\n",
       "  <thead>\n",
       "    <tr style=\"text-align: right;\">\n",
       "      <th></th>\n",
       "      <th>sepal length (cm)</th>\n",
       "      <th>sepal width (cm)</th>\n",
       "      <th>petal length (cm)</th>\n",
       "      <th>petal width (cm)</th>\n",
       "      <th>target</th>\n",
       "    </tr>\n",
       "  </thead>\n",
       "  <tbody>\n",
       "    <tr>\n",
       "      <th>0</th>\n",
       "      <td>5.1</td>\n",
       "      <td>3.5</td>\n",
       "      <td>1.4</td>\n",
       "      <td>0.2</td>\n",
       "      <td>0</td>\n",
       "    </tr>\n",
       "    <tr>\n",
       "      <th>1</th>\n",
       "      <td>4.9</td>\n",
       "      <td>3.0</td>\n",
       "      <td>1.4</td>\n",
       "      <td>0.2</td>\n",
       "      <td>0</td>\n",
       "    </tr>\n",
       "    <tr>\n",
       "      <th>2</th>\n",
       "      <td>4.7</td>\n",
       "      <td>3.2</td>\n",
       "      <td>1.3</td>\n",
       "      <td>0.2</td>\n",
       "      <td>0</td>\n",
       "    </tr>\n",
       "    <tr>\n",
       "      <th>3</th>\n",
       "      <td>4.6</td>\n",
       "      <td>3.1</td>\n",
       "      <td>1.5</td>\n",
       "      <td>0.2</td>\n",
       "      <td>0</td>\n",
       "    </tr>\n",
       "    <tr>\n",
       "      <th>4</th>\n",
       "      <td>5.0</td>\n",
       "      <td>3.6</td>\n",
       "      <td>1.4</td>\n",
       "      <td>0.2</td>\n",
       "      <td>0</td>\n",
       "    </tr>\n",
       "  </tbody>\n",
       "</table>\n",
       "</div>"
      ],
      "text/plain": [
       "   sepal length (cm)  sepal width (cm)  petal length (cm)  petal width (cm)  \\\n",
       "0                5.1               3.5                1.4               0.2   \n",
       "1                4.9               3.0                1.4               0.2   \n",
       "2                4.7               3.2                1.3               0.2   \n",
       "3                4.6               3.1                1.5               0.2   \n",
       "4                5.0               3.6                1.4               0.2   \n",
       "\n",
       "   target  \n",
       "0       0  \n",
       "1       0  \n",
       "2       0  \n",
       "3       0  \n",
       "4       0  "
      ]
     },
     "execution_count": 26,
     "metadata": {},
     "output_type": "execute_result"
    }
   ],
   "source": [
    "from sklearn.datasets import load_iris\n",
    "\n",
    "iris_df = load_iris(as_frame=True).frame\n",
    "iris_df.head()"
   ]
  },
  {
   "cell_type": "markdown",
   "id": "d8d7d45e-35e8-459f-ac4e-7365f01d18c7",
   "metadata": {
    "tags": []
   },
   "source": [
    "# Binary Logistic Classification\n",
    "\n",
    "(Grab appropriate features and data split)\n",
    "## No Feature Scaling"
   ]
  },
  {
   "cell_type": "code",
   "execution_count": 27,
   "id": "01f170f6",
   "metadata": {},
   "outputs": [],
   "source": [
    "import copy\n",
    "\n",
    "# Copying the dataframe to avoid messing with the first version. \n",
    "iris_df_cp = copy.deepcopy(iris_df)\n",
    "\n",
    "# Shuffling the dataset.\n",
    "iris_df_cp = iris_df.sample(frac=1., random_state=0).reset_index(drop=True)\n",
    "\n",
    "# Setting the target values that are equal to 2, to 0.\n",
    "iris_df_cp[iris_df_cp[\"target\"]==2] = 0\n",
    "\n",
    "# Select the desired columns. \n",
    "X = iris_df_cp[[\"sepal length (cm)\", \"sepal width (cm)\"]]\n",
    "Y = iris_df_cp[\"target\"]\n",
    "\n",
    "# Splitting the dataset into train and test sets.\n",
    "X_train_iris, X_test_iris, Y_train_iris, Y_test_iris = train_test_split(X, Y, test_size=0.2)\n"
   ]
  },
  {
   "cell_type": "code",
   "execution_count": 28,
   "id": "f1d1b3b5",
   "metadata": {},
   "outputs": [
    {
     "name": "stdout",
     "output_type": "stream",
     "text": [
      "     sepal length  sepal width  target  predicted\n",
      "0             0.0          0.0     0.0        0.0\n",
      "1             0.0          0.0     0.0        0.0\n",
      "2             0.0          0.0     0.0        0.0\n",
      "3             4.3          3.0     0.0        0.0\n",
      "4             0.0          0.0     0.0        0.0\n",
      "..            ...          ...     ...        ...\n",
      "115           5.7          4.4     0.0        0.0\n",
      "116           4.9          3.0     0.0        0.0\n",
      "117           4.9          3.1     0.0        0.0\n",
      "118           0.0          0.0     0.0        0.0\n",
      "119           6.0          2.9     1.0        1.0\n",
      "\n",
      "[120 rows x 4 columns] \n",
      "\n",
      "     sepal length  sepal width  target  predicted\n",
      "0            0.0          0.0     0.0        0.0\n",
      "1            5.7          2.8     1.0        1.0\n",
      "2            4.4          2.9     0.0        0.0\n",
      "3            6.5          2.8     1.0        1.0\n",
      "4            5.0          3.5     0.0        0.0\n",
      "5            5.0          3.0     0.0        0.0\n",
      "6            6.1          2.8     1.0        1.0\n",
      "7            5.1          3.7     0.0        0.0\n",
      "8            5.2          3.5     0.0        0.0\n",
      "9            0.0          0.0     0.0        0.0\n",
      "10           0.0          0.0     0.0        0.0\n",
      "11           5.4          3.7     0.0        0.0\n",
      "12           5.9          3.0     1.0        1.0\n",
      "13           0.0          0.0     0.0        0.0\n",
      "14           5.8          2.7     1.0        1.0\n",
      "15           0.0          0.0     0.0        0.0\n",
      "16           5.2          2.7     1.0        1.0\n",
      "17           0.0          0.0     0.0        0.0\n",
      "18           0.0          0.0     0.0        0.0\n",
      "19           6.9          3.1     1.0        1.0\n",
      "20           4.7          3.2     0.0        0.0\n",
      "21           0.0          0.0     0.0        0.0\n",
      "22           4.6          3.2     0.0        0.0\n",
      "23           0.0          0.0     0.0        0.0\n",
      "24           5.7          2.8     1.0        1.0\n",
      "25           6.2          2.2     1.0        1.0\n",
      "26           6.7          3.0     1.0        1.0\n",
      "27           4.9          3.6     0.0        0.0\n",
      "28           0.0          0.0     0.0        0.0\n",
      "29           0.0          0.0     0.0        0.0\n"
     ]
    }
   ],
   "source": [
    "from sklearn.linear_model import LogisticRegression \n",
    "\n",
    "log = LogisticRegression().fit(X_train_iris, Y_train_iris) \n",
    "Y_p_train = log.predict(X_train_iris)\n",
    "Y_p_test = log.predict(X_test_iris) \n",
    "\n",
    "df_train = pd.DataFrame(np.array(\n",
    "        np.transpose(\n",
    "            [X_train_iris.iloc[:,0], X_train_iris.iloc[:,1], Y_train_iris, Y_p_train]\n",
    "            )\n",
    "        ),\n",
    "    columns=[\"sepal length\", \"sepal width\", \"target\", \"predicted\"])\n",
    "\n",
    "df_test = pd.DataFrame(np.array(\n",
    "        np.transpose(\n",
    "            [X_test_iris.iloc[:,0], X_test_iris.iloc[:,1], Y_test_iris, Y_p_test]\n",
    "            )\n",
    "        ),\n",
    "    columns=[\"sepal length\", \"sepal width\", \"target\", \"predicted\"])\n",
    "\n",
    "print(df_train,'\\n\\n', df_test)"
   ]
  },
  {
   "cell_type": "code",
   "execution_count": 29,
   "id": "c23e4eb1",
   "metadata": {},
   "outputs": [
    {
     "name": "stdout",
     "output_type": "stream",
     "text": [
      "accuracy: 1.0, f1_score: 1.0, auc: 1.0\n"
     ]
    }
   ],
   "source": [
    "from sklearn.metrics import f1_score, accuracy_score, roc_auc_score \n",
    "\n",
    "accuracy = accuracy_score(Y_test_iris, Y_p_test, normalize=True)\n",
    "f1_scoer = f1_score(Y_test_iris, Y_p_test)\n",
    "auc = roc_auc_score(Y_test_iris, log.decision_function(X_test_iris))\n",
    "\n",
    "print(f\"accuracy: {accuracy}, f1_score: {f1_scoer}, auc: {auc}\")"
   ]
  },
  {
   "cell_type": "markdown",
   "id": "edc1fbbc-ba88-4015-af9d-ed7a6d2a70a5",
   "metadata": {},
   "source": [
    "## Fit and predict Gradient Descent (without feature scaling)"
   ]
  },
  {
   "cell_type": "code",
   "execution_count": 30,
   "id": "2819af0d",
   "metadata": {},
   "outputs": [],
   "source": [
    "from sklearn.linear_model import SGDClassifier \n",
    "sgd = SGDClassifier(max_iter=10000, tol=1e-3, loss='log_loss', random_state=0, penalty='none').fit(X_train_iris, Y_train_iris)\n",
    "Y_p_train = sgd.predict(X_train_iris)\n",
    "Y_p_test = sgd.predict(X_test_iris) "
   ]
  },
  {
   "cell_type": "code",
   "execution_count": 31,
   "id": "173fbcac",
   "metadata": {},
   "outputs": [
    {
     "name": "stdout",
     "output_type": "stream",
     "text": [
      "     sepal length  sepal width  target  predicted\n",
      "0             0.0          0.0     0.0        0.0\n",
      "1             0.0          0.0     0.0        0.0\n",
      "2             0.0          0.0     0.0        0.0\n",
      "3             4.3          3.0     0.0        0.0\n",
      "4             0.0          0.0     0.0        0.0\n",
      "..            ...          ...     ...        ...\n",
      "115           5.7          4.4     0.0        0.0\n",
      "116           4.9          3.0     0.0        0.0\n",
      "117           4.9          3.1     0.0        0.0\n",
      "118           0.0          0.0     0.0        0.0\n",
      "119           6.0          2.9     1.0        1.0\n",
      "\n",
      "[120 rows x 4 columns] \n",
      "\n",
      "     sepal length  sepal width  target  predicted\n",
      "0            0.0          0.0     0.0        0.0\n",
      "1            5.7          2.8     1.0        1.0\n",
      "2            4.4          2.9     0.0        0.0\n",
      "3            6.5          2.8     1.0        1.0\n",
      "4            5.0          3.5     0.0        0.0\n",
      "5            5.0          3.0     0.0        0.0\n",
      "6            6.1          2.8     1.0        1.0\n",
      "7            5.1          3.7     0.0        0.0\n",
      "8            5.2          3.5     0.0        0.0\n",
      "9            0.0          0.0     0.0        0.0\n",
      "10           0.0          0.0     0.0        0.0\n",
      "11           5.4          3.7     0.0        0.0\n",
      "12           5.9          3.0     1.0        1.0\n",
      "13           0.0          0.0     0.0        0.0\n",
      "14           5.8          2.7     1.0        1.0\n",
      "15           0.0          0.0     0.0        0.0\n",
      "16           5.2          2.7     1.0        1.0\n",
      "17           0.0          0.0     0.0        0.0\n",
      "18           0.0          0.0     0.0        0.0\n",
      "19           6.9          3.1     1.0        1.0\n",
      "20           4.7          3.2     0.0        0.0\n",
      "21           0.0          0.0     0.0        0.0\n",
      "22           4.6          3.2     0.0        0.0\n",
      "23           0.0          0.0     0.0        0.0\n",
      "24           5.7          2.8     1.0        1.0\n",
      "25           6.2          2.2     1.0        1.0\n",
      "26           6.7          3.0     1.0        1.0\n",
      "27           4.9          3.6     0.0        0.0\n",
      "28           0.0          0.0     0.0        0.0\n",
      "29           0.0          0.0     0.0        0.0\n"
     ]
    }
   ],
   "source": [
    "# Define new dataframe for train set with predicted target with SGD.\n",
    "sgd_df_train = pd.DataFrame(np.array(\n",
    "        np.transpose(\n",
    "            [X_train_iris.iloc[:,0], \n",
    "             X_train_iris.iloc[:,1], \n",
    "             Y_train_iris, Y_p_train]\n",
    "            )\n",
    "        ),\n",
    "    columns=[\"sepal length\", \"sepal width\", \"target\", \"predicted\"])\n",
    "\n",
    "# Define new dataframe for test set with predicted target with SGD.\n",
    "sgd_df_test = pd.DataFrame(np.array(\n",
    "        np.transpose(\n",
    "            [X_test_iris.iloc[:,0], \n",
    "             X_test_iris.iloc[:,1], \n",
    "             Y_test_iris, Y_p_test]\n",
    "            )\n",
    "        ),\n",
    "    columns=[\"sepal length\", \"sepal width\", \"target\", \"predicted\"])\n",
    "\n",
    "print(sgd_df_train,'\\n\\n', sgd_df_test)"
   ]
  },
  {
   "cell_type": "markdown",
   "id": "cf866cca-4b1f-4b3e-a1fb-1fbf59010a02",
   "metadata": {},
   "source": [
    "### accuracy, f1-score and AUC (Training set) no feature scaling"
   ]
  },
  {
   "cell_type": "code",
   "execution_count": 32,
   "id": "25252f72",
   "metadata": {},
   "outputs": [
    {
     "name": "stdout",
     "output_type": "stream",
     "text": [
      "accuracy: 0.9833333333333333, f1_score: 0.975, auc: 0.9984375000000001\n"
     ]
    }
   ],
   "source": [
    "from sklearn.metrics import f1_score\n",
    "\n",
    "accuracy = accuracy_score(Y_train_iris, Y_p_train, normalize=True) \n",
    "f1_score = f1_score(Y_train_iris, Y_p_train) \n",
    "auc = roc_auc_score(Y_train_iris, sgd.decision_function(X_train_iris)) \n",
    "print(f\"accuracy: {accuracy}, f1_score: {f1_score}, auc: {auc}\") "
   ]
  },
  {
   "cell_type": "markdown",
   "id": "fbe0474e-b462-4b07-896f-7b8744d3004d",
   "metadata": {},
   "source": [
    "### accuracy, f1-score and AUC (Testing set) no feature scaling"
   ]
  },
  {
   "cell_type": "code",
   "execution_count": 36,
   "id": "b30dd27c",
   "metadata": {},
   "outputs": [
    {
     "name": "stdout",
     "output_type": "stream",
     "text": [
      "accuracy: 1.0, f1_score: 1.0, auc: 1.0\n"
     ]
    }
   ],
   "source": [
    "from sklearn.metrics import f1_score\n",
    "\n",
    "accuracy = accuracy_score(Y_test_iris, Y_p_test, normalize=True) \n",
    "f1_score = f1_score(Y_test_iris, Y_p_test)\n",
    "auc = roc_auc_score(Y_test_iris, sgd.decision_function(X_test_iris)) \n",
    "print(f\"accuracy: {accuracy}, f1_score: {f1_score}, auc: {auc}\") "
   ]
  },
  {
   "cell_type": "markdown",
   "id": "24af2fef-1a1a-4ba7-b63c-b2fa10b15fed",
   "metadata": {},
   "source": [
    "### plot decision boundary on testing set no feature scaling"
   ]
  },
  {
   "cell_type": "code",
   "execution_count": 37,
   "id": "fd9d3471",
   "metadata": {},
   "outputs": [
    {
     "data": {
      "image/png": "[encoded data removed]",
      "text/plain": [
       "<Figure size 432x288 with 1 Axes>"
      ]
     },
     "metadata": {
      "needs_background": "light"
     },
     "output_type": "display_data"
    }
   ],
   "source": [
    "fig = plt.figure()\n",
    "\n",
    "\n",
    "# Deviding the data in two categories with respect to the target values. \n",
    "positive_samples = sgd_df_test[sgd_df_test[\"target\"]==1]\n",
    "negative_samples = sgd_df_test[sgd_df_test[\"target\"]==0]\n",
    "\n",
    "# Plot your positive examples\n",
    "plt.scatter(positive_samples[\"sepal length\"],positive_samples[\"sepal width\"], marker='+', c ='blue')\n",
    "\n",
    "# Plot your negative examples\n",
    "plt.scatter(negative_samples[\"sepal length\"],negative_samples[\"sepal width\"], marker='o', c= 'green')\n",
    "\n",
    "w = sgd.coef_[0]\n",
    "a = -w[0] / w[1]\n",
    "xx = np.linspace(0,7)\n",
    "yy = a * xx - (sgd.intercept_[0]) / w[1]\n",
    "\n",
    "plt.plot(xx, yy, 'k-.')\n",
    "plt.show()"
   ]
  },
  {
   "cell_type": "markdown",
   "id": "405cd966-7f20-4fde-835c-c03c40ae5ee2",
   "metadata": {},
   "source": [
    "### plot confusion matrix on testing set no feature scaling"
   ]
  },
  {
   "cell_type": "code",
   "execution_count": 39,
   "id": "2ee8e6e4",
   "metadata": {},
   "outputs": [
    {
     "data": {
      "image/png": "[encoded data removed]",
      "text/plain": [
       "<Figure size 432x288 with 2 Axes>"
      ]
     },
     "metadata": {
      "needs_background": "light"
     },
     "output_type": "display_data"
    }
   ],
   "source": [
    "from sklearn.metrics import confusion_matrix, ConfusionMatrixDisplay\n",
    "\n",
    "cm = confusion_matrix(Y_test_iris, Y_p_test, labels=sgd.classes_)\n",
    "disp = ConfusionMatrixDisplay(confusion_matrix=cm, display_labels=sgd.classes_)\n",
    "disp.plot() \n",
    "plt.show() "
   ]
  },
  {
   "cell_type": "markdown",
   "id": "1262f42c-984a-4872-bf2b-188b23ae903b",
   "metadata": {
    "tags": []
   },
   "source": [
    "## Fit and predict using lbfgs optimizer (without feature scaling)"
   ]
  },
  {
   "cell_type": "code",
   "execution_count": 40,
   "id": "3b5a1beb",
   "metadata": {},
   "outputs": [
    {
     "name": "stdout",
     "output_type": "stream",
     "text": [
      "     sepal length  sepal width  target  predicted\n",
      "0             0.0          0.0     0.0        0.0\n",
      "1             0.0          0.0     0.0        0.0\n",
      "2             0.0          0.0     0.0        0.0\n",
      "3             4.3          3.0     0.0        0.0\n",
      "4             0.0          0.0     0.0        0.0\n",
      "..            ...          ...     ...        ...\n",
      "115           5.7          4.4     0.0        0.0\n",
      "116           4.9          3.0     0.0        0.0\n",
      "117           4.9          3.1     0.0        0.0\n",
      "118           0.0          0.0     0.0        0.0\n",
      "119           6.0          2.9     1.0        1.0\n",
      "\n",
      "[120 rows x 4 columns] \n",
      "\n",
      "     sepal length  sepal width  target  predicted\n",
      "0            0.0          0.0     0.0        0.0\n",
      "1            5.7          2.8     1.0        1.0\n",
      "2            4.4          2.9     0.0        0.0\n",
      "3            6.5          2.8     1.0        1.0\n",
      "4            5.0          3.5     0.0        0.0\n",
      "5            5.0          3.0     0.0        0.0\n",
      "6            6.1          2.8     1.0        1.0\n",
      "7            5.1          3.7     0.0        0.0\n",
      "8            5.2          3.5     0.0        0.0\n",
      "9            0.0          0.0     0.0        0.0\n",
      "10           0.0          0.0     0.0        0.0\n",
      "11           5.4          3.7     0.0        0.0\n",
      "12           5.9          3.0     1.0        1.0\n",
      "13           0.0          0.0     0.0        0.0\n",
      "14           5.8          2.7     1.0        1.0\n",
      "15           0.0          0.0     0.0        0.0\n",
      "16           5.2          2.7     1.0        1.0\n",
      "17           0.0          0.0     0.0        0.0\n",
      "18           0.0          0.0     0.0        0.0\n",
      "19           6.9          3.1     1.0        1.0\n",
      "20           4.7          3.2     0.0        0.0\n",
      "21           0.0          0.0     0.0        0.0\n",
      "22           4.6          3.2     0.0        0.0\n",
      "23           0.0          0.0     0.0        0.0\n",
      "24           5.7          2.8     1.0        1.0\n",
      "25           6.2          2.2     1.0        1.0\n",
      "26           6.7          3.0     1.0        1.0\n",
      "27           4.9          3.6     0.0        0.0\n",
      "28           0.0          0.0     0.0        0.0\n",
      "29           0.0          0.0     0.0        0.0\n"
     ]
    }
   ],
   "source": [
    "reg = LogisticRegression(random_state=0, solver='lbfgs', penalty='none')\n",
    "reg.fit(X_train_iris, Y_train_iris)\n",
    "\n",
    "Y_p_train = reg.predict(X_train_iris)\n",
    "Y_p_test = reg.predict(X_test_iris)\n",
    "\n",
    "# Define new dataframe for train set with predicted target with lbfgs logistic regression.\n",
    "train_lbfgs_df = pd.DataFrame(\n",
    "    np.array(\n",
    "        np.transpose(\n",
    "            [X_train_iris.iloc[:,0], \n",
    "             X_train_iris.iloc[:,1],\n",
    "             Y_train_iris, Y_p_train]\n",
    "        )\n",
    "    ),\n",
    "    columns=[\"sepal length\", \"sepal width\", \"target\", \"predicted\"]\n",
    "\n",
    ")\n",
    "\n",
    "# Define new dataframe for test set with predicted target with lbfgs logistic regression.\n",
    "test_lbfgs_df = pd.DataFrame(\n",
    "    np.array(\n",
    "        np.transpose(\n",
    "            [X_test_iris.iloc[:,0], \n",
    "             X_test_iris.iloc[:,1],\n",
    "             Y_test_iris, Y_p_test]\n",
    "        )\n",
    "    ),\n",
    "    columns=[\"sepal length\", \"sepal width\", \"target\", \"predicted\"]\n",
    ")\n",
    "\n",
    "print(train_lbfgs_df,'\\n\\n', test_lbfgs_df)"
   ]
  },
  {
   "cell_type": "markdown",
   "id": "a4103f29-d722-4a9b-882e-9c9241219caa",
   "metadata": {},
   "source": [
    "### accuracy, f1-score and AUC (Training set) no feature scaling"
   ]
  },
  {
   "cell_type": "code",
   "execution_count": 41,
   "id": "10381463",
   "metadata": {},
   "outputs": [
    {
     "name": "stdout",
     "output_type": "stream",
     "text": [
      "accuracy: 1.0, f1_score: 1.0, auc: 1.0\n"
     ]
    }
   ],
   "source": [
    "from sklearn.metrics import f1_score\n",
    "\n",
    "accuracy = accuracy_score(Y_train_iris, Y_p_train, normalize=True) \n",
    "f1_score = f1_score(Y_train_iris, Y_p_train) \n",
    "auc = roc_auc_score(Y_train_iris, reg.decision_function(X_train_iris)) \n",
    "print(f\"accuracy: {accuracy}, f1_score: {f1_score}, auc: {auc}\") "
   ]
  },
  {
   "cell_type": "markdown",
   "id": "e4a6c11b-e987-40fb-84b6-568ef0d23bf6",
   "metadata": {},
   "source": [
    "### accuracy, f1-score and AUC (Testing set) no feature scaling"
   ]
  },
  {
   "cell_type": "code",
   "execution_count": 43,
   "id": "9c6b4ca9",
   "metadata": {},
   "outputs": [
    {
     "name": "stdout",
     "output_type": "stream",
     "text": [
      "accuracy: 1.0, f1_score: 1.0, auc: 1.0\n"
     ]
    }
   ],
   "source": [
    "from sklearn.metrics import f1_score\n",
    "\n",
    "accuracy = accuracy_score(Y_test_iris, Y_p_test, normalize=True) \n",
    "f1_score = f1_score(Y_test_iris, Y_p_test) \n",
    "auc = roc_auc_score(Y_test_iris, reg.decision_function(X_test_iris)) \n",
    "print(f\"accuracy: {accuracy}, f1_score: {f1_score}, auc: {auc}\") "
   ]
  },
  {
   "cell_type": "markdown",
   "id": "e53f5aad-0cb0-43e3-bc9e-db6fbb12a174",
   "metadata": {},
   "source": [
    "### plot decision boundary on testing set no feature scaling"
   ]
  },
  {
   "cell_type": "code",
   "execution_count": 44,
   "id": "6d3956d3",
   "metadata": {},
   "outputs": [
    {
     "data": {
      "image/png": "[encoded data removed]",
      "text/plain": [
       "<Figure size 432x288 with 1 Axes>"
      ]
     },
     "metadata": {
      "needs_background": "light"
     },
     "output_type": "display_data"
    }
   ],
   "source": [
    "fig = plt.figure()\n",
    "\n",
    "\n",
    "# Deviding the data in two categories with respect to the target values. \n",
    "positive_samples = test_lbfgs_df[test_lbfgs_df[\"target\"]==1]\n",
    "negative_samples = test_lbfgs_df[test_lbfgs_df[\"target\"]==0]\n",
    "\n",
    "# Plot your positive examples\n",
    "plt.scatter(positive_samples[\"sepal length\"],positive_samples[\"sepal width\"], marker='+', c ='blue')\n",
    "\n",
    "# Plot your negative examples\n",
    "plt.scatter(negative_samples[\"sepal length\"],negative_samples[\"sepal width\"], marker='o', c= 'green')\n",
    "\n",
    "w = sgd.coef_[0]\n",
    "a = -w[0] / w[1]\n",
    "xx = np.linspace(0,7)\n",
    "yy = a * xx - (sgd.intercept_[0]) / w[1]\n",
    "\n",
    "plt.plot(xx, yy, 'k-.')\n",
    "plt.show()"
   ]
  },
  {
   "cell_type": "markdown",
   "id": "49954f14-f11b-4fd7-83ee-3fa9f6506cee",
   "metadata": {},
   "source": [
    "### plot confusion matrix on testing set no feature scaling"
   ]
  },
  {
   "cell_type": "code",
   "execution_count": 45,
   "id": "f001b3d3",
   "metadata": {},
   "outputs": [
    {
     "data": {
      "image/png": "[encoded data removed]",
      "text/plain": [
       "<Figure size 432x288 with 2 Axes>"
      ]
     },
     "metadata": {
      "needs_background": "light"
     },
     "output_type": "display_data"
    }
   ],
   "source": [
    "cm = confusion_matrix(Y_test_iris, Y_p_test, labels=reg.classes_)\n",
    "disp = ConfusionMatrixDisplay(confusion_matrix=cm, display_labels=reg.classes_)\n",
    "disp.plot() \n",
    "plt.show() "
   ]
  },
  {
   "cell_type": "markdown",
   "id": "9b03b8f4-6d7f-4e15-b4ff-544777124aaf",
   "metadata": {
    "tags": []
   },
   "source": [
    "## Feature scaling\n",
    "\n",
    "(feature scale your data here)"
   ]
  },
  {
   "cell_type": "code",
   "execution_count": 47,
   "id": "378eea92",
   "metadata": {},
   "outputs": [],
   "source": [
    "from sklearn.preprocessing import MinMaxScaler\n",
    "\n",
    "scaler = MinMaxScaler()\n",
    "\n",
    "scaler.fit(X_train_iris)\n",
    "\n",
    "X_train_scaled = scaler.transform(X_train_iris)\n",
    "X_test_scaled = scaler.transform(X_test_iris)"
   ]
  },
  {
   "cell_type": "markdown",
   "id": "0dfd1359-23e8-424e-9df1-945a1da60c12",
   "metadata": {},
   "source": [
    "## Fit and predict Gradient Descent (with feature scaling)"
   ]
  },
  {
   "cell_type": "code",
   "execution_count": 48,
   "id": "3c3745ca",
   "metadata": {},
   "outputs": [
    {
     "name": "stderr",
     "output_type": "stream",
     "text": [
      "c:\\Users\\Amir\\AppData\\Local\\Programs\\Python\\Python310\\lib\\site-packages\\sklearn\\base.py:450: UserWarning: X does not have valid feature names, but SGDClassifier was fitted with feature names\n",
      "  warnings.warn(\n",
      "c:\\Users\\Amir\\AppData\\Local\\Programs\\Python\\Python310\\lib\\site-packages\\sklearn\\base.py:450: UserWarning: X does not have valid feature names, but SGDClassifier was fitted with feature names\n",
      "  warnings.warn(\n"
     ]
    }
   ],
   "source": [
    "sgd_scaled = SGDClassifier(max_iter=12000,  tol=1e-3, loss='log_loss', random_state=0, penalty='none').fit(X_train_scaled, Y_train_iris)\n",
    "Y_p_train_scaled = sgd.predict(X_train_scaled)\n",
    "Y_p_test_scaled = sgd.predict(X_test_scaled)"
   ]
  },
  {
   "cell_type": "code",
   "execution_count": 49,
   "id": "911a6714",
   "metadata": {},
   "outputs": [
    {
     "name": "stdout",
     "output_type": "stream",
     "text": [
      "     sepal length  sepal width  target  predicted\n",
      "0        0.000000     0.000000     0.0        0.0\n",
      "1        0.000000     0.000000     0.0        0.0\n",
      "2        0.000000     0.000000     0.0        0.0\n",
      "3        0.614286     0.681818     0.0        0.0\n",
      "4        0.000000     0.000000     0.0        0.0\n",
      "..            ...          ...     ...        ...\n",
      "115      0.814286     1.000000     0.0        0.0\n",
      "116      0.700000     0.681818     0.0        0.0\n",
      "117      0.700000     0.704545     0.0        0.0\n",
      "118      0.000000     0.000000     0.0        0.0\n",
      "119      0.857143     0.659091     1.0        0.0\n",
      "\n",
      "[120 rows x 4 columns] \n",
      "\n",
      "     sepal length  sepal width  target  predicted\n",
      "0       0.000000     0.000000     0.0        0.0\n",
      "1       0.814286     0.636364     1.0        0.0\n",
      "2       0.628571     0.659091     0.0        0.0\n",
      "3       0.928571     0.636364     1.0        0.0\n",
      "4       0.714286     0.795455     0.0        0.0\n",
      "5       0.714286     0.681818     0.0        0.0\n",
      "6       0.871429     0.636364     1.0        0.0\n",
      "7       0.728571     0.840909     0.0        0.0\n",
      "8       0.742857     0.795455     0.0        0.0\n",
      "9       0.000000     0.000000     0.0        0.0\n",
      "10      0.000000     0.000000     0.0        0.0\n",
      "11      0.771429     0.840909     0.0        0.0\n",
      "12      0.842857     0.681818     1.0        0.0\n",
      "13      0.000000     0.000000     0.0        0.0\n",
      "14      0.828571     0.613636     1.0        0.0\n",
      "15      0.000000     0.000000     0.0        0.0\n",
      "16      0.742857     0.613636     1.0        0.0\n",
      "17      0.000000     0.000000     0.0        0.0\n",
      "18      0.000000     0.000000     0.0        0.0\n",
      "19      0.985714     0.704545     1.0        0.0\n",
      "20      0.671429     0.727273     0.0        0.0\n",
      "21      0.000000     0.000000     0.0        0.0\n",
      "22      0.657143     0.727273     0.0        0.0\n",
      "23      0.000000     0.000000     0.0        0.0\n",
      "24      0.814286     0.636364     1.0        0.0\n",
      "25      0.885714     0.500000     1.0        0.0\n",
      "26      0.957143     0.681818     1.0        0.0\n",
      "27      0.700000     0.818182     0.0        0.0\n",
      "28      0.000000     0.000000     0.0        0.0\n",
      "29      0.000000     0.000000     0.0        0.0\n"
     ]
    }
   ],
   "source": [
    "# Define new dataframe for train set with predicted target with SGD.\n",
    "sgd_df_train_scaled = pd.DataFrame(np.array(\n",
    "        np.transpose(\n",
    "            [X_train_scaled[:,0], \n",
    "            X_train_scaled[:,1],\n",
    "            Y_train_iris, Y_p_train_scaled]\n",
    "            ) \n",
    "        ),\n",
    "    columns=[\"sepal length\", \"sepal width\", \"target\", \"predicted\"])\n",
    "\n",
    "# Define new dataframe for train set with predicted target with SGD.\n",
    "sgd_df_test_scaled = pd.DataFrame(np.array(\n",
    "        np.transpose(\n",
    "            [X_test_scaled[:,0], \n",
    "            X_test_scaled[:,1], \n",
    "            Y_test_iris, Y_p_test_scaled]\n",
    "            )\n",
    "        ),\n",
    "    columns=[\"sepal length\", \"sepal width\", \"target\", \"predicted\"])\n",
    "\n",
    "print(sgd_df_train_scaled,'\\n\\n', sgd_df_test_scaled)"
   ]
  },
  {
   "cell_type": "markdown",
   "id": "2631724a-a5a1-44df-83b2-fc90d7a8cf56",
   "metadata": {},
   "source": [
    "### accuracy, f1-score and AUC (Training set) with feature scaling"
   ]
  },
  {
   "cell_type": "code",
   "execution_count": 50,
   "id": "017f336b",
   "metadata": {},
   "outputs": [
    {
     "name": "stdout",
     "output_type": "stream",
     "text": [
      "accuracy: 0.6666666666666666, f1_score: 1.0, auc: 1.0\n"
     ]
    }
   ],
   "source": [
    "from sklearn.metrics import f1_score\n",
    "\n",
    "accuracy = accuracy_score(Y_train_iris, Y_p_train_scaled, normalize=True) \n",
    "f1_score = f1_score(Y_train_iris, Y_p_train) \n",
    "auc = roc_auc_score(Y_train_iris, sgd_scaled.decision_function(X_train_scaled)) \n",
    "print(f\"accuracy: {accuracy}, f1_score: {f1_score}, auc: {auc}\") "
   ]
  },
  {
   "cell_type": "markdown",
   "id": "a3363a76-975b-42f9-be09-cd0522f00f78",
   "metadata": {},
   "source": [
    "### accuracy, f1-score and AUC (Testing set) with feature scaling"
   ]
  },
  {
   "cell_type": "code",
   "execution_count": 51,
   "id": "2e767960",
   "metadata": {},
   "outputs": [
    {
     "name": "stdout",
     "output_type": "stream",
     "text": [
      "accuracy: 0.6666666666666666, f1_score: 1.0, auc: 1.0\n"
     ]
    }
   ],
   "source": [
    "from sklearn.metrics import f1_score\n",
    "\n",
    "accuracy = accuracy_score(Y_test_iris, Y_p_test_scaled, normalize=True) \n",
    "f1_score = f1_score(Y_test_iris, Y_p_test) \n",
    "auc = roc_auc_score(Y_test_iris, sgd_scaled.decision_function(X_test_scaled)) \n",
    "print(f\"accuracy: {accuracy}, f1_score: {f1_score}, auc: {auc}\") "
   ]
  },
  {
   "cell_type": "markdown",
   "id": "0216411e-f538-42b2-a431-e6d3d9f77cce",
   "metadata": {},
   "source": [
    "### plot decision boundary on testing set with feature scaling"
   ]
  },
  {
   "cell_type": "code",
   "execution_count": 53,
   "id": "00923d48",
   "metadata": {},
   "outputs": [
    {
     "data": {
      "image/png": "[encoded data removed]",
      "text/plain": [
       "<Figure size 432x288 with 1 Axes>"
      ]
     },
     "metadata": {
      "needs_background": "light"
     },
     "output_type": "display_data"
    }
   ],
   "source": [
    "fig = plt.figure()\n",
    "\n",
    "\n",
    "# Deviding the data in two categories with respect to the target values. \n",
    "positive_samples = sgd_df_test_scaled[sgd_df_test_scaled[\"target\"]==1]\n",
    "negative_samples = sgd_df_test_scaled[sgd_df_test_scaled[\"target\"]==0]\n",
    "\n",
    "# Plot your positive examples\n",
    "plt.scatter(positive_samples[\"sepal length\"],positive_samples[\"sepal width\"], marker='+', c ='blue')\n",
    "\n",
    "# Plot your negative examples\n",
    "plt.scatter(negative_samples[\"sepal length\"],negative_samples[\"sepal width\"], marker='o', c= 'green')\n",
    "\n",
    "w = sgd_scaled.coef_[0]\n",
    "a = -w[0] / w[1]\n",
    "xx = np.linspace(0,1)\n",
    "yy = a * xx - (sgd_scaled.intercept_[0]) / w[1]\n",
    "\n",
    "plt.plot(xx, yy, 'k-.')\n",
    "plt.show()"
   ]
  },
  {
   "cell_type": "markdown",
   "id": "99d1a901-5826-4598-bca7-249dd7bdbf47",
   "metadata": {},
   "source": [
    "### plot confusion matrix on testing set with feature scaling"
   ]
  },
  {
   "cell_type": "code",
   "execution_count": 54,
   "id": "bcd23c30",
   "metadata": {},
   "outputs": [
    {
     "data": {
      "image/png": "[encoded data removed]",
      "text/plain": [
       "<Figure size 432x288 with 2 Axes>"
      ]
     },
     "metadata": {
      "needs_background": "light"
     },
     "output_type": "display_data"
    }
   ],
   "source": [
    "cm = confusion_matrix(Y_test_iris, Y_p_test_scaled, labels=sgd_scaled.classes_)\n",
    "disp = ConfusionMatrixDisplay(confusion_matrix=cm, display_labels=sgd_scaled.classes_)\n",
    "disp.plot() \n",
    "plt.show() "
   ]
  },
  {
   "cell_type": "markdown",
   "id": "84deea66-00a7-4552-b14c-33dd27847280",
   "metadata": {},
   "source": [
    "## Fit and predict using lbfgs optimizer (with feature scaling)"
   ]
  },
  {
   "cell_type": "code",
   "execution_count": 59,
   "id": "f843532e",
   "metadata": {},
   "outputs": [
    {
     "name": "stdout",
     "output_type": "stream",
     "text": [
      "     sepal length  sepal width  target  predicted\n",
      "0             0.0          0.0     0.0        0.0\n",
      "1             0.0          0.0     0.0        0.0\n",
      "2             0.0          0.0     0.0        0.0\n",
      "3             4.3          3.0     0.0        0.0\n",
      "4             0.0          0.0     0.0        0.0\n",
      "..            ...          ...     ...        ...\n",
      "115           5.7          4.4     0.0        0.0\n",
      "116           4.9          3.0     0.0        0.0\n",
      "117           4.9          3.1     0.0        0.0\n",
      "118           0.0          0.0     0.0        0.0\n",
      "119           6.0          2.9     1.0        1.0\n",
      "\n",
      "[120 rows x 4 columns] \n",
      "\n",
      "     sepal length  sepal width  target  predicted\n",
      "0            0.0          0.0     0.0        0.0\n",
      "1            5.7          2.8     1.0        1.0\n",
      "2            4.4          2.9     0.0        0.0\n",
      "3            6.5          2.8     1.0        1.0\n",
      "4            5.0          3.5     0.0        0.0\n",
      "5            5.0          3.0     0.0        0.0\n",
      "6            6.1          2.8     1.0        1.0\n",
      "7            5.1          3.7     0.0        0.0\n",
      "8            5.2          3.5     0.0        0.0\n",
      "9            0.0          0.0     0.0        0.0\n",
      "10           0.0          0.0     0.0        0.0\n",
      "11           5.4          3.7     0.0        0.0\n",
      "12           5.9          3.0     1.0        1.0\n",
      "13           0.0          0.0     0.0        0.0\n",
      "14           5.8          2.7     1.0        1.0\n",
      "15           0.0          0.0     0.0        0.0\n",
      "16           5.2          2.7     1.0        1.0\n",
      "17           0.0          0.0     0.0        0.0\n",
      "18           0.0          0.0     0.0        0.0\n",
      "19           6.9          3.1     1.0        1.0\n",
      "20           4.7          3.2     0.0        0.0\n",
      "21           0.0          0.0     0.0        0.0\n",
      "22           4.6          3.2     0.0        0.0\n",
      "23           0.0          0.0     0.0        0.0\n",
      "24           5.7          2.8     1.0        1.0\n",
      "25           6.2          2.2     1.0        1.0\n",
      "26           6.7          3.0     1.0        1.0\n",
      "27           4.9          3.6     0.0        0.0\n",
      "28           0.0          0.0     0.0        0.0\n",
      "29           0.0          0.0     0.0        0.0\n"
     ]
    }
   ],
   "source": [
    "reg_scaled = LogisticRegression(random_state=10, solver='lbfgs', penalty='none')\n",
    "reg_scaled.fit(X_train_scaled, Y_train_iris)\n",
    "\n",
    "Y_p_train = reg_scaled.predict(X_train_scaled)\n",
    "Y_p_test = reg_scaled.predict(X_test_scaled)\n",
    "\n",
    "# Define new dataframe for train set with predicted target with lbfgs logistic regression.\n",
    "train_lbfgs_df = pd.DataFrame(\n",
    "    np.array(\n",
    "        np.transpose(\n",
    "            [X_train_iris.iloc[:,0], \n",
    "             X_train_iris.iloc[:,1],\n",
    "             Y_train_iris, Y_p_train]\n",
    "        )\n",
    "    ),\n",
    "    columns=[\"sepal length\", \"sepal width\", \"target\", \"predicted\"]\n",
    "\n",
    ")\n",
    "\n",
    "# Define new dataframe for test set with predicted target with lbfgs logistic regression.\n",
    "test_lbfgs_df = pd.DataFrame(\n",
    "    np.array(\n",
    "        np.transpose(\n",
    "            [X_test_iris.iloc[:,0], \n",
    "             X_test_iris.iloc[:,1],\n",
    "             Y_test_iris, Y_p_test]\n",
    "        )\n",
    "    ),\n",
    "    columns=[\"sepal length\", \"sepal width\", \"target\", \"predicted\"]\n",
    ")\n",
    "\n",
    "print(train_lbfgs_df,'\\n\\n', test_lbfgs_df)"
   ]
  },
  {
   "cell_type": "markdown",
   "id": "393e766b-f0bb-41b9-b6f5-07cf346f4f7a",
   "metadata": {},
   "source": [
    "### accuracy, f1-score and AUC (Training set) with feature scaling"
   ]
  },
  {
   "cell_type": "code",
   "execution_count": 60,
   "id": "2072c0ac",
   "metadata": {},
   "outputs": [
    {
     "name": "stdout",
     "output_type": "stream",
     "text": [
      "accuracy: 1.0, f1_score: 1.0, auc: 1.0\n"
     ]
    }
   ],
   "source": [
    "from sklearn.metrics import f1_score\n",
    "\n",
    "accuracy = accuracy_score(Y_train_iris, Y_p_train, normalize=True) \n",
    "f1_score = f1_score(Y_train_iris, Y_p_train) \n",
    "auc = roc_auc_score(Y_train_iris, reg_scaled.decision_function(X_train_scaled)) \n",
    "print(f\"accuracy: {accuracy}, f1_score: {f1_score}, auc: {auc}\") "
   ]
  },
  {
   "cell_type": "markdown",
   "id": "9b95e9b5-8335-4369-83ac-c8450aa7bd54",
   "metadata": {},
   "source": [
    "### accuracy, f1-score and AUC (Testing set) with feature scaling"
   ]
  },
  {
   "cell_type": "code",
   "execution_count": 61,
   "id": "a415e1b8",
   "metadata": {},
   "outputs": [
    {
     "name": "stdout",
     "output_type": "stream",
     "text": [
      "accuracy: 1.0, f1_score: 1.0, auc: 1.0\n"
     ]
    }
   ],
   "source": [
    "from sklearn.metrics import f1_score\n",
    "\n",
    "accuracy = accuracy_score(Y_test_iris, Y_p_test, normalize=True) \n",
    "f1_score = f1_score(Y_test_iris, Y_p_test) \n",
    "auc = roc_auc_score(Y_test_iris, reg_scaled.decision_function(X_test_scaled)) \n",
    "print(f\"accuracy: {accuracy}, f1_score: {f1_score}, auc: {auc}\") "
   ]
  },
  {
   "cell_type": "markdown",
   "id": "b355dbab-23e4-4bf2-9035-58b744884a16",
   "metadata": {},
   "source": [
    "### plot decision boundary on testing set with feature scaling"
   ]
  },
  {
   "cell_type": "code",
   "execution_count": 62,
   "id": "fb41918d",
   "metadata": {},
   "outputs": [
    {
     "data": {
      "image/png": "[encoded data removed]",
      "text/plain": [
       "<Figure size 432x288 with 1 Axes>"
      ]
     },
     "metadata": {
      "needs_background": "light"
     },
     "output_type": "display_data"
    }
   ],
   "source": [
    "fig = plt.figure()\n",
    "\n",
    "\n",
    "# Deviding the data in two categories with respect to the target values. \n",
    "positive_samples = test_lbfgs_df[test_lbfgs_df[\"target\"]==1]\n",
    "negative_samples = test_lbfgs_df[test_lbfgs_df[\"target\"]==0]\n",
    "\n",
    "# Plot your positive examples\n",
    "plt.scatter(positive_samples[\"sepal length\"],positive_samples[\"sepal width\"], marker='+', c ='blue')\n",
    "\n",
    "# Plot your negative examples\n",
    "plt.scatter(negative_samples[\"sepal length\"],negative_samples[\"sepal width\"], marker='o', c= 'green')\n",
    "\n",
    "w = reg_scaled.coef_[0]\n",
    "a = -w[0] / w[1]\n",
    "xx = np.linspace(0,7)\n",
    "yy = a * xx - (reg_scaled.intercept_[0]) / w[1]\n",
    "\n",
    "plt.plot(xx, yy, 'k-.')\n",
    "plt.show()"
   ]
  },
  {
   "cell_type": "markdown",
   "id": "41c27e9d-4cc7-45fc-9093-b09c4031af2d",
   "metadata": {},
   "source": [
    "### plot confusion matrix on testing set with feature scaling"
   ]
  },
  {
   "cell_type": "code",
   "execution_count": 63,
   "id": "11c50445",
   "metadata": {},
   "outputs": [
    {
     "data": {
      "image/png": "[encoded data removed]",
      "text/plain": [
       "<Figure size 432x288 with 2 Axes>"
      ]
     },
     "metadata": {
      "needs_background": "light"
     },
     "output_type": "display_data"
    }
   ],
   "source": [
    "cm = confusion_matrix(Y_test_iris, Y_p_test, labels=reg_scaled.classes_)\n",
    "disp = ConfusionMatrixDisplay(confusion_matrix=cm, display_labels=reg_scaled.classes_)\n",
    "disp.plot() \n",
    "plt.show() "
   ]
  },
  {
   "cell_type": "markdown",
   "id": "642dc443-c0ed-4d9d-b96f-565440cf983f",
   "metadata": {
    "tags": []
   },
   "source": [
    "# Multinomial Logistic Regression\n",
    "\n",
    "(Grab appropriate features and data split)\n",
    "## No Feature Scaling"
   ]
  },
  {
   "cell_type": "code",
   "execution_count": 64,
   "id": "94ef14f8",
   "metadata": {},
   "outputs": [],
   "source": [
    "# Select the desired columns. \n",
    "X = iris_df_cp[[\"sepal length (cm)\", \"sepal width (cm)\",\n",
    "                \"petal length (cm)\", \"petal width (cm)\"]]\n",
    "Y = iris_df_cp[\"target\"]\n",
    "\n",
    "# Splitting the dataset into train and test sets.\n",
    "X_train_iris, X_test_iris, Y_train_iris, Y_test_iris = train_test_split(X, Y, test_size=0.2)"
   ]
  },
  {
   "cell_type": "markdown",
   "id": "ec613427-d8bb-4658-8e32-38f1c60f68a2",
   "metadata": {
    "tags": []
   },
   "source": [
    "## Fit and predict Gradient Descent (without feature scaling)"
   ]
  },
  {
   "cell_type": "code",
   "execution_count": 65,
   "id": "bf7f5529",
   "metadata": {},
   "outputs": [
    {
     "name": "stdout",
     "output_type": "stream",
     "text": [
      "     sepal length  sepal width  petal length  petal width  target  predicted\n",
      "0             5.0          3.2           1.2          0.2     0.0        0.0\n",
      "1             6.9          3.1           4.9          1.5     1.0        1.0\n",
      "2             5.0          3.5           1.6          0.6     0.0        0.0\n",
      "3             4.4          2.9           1.4          0.2     0.0        0.0\n",
      "4             0.0          0.0           0.0          0.0     0.0        0.0\n",
      "..            ...          ...           ...          ...     ...        ...\n",
      "115           4.8          3.0           1.4          0.1     0.0        0.0\n",
      "116           5.9          3.0           4.2          1.5     1.0        1.0\n",
      "117           5.0          3.6           1.4          0.2     0.0        0.0\n",
      "118           0.0          0.0           0.0          0.0     0.0        0.0\n",
      "119           0.0          0.0           0.0          0.0     0.0        0.0\n",
      "\n",
      "[120 rows x 6 columns] \n",
      "\n",
      "     sepal length  sepal width  petal length  petal width  target  predicted\n",
      "0            0.0          0.0           0.0          0.0     0.0        0.0\n",
      "1            4.4          3.2           1.3          0.2     0.0        0.0\n",
      "2            6.0          3.4           4.5          1.6     1.0        1.0\n",
      "3            0.0          0.0           0.0          0.0     0.0        0.0\n",
      "4            0.0          0.0           0.0          0.0     0.0        0.0\n",
      "5            6.0          2.9           4.5          1.5     1.0        1.0\n",
      "6            0.0          0.0           0.0          0.0     0.0        0.0\n",
      "7            5.1          3.4           1.5          0.2     0.0        0.0\n",
      "8            5.8          2.7           4.1          1.0     1.0        1.0\n",
      "9            5.4          3.9           1.7          0.4     0.0        0.0\n",
      "10           0.0          0.0           0.0          0.0     0.0        0.0\n",
      "11           5.6          2.5           3.9          1.1     1.0        1.0\n",
      "12           5.7          2.9           4.2          1.3     1.0        1.0\n",
      "13           6.3          2.5           4.9          1.5     1.0        1.0\n",
      "14           0.0          0.0           0.0          0.0     0.0        0.0\n",
      "15           5.4          3.0           4.5          1.5     1.0        1.0\n",
      "16           6.6          2.9           4.6          1.3     1.0        1.0\n",
      "17           0.0          0.0           0.0          0.0     0.0        0.0\n",
      "18           5.5          2.4           3.8          1.1     1.0        1.0\n",
      "19           5.6          2.9           3.6          1.3     1.0        1.0\n",
      "20           0.0          0.0           0.0          0.0     0.0        0.0\n",
      "21           0.0          0.0           0.0          0.0     0.0        0.0\n",
      "22           5.5          2.4           3.7          1.0     1.0        1.0\n",
      "23           5.4          3.9           1.3          0.4     0.0        0.0\n",
      "24           0.0          0.0           0.0          0.0     0.0        0.0\n",
      "25           5.5          2.3           4.0          1.3     1.0        1.0\n",
      "26           0.0          0.0           0.0          0.0     0.0        0.0\n",
      "27           5.2          3.4           1.4          0.2     0.0        0.0\n",
      "28           5.5          2.6           4.4          1.2     1.0        1.0\n",
      "29           5.6          3.0           4.5          1.5     1.0        1.0\n"
     ]
    }
   ],
   "source": [
    "sgd = SGDClassifier(max_iter=10000, tol=1e-3, loss='log_loss', random_state=0, penalty='none').fit(X_train_iris, Y_train_iris)\n",
    "Y_p_train = sgd.predict(X_train_iris)\n",
    "Y_p_test = sgd.predict(X_test_iris) \n",
    "\n",
    "# Define new dataframe for train set with predicted target with SGD.\n",
    "sgd_df_train = pd.DataFrame(np.array(\n",
    "        np.transpose(\n",
    "            [X_train_iris.iloc[:,0],\n",
    "             X_train_iris.iloc[:,1],\n",
    "             X_train_iris.iloc[:,2],\n",
    "             X_train_iris.iloc[:,3],\n",
    "              Y_train_iris, Y_p_train]\n",
    "            )\n",
    "        ),\n",
    "    columns=[\"sepal length\", \"sepal width\", \"petal length\", \"petal width\", \"target\", \"predicted\"])\n",
    "\n",
    "# Define new dataframe for test set with predicted target with SGD.\n",
    "sgd_df_test = pd.DataFrame(np.array(\n",
    "        np.transpose(\n",
    "            [X_test_iris.iloc[:,0],\n",
    "             X_test_iris.iloc[:,1],\n",
    "             X_test_iris.iloc[:,2],\n",
    "             X_test_iris.iloc[:,3],\n",
    "             Y_test_iris, Y_p_test]\n",
    "            )\n",
    "        ),\n",
    "    columns=[\"sepal length\", \"sepal width\", \"petal length\", \"petal width\", \"target\", \"predicted\"])\n",
    "\n",
    "print(sgd_df_train,'\\n\\n', sgd_df_test)"
   ]
  },
  {
   "cell_type": "markdown",
   "id": "ac242a19-6bad-484a-8245-66755ad33179",
   "metadata": {},
   "source": [
    "### accuracy(Training set) No feature scaling"
   ]
  },
  {
   "cell_type": "code",
   "execution_count": 66,
   "id": "2bea84ef",
   "metadata": {},
   "outputs": [
    {
     "name": "stdout",
     "output_type": "stream",
     "text": [
      "accuracy: 1.0, f1_score: 1.0, auc: 1.0\n"
     ]
    }
   ],
   "source": [
    "from sklearn.metrics import f1_score\n",
    "\n",
    "accuracy = accuracy_score(Y_train_iris, Y_p_train, normalize=True) \n",
    "f1_score = f1_score(Y_train_iris, Y_p_train) \n",
    "auc = roc_auc_score(Y_train_iris, sgd.decision_function(X_train_iris)) \n",
    "print(f\"accuracy: {accuracy}, f1_score: {f1_score}, auc: {auc}\") "
   ]
  },
  {
   "cell_type": "markdown",
   "id": "f52dbe69-b3c4-45cc-8d2c-c0da6c1d6371",
   "metadata": {
    "tags": []
   },
   "source": [
    "### accuracy(Testing set) No feature scaling"
   ]
  },
  {
   "cell_type": "code",
   "execution_count": 67,
   "id": "4aa47746",
   "metadata": {},
   "outputs": [
    {
     "name": "stdout",
     "output_type": "stream",
     "text": [
      "accuracy: 1.0, f1_score: 1.0, auc: 1.0\n"
     ]
    }
   ],
   "source": [
    "from sklearn.metrics import f1_score\n",
    "\n",
    "accuracy = accuracy_score(Y_test_iris, Y_p_test, normalize=True) \n",
    "f1_score = f1_score(Y_test_iris, Y_p_test) \n",
    "auc = roc_auc_score(Y_test_iris, sgd.decision_function(X_test_iris)) \n",
    "print(f\"accuracy: {accuracy}, f1_score: {f1_score}, auc: {auc}\") "
   ]
  },
  {
   "cell_type": "markdown",
   "id": "c93e5976-e877-4dbf-b319-a1956499d9ce",
   "metadata": {
    "tags": []
   },
   "source": [
    "## Fit and predict using lbfgs optimizer (without feature scaling)"
   ]
  },
  {
   "cell_type": "code",
   "execution_count": 68,
   "id": "5365e326",
   "metadata": {},
   "outputs": [
    {
     "name": "stdout",
     "output_type": "stream",
     "text": [
      "     sepal length  sepal width  petal length  petal width  target  predicted\n",
      "0             5.0          3.2           1.2          0.2     0.0        0.0\n",
      "1             6.9          3.1           4.9          1.5     1.0        1.0\n",
      "2             5.0          3.5           1.6          0.6     0.0        0.0\n",
      "3             4.4          2.9           1.4          0.2     0.0        0.0\n",
      "4             0.0          0.0           0.0          0.0     0.0        0.0\n",
      "..            ...          ...           ...          ...     ...        ...\n",
      "115           4.8          3.0           1.4          0.1     0.0        0.0\n",
      "116           5.9          3.0           4.2          1.5     1.0        1.0\n",
      "117           5.0          3.6           1.4          0.2     0.0        0.0\n",
      "118           0.0          0.0           0.0          0.0     0.0        0.0\n",
      "119           0.0          0.0           0.0          0.0     0.0        0.0\n",
      "\n",
      "[120 rows x 6 columns] \n",
      "\n",
      "     sepal length  sepal width  petal length  petal width  target  predicted\n",
      "0            0.0          0.0           0.0          0.0     0.0        0.0\n",
      "1            4.4          3.2           1.3          0.2     0.0        0.0\n",
      "2            6.0          3.4           4.5          1.6     1.0        1.0\n",
      "3            0.0          0.0           0.0          0.0     0.0        0.0\n",
      "4            0.0          0.0           0.0          0.0     0.0        0.0\n",
      "5            6.0          2.9           4.5          1.5     1.0        1.0\n",
      "6            0.0          0.0           0.0          0.0     0.0        0.0\n",
      "7            5.1          3.4           1.5          0.2     0.0        0.0\n",
      "8            5.8          2.7           4.1          1.0     1.0        1.0\n",
      "9            5.4          3.9           1.7          0.4     0.0        0.0\n",
      "10           0.0          0.0           0.0          0.0     0.0        0.0\n",
      "11           5.6          2.5           3.9          1.1     1.0        1.0\n",
      "12           5.7          2.9           4.2          1.3     1.0        1.0\n",
      "13           6.3          2.5           4.9          1.5     1.0        1.0\n",
      "14           0.0          0.0           0.0          0.0     0.0        0.0\n",
      "15           5.4          3.0           4.5          1.5     1.0        1.0\n",
      "16           6.6          2.9           4.6          1.3     1.0        1.0\n",
      "17           0.0          0.0           0.0          0.0     0.0        0.0\n",
      "18           5.5          2.4           3.8          1.1     1.0        1.0\n",
      "19           5.6          2.9           3.6          1.3     1.0        1.0\n",
      "20           0.0          0.0           0.0          0.0     0.0        0.0\n",
      "21           0.0          0.0           0.0          0.0     0.0        0.0\n",
      "22           5.5          2.4           3.7          1.0     1.0        1.0\n",
      "23           5.4          3.9           1.3          0.4     0.0        0.0\n",
      "24           0.0          0.0           0.0          0.0     0.0        0.0\n",
      "25           5.5          2.3           4.0          1.3     1.0        1.0\n",
      "26           0.0          0.0           0.0          0.0     0.0        0.0\n",
      "27           5.2          3.4           1.4          0.2     0.0        0.0\n",
      "28           5.5          2.6           4.4          1.2     1.0        1.0\n",
      "29           5.6          3.0           4.5          1.5     1.0        1.0\n"
     ]
    }
   ],
   "source": [
    "reg = LogisticRegression(random_state=0, solver='lbfgs', penalty='none')\n",
    "reg.fit(X_train_iris, Y_train_iris)\n",
    "\n",
    "Y_p_train = reg.predict(X_train_iris)\n",
    "Y_p_test = reg.predict(X_test_iris)\n",
    "\n",
    "# Define new dataframe for train set with predicted target with lbfgs logistic regression.\n",
    "train_lbfgs_df = pd.DataFrame(\n",
    "    np.array(\n",
    "        np.transpose(\n",
    "            [X_train_iris.iloc[:,0], \n",
    "             X_train_iris.iloc[:,1],\n",
    "             X_train_iris.iloc[:,2],\n",
    "             X_train_iris.iloc[:,3],\n",
    "             Y_train_iris, Y_p_train]\n",
    "        )\n",
    "    ),\n",
    "    columns=[\"sepal length\", \"sepal width\", \"petal length\", \"petal width\", \"target\", \"predicted\"]\n",
    "\n",
    ")\n",
    "\n",
    "# Define new dataframe for test set with predicted target with lbfgs logistic regression.\n",
    "test_lbfgs_df = pd.DataFrame(\n",
    "    np.array(\n",
    "        np.transpose(\n",
    "            [X_test_iris.iloc[:,0], \n",
    "             X_test_iris.iloc[:,1],\n",
    "             X_test_iris.iloc[:,2],\n",
    "             X_test_iris.iloc[:,3],\n",
    "             Y_test_iris, Y_p_test]\n",
    "        )\n",
    "    ),\n",
    "    columns=[\"sepal length\", \"sepal width\", \"petal length\", \"petal width\", \"target\", \"predicted\"]\n",
    ")\n",
    "\n",
    "print(train_lbfgs_df,'\\n\\n', test_lbfgs_df)"
   ]
  },
  {
   "cell_type": "markdown",
   "id": "bd765490-c2d6-4a6a-86df-593449f5b206",
   "metadata": {},
   "source": [
    "### accuracy(Training set) No feature scaling"
   ]
  },
  {
   "cell_type": "code",
   "execution_count": 69,
   "id": "5e09f29a",
   "metadata": {},
   "outputs": [
    {
     "name": "stdout",
     "output_type": "stream",
     "text": [
      "accuracy: 1.0, f1_score: 1.0, auc: 1.0\n"
     ]
    }
   ],
   "source": [
    "from sklearn.metrics import f1_score\n",
    "\n",
    "accuracy = accuracy_score(Y_train_iris, Y_p_train, normalize=True) \n",
    "f1_score = f1_score(Y_train_iris, Y_p_train) \n",
    "auc = roc_auc_score(Y_train_iris, reg.decision_function(X_train_iris)) \n",
    "print(f\"accuracy: {accuracy}, f1_score: {f1_score}, auc: {auc}\") "
   ]
  },
  {
   "cell_type": "markdown",
   "id": "0ac4f210-a70c-4f48-bf43-42c0f3b810ba",
   "metadata": {
    "tags": []
   },
   "source": [
    "### accuracy(Testing set) No feature scaling"
   ]
  },
  {
   "cell_type": "code",
   "execution_count": 70,
   "id": "b034402c",
   "metadata": {},
   "outputs": [
    {
     "name": "stdout",
     "output_type": "stream",
     "text": [
      "accuracy: 1.0, f1_score: 1.0, auc: 1.0\n"
     ]
    }
   ],
   "source": [
    "from sklearn.metrics import f1_score\n",
    "\n",
    "accuracy = accuracy_score(Y_test_iris, Y_p_test, normalize=True) \n",
    "f1_score = f1_score(Y_test_iris, Y_p_test) \n",
    "auc = roc_auc_score(Y_test_iris, reg.decision_function(X_test_iris)) \n",
    "print(f\"accuracy: {accuracy}, f1_score: {f1_score}, auc: {auc}\") "
   ]
  },
  {
   "cell_type": "markdown",
   "id": "e5aaf67b-5868-4cb7-a3ff-537086929044",
   "metadata": {},
   "source": [
    "## Feature scaling\n",
    "\n",
    "(feature scale your data here)"
   ]
  },
  {
   "cell_type": "code",
   "execution_count": 71,
   "id": "9067ad7d",
   "metadata": {},
   "outputs": [],
   "source": [
    "from sklearn.preprocessing import MinMaxScaler\n",
    "\n",
    "scaler = MinMaxScaler()\n",
    "\n",
    "scaler.fit(X_train_iris)\n",
    "\n",
    "X_train_scaled = scaler.transform(X_train_iris)\n",
    "X_test_scaled = scaler.transform(X_test_iris)"
   ]
  },
  {
   "cell_type": "markdown",
   "id": "37ac0a1e-53a4-4144-9e88-64394da054dd",
   "metadata": {
    "tags": []
   },
   "source": [
    "## Fit and predict Gradient Descent (with feature scaling)"
   ]
  },
  {
   "cell_type": "code",
   "execution_count": 72,
   "id": "4bd42f2b",
   "metadata": {},
   "outputs": [
    {
     "name": "stderr",
     "output_type": "stream",
     "text": [
      "c:\\Users\\Amir\\AppData\\Local\\Programs\\Python\\Python310\\lib\\site-packages\\sklearn\\base.py:450: UserWarning: X does not have valid feature names, but SGDClassifier was fitted with feature names\n",
      "  warnings.warn(\n",
      "c:\\Users\\Amir\\AppData\\Local\\Programs\\Python\\Python310\\lib\\site-packages\\sklearn\\base.py:450: UserWarning: X does not have valid feature names, but SGDClassifier was fitted with feature names\n",
      "  warnings.warn(\n"
     ]
    }
   ],
   "source": [
    "sgd_scaled = SGDClassifier(max_iter=12000,  tol=1e-3, loss='log_loss', random_state=0, penalty='none').fit(X_train_scaled, Y_train_iris)\n",
    "Y_p_train_scaled = sgd.predict(X_train_scaled)\n",
    "Y_p_test_scaled = sgd.predict(X_test_scaled) "
   ]
  },
  {
   "cell_type": "markdown",
   "id": "8a0891d9-51ad-492a-9c4d-dfd11f6f8402",
   "metadata": {},
   "source": [
    "### accuracy (Training set) with feature scaling"
   ]
  },
  {
   "cell_type": "code",
   "execution_count": 73,
   "id": "17bbacb6",
   "metadata": {},
   "outputs": [
    {
     "name": "stdout",
     "output_type": "stream",
     "text": [
      "accuracy: 1.0, f1_score: 1.0, auc: 1.0\n"
     ]
    }
   ],
   "source": [
    "from sklearn.metrics import f1_score\n",
    "\n",
    "accuracy = accuracy_score(Y_train_iris, Y_p_train_scaled, normalize=True) \n",
    "f1_score = f1_score(Y_train_iris, Y_p_train) \n",
    "auc = roc_auc_score(Y_train_iris, sgd_scaled.decision_function(X_train_scaled)) \n",
    "print(f\"accuracy: {accuracy}, f1_score: {f1_score}, auc: {auc}\") "
   ]
  },
  {
   "cell_type": "markdown",
   "id": "6eba9af2-ec8b-454e-8494-7b40fdbb1cb8",
   "metadata": {},
   "source": [
    "### accuracy (Testing set) with feature scaling"
   ]
  },
  {
   "cell_type": "code",
   "execution_count": 74,
   "id": "9b1a28a7",
   "metadata": {},
   "outputs": [
    {
     "name": "stdout",
     "output_type": "stream",
     "text": [
      "accuracy: 1.0, f1_score: 1.0, auc: 1.0\n"
     ]
    }
   ],
   "source": [
    "from sklearn.metrics import f1_score\n",
    "\n",
    "accuracy = accuracy_score(Y_test_iris, Y_p_test, normalize=True) \n",
    "f1_score = f1_score(Y_test_iris, Y_p_test) \n",
    "auc = roc_auc_score(Y_test_iris, sgd_scaled.decision_function(X_test_scaled)) \n",
    "print(f\"accuracy: {accuracy}, f1_score: {f1_score}, auc: {auc}\") "
   ]
  },
  {
   "cell_type": "markdown",
   "id": "58157e0b-fabc-4389-bb13-f85b7ff482de",
   "metadata": {
    "tags": []
   },
   "source": [
    "## Fit and predict lbfgs optimizer (with feature scaling)"
   ]
  },
  {
   "cell_type": "code",
   "execution_count": 75,
   "id": "7278433d",
   "metadata": {},
   "outputs": [
    {
     "name": "stdout",
     "output_type": "stream",
     "text": [
      "     sepal length  sepal width  petal length  petal length  target  predicted\n",
      "0             5.0          3.2           1.2           0.2     0.0        0.0\n",
      "1             6.9          3.1           4.9           1.5     1.0        1.0\n",
      "2             5.0          3.5           1.6           0.6     0.0        0.0\n",
      "3             4.4          2.9           1.4           0.2     0.0        0.0\n",
      "4             0.0          0.0           0.0           0.0     0.0        0.0\n",
      "..            ...          ...           ...           ...     ...        ...\n",
      "115           4.8          3.0           1.4           0.1     0.0        0.0\n",
      "116           5.9          3.0           4.2           1.5     1.0        1.0\n",
      "117           5.0          3.6           1.4           0.2     0.0        0.0\n",
      "118           0.0          0.0           0.0           0.0     0.0        0.0\n",
      "119           0.0          0.0           0.0           0.0     0.0        0.0\n",
      "\n",
      "[120 rows x 6 columns] \n",
      "\n",
      "     sepal length  sepal width  petal length  petal length  target  predicted\n",
      "0            0.0          0.0           0.0           0.0     0.0        0.0\n",
      "1            4.4          3.2           1.3           0.2     0.0        0.0\n",
      "2            6.0          3.4           4.5           1.6     1.0        1.0\n",
      "3            0.0          0.0           0.0           0.0     0.0        0.0\n",
      "4            0.0          0.0           0.0           0.0     0.0        0.0\n",
      "5            6.0          2.9           4.5           1.5     1.0        1.0\n",
      "6            0.0          0.0           0.0           0.0     0.0        0.0\n",
      "7            5.1          3.4           1.5           0.2     0.0        0.0\n",
      "8            5.8          2.7           4.1           1.0     1.0        1.0\n",
      "9            5.4          3.9           1.7           0.4     0.0        0.0\n",
      "10           0.0          0.0           0.0           0.0     0.0        0.0\n",
      "11           5.6          2.5           3.9           1.1     1.0        1.0\n",
      "12           5.7          2.9           4.2           1.3     1.0        1.0\n",
      "13           6.3          2.5           4.9           1.5     1.0        1.0\n",
      "14           0.0          0.0           0.0           0.0     0.0        0.0\n",
      "15           5.4          3.0           4.5           1.5     1.0        1.0\n",
      "16           6.6          2.9           4.6           1.3     1.0        1.0\n",
      "17           0.0          0.0           0.0           0.0     0.0        0.0\n",
      "18           5.5          2.4           3.8           1.1     1.0        1.0\n",
      "19           5.6          2.9           3.6           1.3     1.0        1.0\n",
      "20           0.0          0.0           0.0           0.0     0.0        0.0\n",
      "21           0.0          0.0           0.0           0.0     0.0        0.0\n",
      "22           5.5          2.4           3.7           1.0     1.0        1.0\n",
      "23           5.4          3.9           1.3           0.4     0.0        0.0\n",
      "24           0.0          0.0           0.0           0.0     0.0        0.0\n",
      "25           5.5          2.3           4.0           1.3     1.0        1.0\n",
      "26           0.0          0.0           0.0           0.0     0.0        0.0\n",
      "27           5.2          3.4           1.4           0.2     0.0        0.0\n",
      "28           5.5          2.6           4.4           1.2     1.0        1.0\n",
      "29           5.6          3.0           4.5           1.5     1.0        1.0\n"
     ]
    }
   ],
   "source": [
    "reg_scaled = LogisticRegression(random_state=0, solver='lbfgs', penalty='none')\n",
    "reg_scaled.fit(X_train_scaled, Y_train_iris)\n",
    "\n",
    "Y_p_train = reg_scaled.predict(X_train_scaled)\n",
    "Y_p_test = reg_scaled.predict(X_test_scaled)\n",
    "\n",
    "# Define new dataframe for train set with predicted target with lbfgs logistic regression.\n",
    "train_lbfgs_df = pd.DataFrame(\n",
    "    np.array(\n",
    "        np.transpose(\n",
    "            [X_train_iris.iloc[:,0], \n",
    "             X_train_iris.iloc[:,1],\n",
    "             X_train_iris.iloc[:,2],\n",
    "             X_train_iris.iloc[:,3],\n",
    "             Y_train_iris, Y_p_train]\n",
    "        )\n",
    "    ),\n",
    "    columns=[\"sepal length\", \"sepal width\", \"petal length\", \"petal length\", \"target\", \"predicted\"]\n",
    "\n",
    ")\n",
    "\n",
    "# Define new dataframe for test set with predicted target with lbfgs logistic regression.\n",
    "test_lbfgs_df = pd.DataFrame(\n",
    "    np.array(\n",
    "        np.transpose(\n",
    "            [X_test_iris.iloc[:,0], \n",
    "             X_test_iris.iloc[:,1],\n",
    "             X_test_iris.iloc[:,2],\n",
    "             X_test_iris.iloc[:,3],\n",
    "             Y_test_iris, Y_p_test]\n",
    "        )\n",
    "    ),\n",
    "    columns=[\"sepal length\", \"sepal width\", \"petal length\", \"petal length\", \"target\", \"predicted\"]\n",
    ")\n",
    "\n",
    "print(train_lbfgs_df,'\\n\\n', test_lbfgs_df)"
   ]
  },
  {
   "cell_type": "markdown",
   "id": "29d4d64c-eeef-470f-8900-5c9fd92a19d4",
   "metadata": {},
   "source": [
    "### accuracy(Training set) with feature scaling"
   ]
  },
  {
   "cell_type": "code",
   "execution_count": 76,
   "id": "06edf341",
   "metadata": {},
   "outputs": [
    {
     "name": "stdout",
     "output_type": "stream",
     "text": [
      "accuracy: 1.0, f1_score: 1.0, auc: 1.0\n"
     ]
    }
   ],
   "source": [
    "from sklearn.metrics import f1_score\n",
    "\n",
    "accuracy = accuracy_score(Y_train_iris, Y_p_train, normalize=True) \n",
    "f1_score = f1_score(Y_train_iris, Y_p_train) \n",
    "auc = roc_auc_score(Y_train_iris, reg_scaled.decision_function(X_train_scaled)) \n",
    "print(f\"accuracy: {accuracy}, f1_score: {f1_score}, auc: {auc}\") "
   ]
  },
  {
   "cell_type": "markdown",
   "id": "d0b1aead-bfe2-4165-a114-c0ba652675bb",
   "metadata": {
    "tags": []
   },
   "source": [
    "### accuracy(Testing set) with feature scaling"
   ]
  },
  {
   "cell_type": "code",
   "execution_count": 77,
   "id": "dbe49136",
   "metadata": {},
   "outputs": [
    {
     "name": "stdout",
     "output_type": "stream",
     "text": [
      "accuracy: 1.0, f1_score: <function f1_score at 0x0000019CFFAEB0A0>, auc: 1.0\n"
     ]
    }
   ],
   "source": [
    "from sklearn.metrics import f1_score\n",
    "\n",
    "accuracy = accuracy_score(Y_test_iris, Y_p_test, normalize=True) \n",
    "# f1_score = f1_este(Y_test_iris, Y_p_test) \n",
    "auc = roc_auc_score(Y_test_iris, reg_scaled.decision_function(X_test_scaled)) \n",
    "print(f\"accuracy: {accuracy}, f1_score: {f1_score}, auc: {auc}\") "
   ]
  }
 ],
 "metadata": {
  "kernelspec": {
   "display_name": "Python 3.10.5 64-bit",
   "language": "python",
   "name": "python3"
  },
  "language_info": {
   "codemirror_mode": {
    "name": "ipython",
    "version": 3
   },
   "file_extension": ".py",
   "mimetype": "text/x-python",
   "name": "python",
   "nbconvert_exporter": "python",
   "pygments_lexer": "ipython3",
   "version": "3.10.5"
  },
  "vscode": {
   "interpreter": {
    "hash": "f56a879a86e4cb184598e0f1a037d80ac9bf804487d5cf89fe943b503a6b43f5"
   }
  }
 },
 "nbformat": 4,
 "nbformat_minor": 5
}
